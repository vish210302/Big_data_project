{
  "cells": [
    {
      "cell_type": "markdown",
      "metadata": {
        "id": "IDWsdXN-DZ-0"
      },
      "source": [
        " Dataset:https://huggingface.co/datasets/syntaxnoob/weather-prediction-prototype-aws"
      ]
    },
    {
      "cell_type": "code",
      "execution_count": null,
      "metadata": {
        "id": "foXQX3nLZ7Lx"
      },
      "outputs": [],
      "source": [
        "import pandas as pd\n",
        "import numpy as  np"
      ]
    },
    {
      "cell_type": "code",
      "execution_count": null,
      "metadata": {
        "colab": {
          "base_uri": "https://localhost:8080/"
        },
        "id": "TMIfUzCo6-Q6",
        "outputId": "15205320-54f5-4f95-e5e2-b10a97b41145"
      },
      "outputs": [
        {
          "output_type": "stream",
          "name": "stdout",
          "text": [
            "Collecting datasets\n",
            "  Downloading datasets-2.19.1-py3-none-any.whl (542 kB)\n",
            "\u001b[2K     \u001b[90m━━━━━━━━━━━━━━━━━━━━━━━━━━━━━━━━━━━━━━━━\u001b[0m \u001b[32m542.0/542.0 kB\u001b[0m \u001b[31m3.5 MB/s\u001b[0m eta \u001b[36m0:00:00\u001b[0m\n",
            "\u001b[?25hRequirement already satisfied: filelock in /usr/local/lib/python3.10/dist-packages (from datasets) (3.14.0)\n",
            "Requirement already satisfied: numpy>=1.17 in /usr/local/lib/python3.10/dist-packages (from datasets) (1.25.2)\n",
            "Requirement already satisfied: pyarrow>=12.0.0 in /usr/local/lib/python3.10/dist-packages (from datasets) (14.0.2)\n",
            "Requirement already satisfied: pyarrow-hotfix in /usr/local/lib/python3.10/dist-packages (from datasets) (0.6)\n",
            "Collecting dill<0.3.9,>=0.3.0 (from datasets)\n",
            "  Downloading dill-0.3.8-py3-none-any.whl (116 kB)\n",
            "\u001b[2K     \u001b[90m━━━━━━━━━━━━━━━━━━━━━━━━━━━━━━━━━━━━━━━━\u001b[0m \u001b[32m116.3/116.3 kB\u001b[0m \u001b[31m13.0 MB/s\u001b[0m eta \u001b[36m0:00:00\u001b[0m\n",
            "\u001b[?25hRequirement already satisfied: pandas in /usr/local/lib/python3.10/dist-packages (from datasets) (2.0.3)\n",
            "Requirement already satisfied: requests>=2.19.0 in /usr/local/lib/python3.10/dist-packages (from datasets) (2.31.0)\n",
            "Requirement already satisfied: tqdm>=4.62.1 in /usr/local/lib/python3.10/dist-packages (from datasets) (4.66.2)\n",
            "Collecting xxhash (from datasets)\n",
            "  Downloading xxhash-3.4.1-cp310-cp310-manylinux_2_17_x86_64.manylinux2014_x86_64.whl (194 kB)\n",
            "\u001b[2K     \u001b[90m━━━━━━━━━━━━━━━━━━━━━━━━━━━━━━━━━━━━━━━━\u001b[0m \u001b[32m194.1/194.1 kB\u001b[0m \u001b[31m18.3 MB/s\u001b[0m eta \u001b[36m0:00:00\u001b[0m\n",
            "\u001b[?25hCollecting multiprocess (from datasets)\n",
            "  Downloading multiprocess-0.70.16-py310-none-any.whl (134 kB)\n",
            "\u001b[2K     \u001b[90m━━━━━━━━━━━━━━━━━━━━━━━━━━━━━━━━━━━━━━━━\u001b[0m \u001b[32m134.8/134.8 kB\u001b[0m \u001b[31m14.3 MB/s\u001b[0m eta \u001b[36m0:00:00\u001b[0m\n",
            "\u001b[?25hRequirement already satisfied: fsspec[http]<=2024.3.1,>=2023.1.0 in /usr/local/lib/python3.10/dist-packages (from datasets) (2023.6.0)\n",
            "Requirement already satisfied: aiohttp in /usr/local/lib/python3.10/dist-packages (from datasets) (3.9.5)\n",
            "Collecting huggingface-hub>=0.21.2 (from datasets)\n",
            "  Downloading huggingface_hub-0.23.0-py3-none-any.whl (401 kB)\n",
            "\u001b[2K     \u001b[90m━━━━━━━━━━━━━━━━━━━━━━━━━━━━━━━━━━━━━━━━\u001b[0m \u001b[32m401.2/401.2 kB\u001b[0m \u001b[31m20.6 MB/s\u001b[0m eta \u001b[36m0:00:00\u001b[0m\n",
            "\u001b[?25hRequirement already satisfied: packaging in /usr/local/lib/python3.10/dist-packages (from datasets) (24.0)\n",
            "Requirement already satisfied: pyyaml>=5.1 in /usr/local/lib/python3.10/dist-packages (from datasets) (6.0.1)\n",
            "Requirement already satisfied: aiosignal>=1.1.2 in /usr/local/lib/python3.10/dist-packages (from aiohttp->datasets) (1.3.1)\n",
            "Requirement already satisfied: attrs>=17.3.0 in /usr/local/lib/python3.10/dist-packages (from aiohttp->datasets) (23.2.0)\n",
            "Requirement already satisfied: frozenlist>=1.1.1 in /usr/local/lib/python3.10/dist-packages (from aiohttp->datasets) (1.4.1)\n",
            "Requirement already satisfied: multidict<7.0,>=4.5 in /usr/local/lib/python3.10/dist-packages (from aiohttp->datasets) (6.0.5)\n",
            "Requirement already satisfied: yarl<2.0,>=1.0 in /usr/local/lib/python3.10/dist-packages (from aiohttp->datasets) (1.9.4)\n",
            "Requirement already satisfied: async-timeout<5.0,>=4.0 in /usr/local/lib/python3.10/dist-packages (from aiohttp->datasets) (4.0.3)\n",
            "Requirement already satisfied: typing-extensions>=3.7.4.3 in /usr/local/lib/python3.10/dist-packages (from huggingface-hub>=0.21.2->datasets) (4.11.0)\n",
            "Requirement already satisfied: charset-normalizer<4,>=2 in /usr/local/lib/python3.10/dist-packages (from requests>=2.19.0->datasets) (3.3.2)\n",
            "Requirement already satisfied: idna<4,>=2.5 in /usr/local/lib/python3.10/dist-packages (from requests>=2.19.0->datasets) (3.7)\n",
            "Requirement already satisfied: urllib3<3,>=1.21.1 in /usr/local/lib/python3.10/dist-packages (from requests>=2.19.0->datasets) (2.0.7)\n",
            "Requirement already satisfied: certifi>=2017.4.17 in /usr/local/lib/python3.10/dist-packages (from requests>=2.19.0->datasets) (2024.2.2)\n",
            "Requirement already satisfied: python-dateutil>=2.8.2 in /usr/local/lib/python3.10/dist-packages (from pandas->datasets) (2.8.2)\n",
            "Requirement already satisfied: pytz>=2020.1 in /usr/local/lib/python3.10/dist-packages (from pandas->datasets) (2023.4)\n",
            "Requirement already satisfied: tzdata>=2022.1 in /usr/local/lib/python3.10/dist-packages (from pandas->datasets) (2024.1)\n",
            "Requirement already satisfied: six>=1.5 in /usr/local/lib/python3.10/dist-packages (from python-dateutil>=2.8.2->pandas->datasets) (1.16.0)\n",
            "Installing collected packages: xxhash, dill, multiprocess, huggingface-hub, datasets\n",
            "  Attempting uninstall: huggingface-hub\n",
            "    Found existing installation: huggingface-hub 0.20.3\n",
            "    Uninstalling huggingface-hub-0.20.3:\n",
            "      Successfully uninstalled huggingface-hub-0.20.3\n",
            "Successfully installed datasets-2.19.1 dill-0.3.8 huggingface-hub-0.23.0 multiprocess-0.70.16 xxhash-3.4.1\n"
          ]
        }
      ],
      "source": [
        "pip install datasets"
      ]
    },
    {
      "cell_type": "code",
      "execution_count": null,
      "metadata": {
        "id": "22C-DG3n7Je6",
        "colab": {
          "base_uri": "https://localhost:8080/",
          "height": 301,
          "referenced_widgets": [
            "e0f7e7df53f842e8a71befb269497799",
            "1c4233bd2e8a4aaead22664069be4fc1",
            "8ec60fed1dc5409dbbd712d2c207aaf3",
            "632ea987fff34427be0f50f34b131879",
            "99c5e36f12e04f7e9ac839ae5ec1390b",
            "7a33038fddb34b5b815d42778366ce61",
            "bf72403496d3480388e4710f76a911da",
            "c37e085009f64943b0799458aeee22a6",
            "38d0b24a00054a9b86564c115da971aa",
            "e4f744d7579b4ab4b8058f0eed4b8093",
            "b7873170920b4b18815ab6f01e5e9ebd",
            "0bf672ccf77a46d5bc347d3d9d6b66af",
            "933ee2fed35348a5bca73b5707f3f827",
            "1a492b82ef1b44789bcd232d10d2e7d6",
            "50bf963721fb44f78c01667f37eadf3a",
            "83055b0722d244b182811d5832de7f91",
            "056a8ae625ed4dc29b2ad85cc90992d8",
            "20570b4fe543412a9281d632aa659727",
            "ce85793249364005a13c6e52e4a2f9cd",
            "29da48da6a114286a5a6d1ea2c0132cd",
            "bcd46486a1d84c57a9f872f5473a08ca",
            "66b5d40ed9fc40d1941ca5158bb31d2c",
            "6fc3a7a716184b95aa15e320dae80811",
            "ac6e2359ade543be88d2add335804be3",
            "7a0b63c473fd4f95bc290f49c61a8484",
            "373f658e0d894fcc985cb2eb2d7b5fbf",
            "5033c886ee974577bf018fcaef72d67a",
            "0695189fe9f84d688f939f7847f846eb",
            "7d04574376a44c4faf80954d2fae3346",
            "5f0e1e6e26ae4847b89bbaf81fb02237",
            "70f2d20ffc874c9fa849a717ec9e5724",
            "4163bfc1ded14827843c3dcc08195222",
            "e697ffeffade4ba5a902c4f9f30f8692",
            "7141a02256d34592937329543b9b66d9",
            "82832fe255f046d1948b6d62557af682",
            "0845283aee7947929e1be96dcc20defb",
            "8355bd1a61564c2ebcdb0c241d58e796",
            "88c51946423b4cfebbda3ba10b8dc74a",
            "a181110d5cbb4cd0b35c98819b1aa6ca",
            "9e89cab5214e4a2dacdffac2ef5c1d2f",
            "5655c10dc9bb4c3782e00cdd044466c4",
            "4a851bd1005d4965a416ac62212f767b",
            "cfa4dcf92aaa43368343c29532476303",
            "c68834491b5c4e5296d71770187549dd",
            "bcdad4d1019348f697bb85e79d6cf631",
            "36176bd226974a14bf8921e990a7d927",
            "db2e5a0a8aaf4dbfa6a4572c59ed338e",
            "581bd8d2bf5b48d2a507c485cb83b6be",
            "92bbaa82b9fe46fab4bb059f59e83fea",
            "10718e9cd92d4af497f688d5bad8fc5d",
            "43326f5a6cd74df39af2d9b1832456da",
            "ed4ffae4327a4f5780f3e101efc75a4e",
            "84672e813c94406a8704dc085f20777d",
            "decdb91a4dad41a7b137b1a2b39d7a61",
            "e083fe343a924ccfae00d56ac899f77a"
          ]
        },
        "outputId": "3e9fbb25-d90f-4a5a-fb40-94df3898bbd4"
      },
      "outputs": [
        {
          "output_type": "stream",
          "name": "stderr",
          "text": [
            "/usr/local/lib/python3.10/dist-packages/huggingface_hub/utils/_token.py:89: UserWarning: \n",
            "The secret `HF_TOKEN` does not exist in your Colab secrets.\n",
            "To authenticate with the Hugging Face Hub, create a token in your settings tab (https://huggingface.co/settings/tokens), set it as secret in your Google Colab and restart your session.\n",
            "You will be able to reuse this secret in all of your notebooks.\n",
            "Please note that authentication is recommended but still optional to access public models or datasets.\n",
            "  warnings.warn(\n"
          ]
        },
        {
          "output_type": "display_data",
          "data": {
            "text/plain": [
              "Downloading readme:   0%|          | 0.00/835 [00:00<?, ?B/s]"
            ],
            "application/vnd.jupyter.widget-view+json": {
              "version_major": 2,
              "version_minor": 0,
              "model_id": "e0f7e7df53f842e8a71befb269497799"
            }
          },
          "metadata": {}
        },
        {
          "output_type": "display_data",
          "data": {
            "text/plain": [
              "Downloading data:   0%|          | 0.00/138M [00:00<?, ?B/s]"
            ],
            "application/vnd.jupyter.widget-view+json": {
              "version_major": 2,
              "version_minor": 0,
              "model_id": "0bf672ccf77a46d5bc347d3d9d6b66af"
            }
          },
          "metadata": {}
        },
        {
          "output_type": "display_data",
          "data": {
            "text/plain": [
              "Downloading data:   0%|          | 0.00/15.4M [00:00<?, ?B/s]"
            ],
            "application/vnd.jupyter.widget-view+json": {
              "version_major": 2,
              "version_minor": 0,
              "model_id": "6fc3a7a716184b95aa15e320dae80811"
            }
          },
          "metadata": {}
        },
        {
          "output_type": "display_data",
          "data": {
            "text/plain": [
              "Generating train split:   0%|          | 0/284024 [00:00<?, ? examples/s]"
            ],
            "application/vnd.jupyter.widget-view+json": {
              "version_major": 2,
              "version_minor": 0,
              "model_id": "7141a02256d34592937329543b9b66d9"
            }
          },
          "metadata": {}
        },
        {
          "output_type": "display_data",
          "data": {
            "text/plain": [
              "Generating test split:   0%|          | 0/31586 [00:00<?, ? examples/s]"
            ],
            "application/vnd.jupyter.widget-view+json": {
              "version_major": 2,
              "version_minor": 0,
              "model_id": "bcdad4d1019348f697bb85e79d6cf631"
            }
          },
          "metadata": {}
        }
      ],
      "source": [
        "from datasets import load_dataset\n",
        "dataset=load_dataset('syntaxnoob/weather-prediction-prototype-aws')"
      ]
    },
    {
      "cell_type": "code",
      "execution_count": null,
      "metadata": {
        "colab": {
          "base_uri": "https://localhost:8080/"
        },
        "id": "16awsTpF9ShY",
        "outputId": "1d671ebc-64c7-4fc0-b4e8-4401129ce92d"
      },
      "outputs": [
        {
          "output_type": "stream",
          "name": "stdout",
          "text": [
            "DatasetDict({\n",
            "    train: Dataset({\n",
            "        features: ['timestamp_1', 'code_1', 'air_pressure_1', 'air_temperature_1', 'relative_humidity_1', 'precipitation_1', 'wind_speed_1', 'wind_direction_1', 'timestamp_2', 'tar_timestamp_1', 'tar_timestamp_2', 'code_2', 'tar_code_1', 'tar_code_2', 'air_pressure_2', 'tar_air_pressure_1', 'tar_air_pressure_2', 'air_temperature_2', 'tar_air_temperature_1', 'tar_air_temperature_2', 'relative_humidity_2', 'tar_relative_humidity_1', 'tar_relative_humidity_2', 'precipitation_2', 'tar_precipitation_1', 'tar_precipitation_2', 'wind_speed_2', 'tar_wind_speed_1', 'tar_wind_speed_2', 'wind_direction_2', 'tar_wind_direction_1', 'tar_wind_direction_2'],\n",
            "        num_rows: 284024\n",
            "    })\n",
            "    test: Dataset({\n",
            "        features: ['timestamp_1', 'code_1', 'air_pressure_1', 'air_temperature_1', 'relative_humidity_1', 'precipitation_1', 'wind_speed_1', 'wind_direction_1', 'timestamp_2', 'tar_timestamp_1', 'tar_timestamp_2', 'code_2', 'tar_code_1', 'tar_code_2', 'air_pressure_2', 'tar_air_pressure_1', 'tar_air_pressure_2', 'air_temperature_2', 'tar_air_temperature_1', 'tar_air_temperature_2', 'relative_humidity_2', 'tar_relative_humidity_1', 'tar_relative_humidity_2', 'precipitation_2', 'tar_precipitation_1', 'tar_precipitation_2', 'wind_speed_2', 'tar_wind_speed_1', 'tar_wind_speed_2', 'wind_direction_2', 'tar_wind_direction_1', 'tar_wind_direction_2'],\n",
            "        num_rows: 31586\n",
            "    })\n",
            "})\n"
          ]
        }
      ],
      "source": [
        "print(dataset)"
      ]
    },
    {
      "cell_type": "code",
      "execution_count": null,
      "metadata": {
        "colab": {
          "base_uri": "https://localhost:8080/"
        },
        "id": "e--jsUic_Y31",
        "outputId": "44d8f75b-c65c-4d3e-ee81-71472ff3ce6d"
      },
      "outputs": [
        {
          "output_type": "stream",
          "name": "stdout",
          "text": [
            "{'timestamp_1': Value(dtype='string', id=None), 'code_1': Value(dtype='int64', id=None), 'air_pressure_1': Value(dtype='float64', id=None), 'air_temperature_1': Value(dtype='float64', id=None), 'relative_humidity_1': Value(dtype='float64', id=None), 'precipitation_1': Value(dtype='float64', id=None), 'wind_speed_1': Value(dtype='float64', id=None), 'wind_direction_1': Value(dtype='float64', id=None), 'timestamp_2': Value(dtype='string', id=None), 'tar_timestamp_1': Value(dtype='string', id=None), 'tar_timestamp_2': Value(dtype='string', id=None), 'code_2': Value(dtype='float64', id=None), 'tar_code_1': Value(dtype='float64', id=None), 'tar_code_2': Value(dtype='float64', id=None), 'air_pressure_2': Value(dtype='float64', id=None), 'tar_air_pressure_1': Value(dtype='float64', id=None), 'tar_air_pressure_2': Value(dtype='float64', id=None), 'air_temperature_2': Value(dtype='float64', id=None), 'tar_air_temperature_1': Value(dtype='float64', id=None), 'tar_air_temperature_2': Value(dtype='float64', id=None), 'relative_humidity_2': Value(dtype='float64', id=None), 'tar_relative_humidity_1': Value(dtype='float64', id=None), 'tar_relative_humidity_2': Value(dtype='float64', id=None), 'precipitation_2': Value(dtype='float64', id=None), 'tar_precipitation_1': Value(dtype='float64', id=None), 'tar_precipitation_2': Value(dtype='float64', id=None), 'wind_speed_2': Value(dtype='float64', id=None), 'tar_wind_speed_1': Value(dtype='float64', id=None), 'tar_wind_speed_2': Value(dtype='float64', id=None), 'wind_direction_2': Value(dtype='float64', id=None), 'tar_wind_direction_1': Value(dtype='float64', id=None), 'tar_wind_direction_2': Value(dtype='float64', id=None)}\n"
          ]
        }
      ],
      "source": [
        "print(dataset['train'].features)"
      ]
    },
    {
      "cell_type": "code",
      "execution_count": null,
      "metadata": {
        "colab": {
          "base_uri": "https://localhost:8080/"
        },
        "id": "I7Hhxwj3DNWO",
        "outputId": "b200ae24-59aa-41c9-9451-6ff5db22ddd2"
      },
      "outputs": [
        {
          "output_type": "stream",
          "name": "stdout",
          "text": [
            "train\n",
            "test\n"
          ]
        }
      ],
      "source": [
        "for sample in dataset:\n",
        "  print(sample)"
      ]
    },
    {
      "cell_type": "code",
      "execution_count": null,
      "metadata": {
        "id": "kDteCS1IIVRH"
      },
      "outputs": [],
      "source": [
        "train_dataset = dataset['train']\n",
        "df = train_dataset.to_pandas()\n",
        "df.to_csv('weather_data.csv', index=False)"
      ]
    },
    {
      "cell_type": "code",
      "execution_count": null,
      "metadata": {
        "colab": {
          "base_uri": "https://localhost:8080/"
        },
        "id": "KzMcbSnwGbCg",
        "outputId": "3cc708d9-6c53-4164-d351-3e14d49b230a"
      },
      "outputs": [
        {
          "output_type": "stream",
          "name": "stdout",
          "text": [
            "Collecting pyspark\n",
            "  Downloading pyspark-3.5.1.tar.gz (317.0 MB)\n",
            "\u001b[2K     \u001b[90m━━━━━━━━━━━━━━━━━━━━━━━━━━━━━━━━━━━━━━━━\u001b[0m \u001b[32m317.0/317.0 MB\u001b[0m \u001b[31m1.9 MB/s\u001b[0m eta \u001b[36m0:00:00\u001b[0m\n",
            "\u001b[?25h  Preparing metadata (setup.py) ... \u001b[?25l\u001b[?25hdone\n",
            "Requirement already satisfied: py4j==0.10.9.7 in /usr/local/lib/python3.10/dist-packages (from pyspark) (0.10.9.7)\n",
            "Building wheels for collected packages: pyspark\n",
            "  Building wheel for pyspark (setup.py) ... \u001b[?25l\u001b[?25hdone\n",
            "  Created wheel for pyspark: filename=pyspark-3.5.1-py2.py3-none-any.whl size=317488491 sha256=a3be59b0d5b7e0abfeb139c2a231f5ca72958fc6676f19dd1d1d21d79629733a\n",
            "  Stored in directory: /root/.cache/pip/wheels/80/1d/60/2c256ed38dddce2fdd93be545214a63e02fbd8d74fb0b7f3a6\n",
            "Successfully built pyspark\n",
            "Installing collected packages: pyspark\n",
            "Successfully installed pyspark-3.5.1\n"
          ]
        }
      ],
      "source": [
        "pip install pyspark"
      ]
    },
    {
      "cell_type": "code",
      "execution_count": null,
      "metadata": {
        "id": "9CWIyVUJHEog"
      },
      "outputs": [],
      "source": [
        "from pyspark.sql import SparkSession\n",
        "from pyspark.sql.functions import col"
      ]
    },
    {
      "cell_type": "markdown",
      "source": [
        "Intializing the Spark Session"
      ],
      "metadata": {
        "id": "0gnjACRb8qOy"
      }
    },
    {
      "cell_type": "code",
      "execution_count": null,
      "metadata": {
        "id": "8zdEBXxEHlF4"
      },
      "outputs": [],
      "source": [
        "spark = SparkSession.builder \\\n",
        "    .appName(\"WeatherPredictionEDA\") \\\n",
        "    .getOrCreate()\n"
      ]
    },
    {
      "cell_type": "code",
      "execution_count": null,
      "metadata": {
        "id": "pbQf4reIHxoe"
      },
      "outputs": [],
      "source": [
        "file_path = \"weather_data.csv\"\n",
        "df = spark.read.csv(file_path, header=True, inferSchema=True)\n"
      ]
    },
    {
      "cell_type": "code",
      "execution_count": null,
      "metadata": {
        "colab": {
          "base_uri": "https://localhost:8080/"
        },
        "id": "HnFqQi9HI5KN",
        "outputId": "5137b237-4dda-49ab-92f5-0ef85b83d7ca"
      },
      "outputs": [
        {
          "output_type": "stream",
          "name": "stdout",
          "text": [
            "root\n",
            " |-- timestamp_1: timestamp (nullable = true)\n",
            " |-- code_1: integer (nullable = true)\n",
            " |-- air_pressure_1: double (nullable = true)\n",
            " |-- air_temperature_1: double (nullable = true)\n",
            " |-- relative_humidity_1: double (nullable = true)\n",
            " |-- precipitation_1: double (nullable = true)\n",
            " |-- wind_speed_1: double (nullable = true)\n",
            " |-- wind_direction_1: double (nullable = true)\n",
            " |-- timestamp_2: timestamp (nullable = true)\n",
            " |-- tar_timestamp_1: timestamp (nullable = true)\n",
            " |-- tar_timestamp_2: timestamp (nullable = true)\n",
            " |-- code_2: double (nullable = true)\n",
            " |-- tar_code_1: double (nullable = true)\n",
            " |-- tar_code_2: double (nullable = true)\n",
            " |-- air_pressure_2: double (nullable = true)\n",
            " |-- tar_air_pressure_1: double (nullable = true)\n",
            " |-- tar_air_pressure_2: double (nullable = true)\n",
            " |-- air_temperature_2: double (nullable = true)\n",
            " |-- tar_air_temperature_1: double (nullable = true)\n",
            " |-- tar_air_temperature_2: double (nullable = true)\n",
            " |-- relative_humidity_2: double (nullable = true)\n",
            " |-- tar_relative_humidity_1: double (nullable = true)\n",
            " |-- tar_relative_humidity_2: double (nullable = true)\n",
            " |-- precipitation_2: double (nullable = true)\n",
            " |-- tar_precipitation_1: double (nullable = true)\n",
            " |-- tar_precipitation_2: double (nullable = true)\n",
            " |-- wind_speed_2: double (nullable = true)\n",
            " |-- tar_wind_speed_1: double (nullable = true)\n",
            " |-- tar_wind_speed_2: double (nullable = true)\n",
            " |-- wind_direction_2: double (nullable = true)\n",
            " |-- tar_wind_direction_1: double (nullable = true)\n",
            " |-- tar_wind_direction_2: double (nullable = true)\n",
            "\n"
          ]
        }
      ],
      "source": [
        "df.printSchema()"
      ]
    },
    {
      "cell_type": "code",
      "execution_count": null,
      "metadata": {
        "colab": {
          "base_uri": "https://localhost:8080/"
        },
        "id": "VSal8f7uI7fe",
        "outputId": "12bf417c-5628-43f7-cdd2-d8dbd4ce9931"
      },
      "outputs": [
        {
          "output_type": "stream",
          "name": "stdout",
          "text": [
            "+-------------------+------+------------------+------------------+-------------------+---------------+------------------+------------------+-------------------+-------------------+-------------------+------+----------+----------+------------------+------------------+------------------+------------------+---------------------+---------------------+-------------------+-----------------------+-----------------------+---------------+-------------------+-------------------+------------------+------------------+------------------+------------------+--------------------+--------------------+\n",
            "|        timestamp_1|code_1|    air_pressure_1| air_temperature_1|relative_humidity_1|precipitation_1|      wind_speed_1|  wind_direction_1|        timestamp_2|    tar_timestamp_1|    tar_timestamp_2|code_2|tar_code_1|tar_code_2|    air_pressure_2|tar_air_pressure_1|tar_air_pressure_2| air_temperature_2|tar_air_temperature_1|tar_air_temperature_2|relative_humidity_2|tar_relative_humidity_1|tar_relative_humidity_2|precipitation_2|tar_precipitation_1|tar_precipitation_2|      wind_speed_2|  tar_wind_speed_1|  tar_wind_speed_2|  wind_direction_2|tar_wind_direction_1|tar_wind_direction_2|\n",
            "+-------------------+------+------------------+------------------+-------------------+---------------+------------------+------------------+-------------------+-------------------+-------------------+------+----------+----------+------------------+------------------+------------------+------------------+---------------------+---------------------+-------------------+-----------------------+-----------------------+---------------+-------------------+-------------------+------------------+------------------+------------------+------------------+--------------------+--------------------+\n",
            "|2017-11-17 00:00:00|     1|  0.79092159559835|0.4431468961278427| 0.7543044857272315|            0.0|0.3213345039508341|0.0094444444444444|2017-11-17 00:00:00|2017-11-17 00:10:00|2017-11-17 00:10:00|   0.0|       0.0|       1.0|0.4745529573590093|0.4749197615772575|0.7914718019257222|0.3550501946322474|   0.3558696988322065|   0.4423273919278836| 0.9818758495695517|     0.9826687811508836|     0.7433167195287721|            0.0|                0.0|                0.0|0.0724319578577699|0.0877963125548727|0.2809482001755927|0.6261111111111112|  0.6544444444444444|  0.0163888888888888|\n",
            "|2017-11-17 00:10:00|     0|0.4749197615772575|0.3558696988322065| 0.9826687811508836|            0.0|0.0877963125548727|0.6544444444444444|2017-11-17 00:10:00|2017-11-17 00:20:00|2017-11-17 00:20:00|   1.0|       0.0|       1.0|0.7914718019257222|0.4756533700137549|0.7920220082530944|0.4423273919278836|   0.3558696988322065|   0.4421225158778938| 0.7433167195287721|      0.983235160851835|     0.7332351608518352|            0.0|                0.0|                0.0|0.2809482001755927| 0.088235294117647|0.2897278314310799|0.0163888888888888|  0.6419444444444444|  0.0163888888888888|\n",
            "|2017-11-17 00:20:00|     0|0.4756533700137549|0.3558696988322065|  0.983235160851835|            0.0| 0.088235294117647|0.6419444444444444|2017-11-17 00:20:00|2017-11-17 00:30:00|2017-11-17 00:30:00|   1.0|       1.0|       0.0|0.7920220082530944|0.7924805135259047|0.4767537826685005|0.4421225158778938|   0.4410981356279451|    0.356279450932186| 0.7332351608518352|     0.7211146352514726|     0.9840280924331672|            0.0|                0.0|                0.0|0.2897278314310799|0.3081650570676032|0.0583845478489903|0.0163888888888888|  0.0097222222222222|  0.6133333333333334|\n",
            "|2017-11-17 00:30:00|     1|0.7924805135259047|0.4410981356279451| 0.7211146352514726|            0.0|0.3081650570676032|0.0097222222222222|2017-11-17 00:30:00|2017-11-17 00:40:00|2017-11-17 00:40:00|   0.0|       1.0|       0.0|0.4767537826685005|0.7920220082530944|0.4767537826685005| 0.356279450932186|   0.4410981356279451|    0.357098955132145| 0.9840280924331672|     0.7085410058903489|     0.9845944721341188|            0.0|                0.0|                0.0|0.0583845478489903|0.3072870939420544|0.0548726953467954|0.6133333333333334|  0.0191666666666666|  0.6119444444444445|\n",
            "|2017-11-17 00:40:00|     1|0.7920220082530944|0.4410981356279451| 0.7085410058903489|            0.0|0.3072870939420544|0.0191666666666666|2017-11-17 00:40:00|2017-11-17 00:50:00|2017-11-17 00:50:00|   0.0|       0.0|       1.0|0.4767537826685005|0.4760201742320031|0.7920220082530944| 0.357098955132145|   0.3564843269821757|   0.4400737553779963| 0.9845944721341188|       0.98504757589488|     0.6948346171273222|            0.0|                0.0|                0.0|0.0548726953467954|0.0553116769095698|0.2888498683055312|0.6119444444444445|  0.5616666666666666|  0.0252777777777777|\n",
            "+-------------------+------+------------------+------------------+-------------------+---------------+------------------+------------------+-------------------+-------------------+-------------------+------+----------+----------+------------------+------------------+------------------+------------------+---------------------+---------------------+-------------------+-----------------------+-----------------------+---------------+-------------------+-------------------+------------------+------------------+------------------+------------------+--------------------+--------------------+\n",
            "only showing top 5 rows\n",
            "\n"
          ]
        }
      ],
      "source": [
        "df.show(5)"
      ]
    },
    {
      "cell_type": "code",
      "execution_count": null,
      "metadata": {
        "colab": {
          "base_uri": "https://localhost:8080/"
        },
        "id": "mzDoKvxBJKXV",
        "outputId": "9cfa4247-3729-4379-db1f-eeef25557836"
      },
      "outputs": [
        {
          "output_type": "stream",
          "name": "stdout",
          "text": [
            "  summary              code_1       air_pressure_1   air_temperature_1  \\\n",
            "0   count              284024               284024              284024   \n",
            "1    mean  0.5744901839281188   0.5711173922532323  0.4498387157254519   \n",
            "2  stddev  0.4944209473438199  0.17317828390029769  0.1298663725935148   \n",
            "3     min                   0   0.0091701054562127                 0.0   \n",
            "4     max                   1                  1.0                 1.0   \n",
            "\n",
            "  relative_humidity_1       precipitation_1         wind_speed_1  \\\n",
            "0              284024                284024               284024   \n",
            "1  0.7481783034959497  8.845625844447227E-4  0.21574615385110116   \n",
            "2  0.1725437210787605  0.007269424978004836  0.12522999309320013   \n",
            "3  0.0390801993656547                   0.0                  0.0   \n",
            "4                 1.0     0.837630662020906                  1.0   \n",
            "\n",
            "     wind_direction_1              code_2          tar_code_1  ...  \\\n",
            "0              284024              284024              284024  ...   \n",
            "1  0.4891723312896904  0.4225452778638425  0.5744866630988931  ...   \n",
            "2  0.2656765085457286  0.4939652063727413  0.4944214777861548  ...   \n",
            "3                 0.0                 0.0                 0.0  ...   \n",
            "4                 1.0                 1.0                 1.0  ...   \n",
            "\n",
            "  tar_relative_humidity_2       precipitation_2    tar_precipitation_1  \\\n",
            "0                  284024                284024                 284024   \n",
            "1      0.7468034464046135  9.567940521491253E-4   8.844300933100971E-4   \n",
            "2     0.18118359822845378  0.007645024738965231  0.0072691101144143665   \n",
            "3                     0.0                   0.0                    0.0   \n",
            "4                     1.0                   1.0      0.837630662020906   \n",
            "\n",
            "    tar_precipitation_2         wind_speed_2     tar_wind_speed_1  \\\n",
            "0                284024               284024               284024   \n",
            "1  9.568193236062852E-4   0.2010623021828747  0.21574305496497403   \n",
            "2   0.00764502679717351  0.12113897784500252  0.12523070680283835   \n",
            "3                   0.0                  0.0                  0.0   \n",
            "4                   1.0   0.9841966637401228                  1.0   \n",
            "\n",
            "      tar_wind_speed_2     wind_direction_2 tar_wind_direction_1  \\\n",
            "0               284024               284024               284024   \n",
            "1  0.20106471792303265  0.48688294631596096  0.48917583158074573   \n",
            "2  0.12113870363783946    0.265012984238855  0.26567639386773356   \n",
            "3                  0.0                  0.0                  0.0   \n",
            "4   0.9841966637401228                  1.0                  1.0   \n",
            "\n",
            "  tar_wind_direction_2  \n",
            "0               284024  \n",
            "1    0.486878248942969  \n",
            "2  0.26501570508841754  \n",
            "3                  0.0  \n",
            "4                  1.0  \n",
            "\n",
            "[5 rows x 29 columns]\n"
          ]
        }
      ],
      "source": [
        "summary_stats = df.describe().toPandas()\n",
        "print(summary_stats)"
      ]
    },
    {
      "cell_type": "code",
      "execution_count": null,
      "metadata": {
        "colab": {
          "base_uri": "https://localhost:8080/"
        },
        "id": "gQMlL6mMLj5g",
        "outputId": "ad02b28c-ecfc-46fc-9abc-ad60f976a126"
      },
      "outputs": [
        {
          "output_type": "stream",
          "name": "stdout",
          "text": [
            "+-----------+------+--------------+-----------------+-------------------+---------------+------------+----------------+-----------+---------------+---------------+------+----------+----------+--------------+------------------+------------------+-----------------+---------------------+---------------------+-------------------+-----------------------+-----------------------+---------------+-------------------+-------------------+------------+----------------+----------------+----------------+--------------------+--------------------+\n",
            "|timestamp_1|code_1|air_pressure_1|air_temperature_1|relative_humidity_1|precipitation_1|wind_speed_1|wind_direction_1|timestamp_2|tar_timestamp_1|tar_timestamp_2|code_2|tar_code_1|tar_code_2|air_pressure_2|tar_air_pressure_1|tar_air_pressure_2|air_temperature_2|tar_air_temperature_1|tar_air_temperature_2|relative_humidity_2|tar_relative_humidity_1|tar_relative_humidity_2|precipitation_2|tar_precipitation_1|tar_precipitation_2|wind_speed_2|tar_wind_speed_1|tar_wind_speed_2|wind_direction_2|tar_wind_direction_1|tar_wind_direction_2|\n",
            "+-----------+------+--------------+-----------------+-------------------+---------------+------------+----------------+-----------+---------------+---------------+------+----------+----------+--------------+------------------+------------------+-----------------+---------------------+---------------------+-------------------+-----------------------+-----------------------+---------------+-------------------+-------------------+------------+----------------+----------------+----------------+--------------------+--------------------+\n",
            "|          0|     0|             0|                0|                  0|              0|           0|               0|          0|              0|              0|     0|         0|         0|             0|                 0|                 0|                0|                    0|                    0|                  0|                      0|                      0|              0|                  0|                  0|           0|               0|               0|               0|                   0|                   0|\n",
            "+-----------+------+--------------+-----------------+-------------------+---------------+------------+----------------+-----------+---------------+---------------+------+----------+----------+--------------+------------------+------------------+-----------------+---------------------+---------------------+-------------------+-----------------------+-----------------------+---------------+-------------------+-------------------+------------+----------------+----------------+----------------+--------------------+--------------------+\n",
            "\n"
          ]
        }
      ],
      "source": [
        "#Handling the null values\n",
        "from pyspark.sql.functions import col, count,when\n",
        "df.select([count(when(col(c).isNull(), c)).alias(c) for c in df.columns]).show()"
      ]
    },
    {
      "cell_type": "code",
      "execution_count": null,
      "metadata": {
        "colab": {
          "base_uri": "https://localhost:8080/"
        },
        "id": "q0NZ3CNIP84I",
        "outputId": "c6277955-98b6-4477-8bf2-e3f413dbe2c4"
      },
      "outputs": [
        {
          "output_type": "execute_result",
          "data": {
            "text/plain": [
              "['timestamp_1',\n",
              " 'code_1',\n",
              " 'air_pressure_1',\n",
              " 'air_temperature_1',\n",
              " 'relative_humidity_1',\n",
              " 'precipitation_1',\n",
              " 'wind_speed_1',\n",
              " 'wind_direction_1',\n",
              " 'timestamp_2',\n",
              " 'tar_timestamp_1',\n",
              " 'tar_timestamp_2',\n",
              " 'code_2',\n",
              " 'tar_code_1',\n",
              " 'tar_code_2',\n",
              " 'air_pressure_2',\n",
              " 'tar_air_pressure_1',\n",
              " 'tar_air_pressure_2',\n",
              " 'air_temperature_2',\n",
              " 'tar_air_temperature_1',\n",
              " 'tar_air_temperature_2',\n",
              " 'relative_humidity_2',\n",
              " 'tar_relative_humidity_1',\n",
              " 'tar_relative_humidity_2',\n",
              " 'precipitation_2',\n",
              " 'tar_precipitation_1',\n",
              " 'tar_precipitation_2',\n",
              " 'wind_speed_2',\n",
              " 'tar_wind_speed_1',\n",
              " 'tar_wind_speed_2',\n",
              " 'wind_direction_2',\n",
              " 'tar_wind_direction_1',\n",
              " 'tar_wind_direction_2']"
            ]
          },
          "metadata": {},
          "execution_count": 20
        }
      ],
      "source": [
        ":df.columns"
      ]
    },
    {
      "cell_type": "code",
      "source": [
        "import matplotlib.pyplot as plt\n",
        "import seaborn as sns"
      ],
      "metadata": {
        "id": "noxIy7KIRpJm"
      },
      "execution_count": null,
      "outputs": []
    },
    {
      "cell_type": "code",
      "execution_count": null,
      "metadata": {
        "colab": {
          "base_uri": "https://localhost:8080/",
          "height": 472
        },
        "id": "tdBS3w7jQ7yT",
        "outputId": "eb824f58-f279-4e37-f3cc-f7ce474fcc49"
      },
      "outputs": [
        {
          "output_type": "display_data",
          "data": {
            "text/plain": [
              "<Figure size 640x480 with 1 Axes>"
            ],
            "image/png": "[encoded data removed]"
          },
          "metadata": {}
        }
      ],
      "source": [
        "#Histogram\n",
        "sns.histplot(df.select(\"wind_speed_1\").toPandas(), bins=20, kde=True)\n",
        "plt.title(\"Wind speed Distribution\")\n",
        "plt.xlabel(\"Wind speed\")\n",
        "plt.ylabel(\"Frequency\")\n",
        "plt.show()\n",
        "#The distribution of wind speed is right-skewed, meaning that most of the wind speed measurements are concentrated on the lower end of the scale with fewer occurrences of higher wind speeds.\n",
        "# Most Common Values: The mode of the distribution (the most frequently occurring value) appears to be around 0.1 to 0.2."
      ]
    },
    {
      "cell_type": "code",
      "execution_count": null,
      "metadata": {
        "id": "nhL-3nOjEIPT",
        "colab": {
          "base_uri": "https://localhost:8080/"
        },
        "outputId": "1a3385e8-5104-447d-eb80-563442a148be"
      },
      "outputs": [
        {
          "output_type": "stream",
          "name": "stdout",
          "text": [
            "                         timestamp_1    code_1  air_pressure_1  \\\n",
            "timestamp_1                 1.000000  0.150940        0.165362   \n",
            "code_1                      0.150940  1.000000        0.841016   \n",
            "air_pressure_1              0.165362  0.841016        1.000000   \n",
            "air_temperature_1           0.032473  0.103702        0.097724   \n",
            "relative_humidity_1         0.001354  0.070650       -0.021161   \n",
            "precipitation_1            -0.009027 -0.028780       -0.080470   \n",
            "wind_speed_1                0.035056  0.418831        0.186455   \n",
            "wind_direction_1           -0.004208  0.037838       -0.043317   \n",
            "timestamp_2                 1.000000  0.150940        0.165362   \n",
            "tar_timestamp_1             1.000000  0.150940        0.165362   \n",
            "tar_timestamp_2             1.000000  0.150940        0.165362   \n",
            "code_2                     -0.158925 -0.993949       -0.835325   \n",
            "tar_code_1                  0.150966  0.130139        0.107243   \n",
            "tar_code_2                 -0.158951 -0.123286       -0.100875   \n",
            "air_pressure_2             -0.093826 -0.841576       -0.429225   \n",
            "tar_air_pressure_1          0.165384  0.107219        0.377155   \n",
            "tar_air_pressure_2         -0.093846 -0.104932        0.196021   \n",
            "air_temperature_2          -0.020339 -0.157147       -0.128013   \n",
            "tar_air_temperature_1       0.032455 -0.010099        0.001795   \n",
            "tar_air_temperature_2      -0.020356 -0.047570       -0.035149   \n",
            "relative_humidity_2        -0.000238 -0.030909       -0.101894   \n",
            "tar_relative_humidity_1     0.001378  0.022169       -0.062115   \n",
            "tar_relative_humidity_2    -0.000223  0.015100       -0.063865   \n",
            "precipitation_2             0.002582  0.026981       -0.035367   \n",
            "tar_precipitation_1        -0.009055 -0.007833       -0.062655   \n",
            "tar_precipitation_2         0.002574  0.005197       -0.054001   \n",
            "wind_speed_2               -0.074796 -0.415597       -0.523843   \n",
            "tar_wind_speed_1            0.035079  0.057526       -0.119540   \n",
            "tar_wind_speed_2           -0.074822 -0.041974       -0.207307   \n",
            "wind_direction_2           -0.009717 -0.030513       -0.106824   \n",
            "tar_wind_direction_1       -0.004256  0.008102       -0.069629   \n",
            "tar_wind_direction_2       -0.009712 -0.002678       -0.083490   \n",
            "\n",
            "                         air_temperature_1  relative_humidity_1  \\\n",
            "timestamp_1                       0.032473             0.001354   \n",
            "code_1                            0.103702             0.070650   \n",
            "air_pressure_1                    0.097724            -0.021161   \n",
            "air_temperature_1                 1.000000            -0.471287   \n",
            "relative_humidity_1              -0.471287             1.000000   \n",
            "precipitation_1                  -0.014784             0.088579   \n",
            "wind_speed_1                     -0.035075            -0.004473   \n",
            "wind_direction_1                  0.034821             0.095783   \n",
            "timestamp_2                       0.032473             0.001354   \n",
            "tar_timestamp_1                   0.032473             0.001354   \n",
            "tar_timestamp_2                   0.032473             0.001354   \n",
            "code_2                           -0.113099            -0.062374   \n",
            "tar_code_1                       -0.010220             0.022124   \n",
            "tar_code_2                        0.000927            -0.013802   \n",
            "air_pressure_2                   -0.080059            -0.130156   \n",
            "tar_air_pressure_1                0.001208            -0.061393   \n",
            "tar_air_pressure_2                0.016343            -0.089011   \n",
            "air_temperature_2                 0.864103            -0.333471   \n",
            "tar_air_temperature_1             0.938964            -0.406712   \n",
            "tar_air_temperature_2             0.922101            -0.392524   \n",
            "relative_humidity_2              -0.362043             0.533213   \n",
            "tar_relative_humidity_1          -0.409328             0.785984   \n",
            "tar_relative_humidity_2          -0.422988             0.735232   \n",
            "precipitation_2                   0.002416             0.051877   \n",
            "tar_precipitation_1              -0.004129             0.067572   \n",
            "tar_precipitation_2              -0.004362             0.068135   \n",
            "wind_speed_2                     -0.147262            -0.003634   \n",
            "tar_wind_speed_1                 -0.090665             0.003159   \n",
            "tar_wind_speed_2                 -0.089224            -0.008081   \n",
            "wind_direction_2                 -0.004995             0.144808   \n",
            "tar_wind_direction_1              0.012914             0.118878   \n",
            "tar_wind_direction_2              0.016657             0.123150   \n",
            "\n",
            "                         precipitation_1  wind_speed_1  wind_direction_1  \\\n",
            "timestamp_1                    -0.009027      0.035056         -0.004208   \n",
            "code_1                         -0.028780      0.418831          0.037838   \n",
            "air_pressure_1                 -0.080470      0.186455         -0.043317   \n",
            "air_temperature_1              -0.014784     -0.035075          0.034821   \n",
            "relative_humidity_1             0.088579     -0.004473          0.095783   \n",
            "precipitation_1                 1.000000      0.034566          0.044422   \n",
            "wind_speed_1                    0.034566      1.000000          0.087626   \n",
            "wind_direction_1                0.044422      0.087626          1.000000   \n",
            "timestamp_2                    -0.009027      0.035056         -0.004208   \n",
            "tar_timestamp_1                -0.009027      0.035056         -0.004208   \n",
            "tar_timestamp_2                -0.009027      0.035056         -0.004208   \n",
            "code_2                          0.029309     -0.414265         -0.036785   \n",
            "tar_code_1                     -0.005922      0.057413          0.007134   \n",
            "tar_code_2                      0.006430     -0.052514         -0.006053   \n",
            "air_pressure_2                 -0.030098     -0.511347         -0.101093   \n",
            "tar_air_pressure_1             -0.061127     -0.119627         -0.069163   \n",
            "tar_air_pressure_2             -0.049551     -0.203984         -0.073898   \n",
            "air_temperature_2               0.006847     -0.153927         -0.011722   \n",
            "tar_air_temperature_1          -0.007043     -0.091289          0.013053   \n",
            "tar_air_temperature_2          -0.001374     -0.100826          0.008879   \n",
            "relative_humidity_2             0.046786      0.006027          0.145400   \n",
            "tar_relative_humidity_1         0.073356      0.000195          0.115999   \n",
            "tar_relative_humidity_2         0.065898     -0.000401          0.124430   \n",
            "precipitation_2                 0.035692      0.067297          0.042743   \n",
            "tar_precipitation_1             0.343601      0.048418          0.043160   \n",
            "tar_precipitation_2             0.244736      0.055068          0.041436   \n",
            "wind_speed_2                    0.070253      0.325141          0.087805   \n",
            "tar_wind_speed_1                0.042525      0.702097          0.085960   \n",
            "tar_wind_speed_2                0.055753      0.611284          0.087026   \n",
            "wind_direction_2                0.039794      0.103018          0.526291   \n",
            "tar_wind_direction_1            0.044515      0.087866          0.727955   \n",
            "tar_wind_direction_2            0.040855      0.101688          0.674434   \n",
            "\n",
            "                         timestamp_2  tar_timestamp_1  ...  \\\n",
            "timestamp_1                 1.000000         1.000000  ...   \n",
            "code_1                      0.150940         0.150940  ...   \n",
            "air_pressure_1              0.165362         0.165362  ...   \n",
            "air_temperature_1           0.032473         0.032473  ...   \n",
            "relative_humidity_1         0.001354         0.001354  ...   \n",
            "precipitation_1            -0.009027        -0.009027  ...   \n",
            "wind_speed_1                0.035056         0.035056  ...   \n",
            "wind_direction_1           -0.004208        -0.004208  ...   \n",
            "timestamp_2                 1.000000         1.000000  ...   \n",
            "tar_timestamp_1             1.000000         1.000000  ...   \n",
            "tar_timestamp_2             1.000000         1.000000  ...   \n",
            "code_2                     -0.158925        -0.158925  ...   \n",
            "tar_code_1                  0.150966         0.150966  ...   \n",
            "tar_code_2                 -0.158951        -0.158951  ...   \n",
            "air_pressure_2             -0.093826        -0.093826  ...   \n",
            "tar_air_pressure_1          0.165384         0.165384  ...   \n",
            "tar_air_pressure_2         -0.093846        -0.093846  ...   \n",
            "air_temperature_2          -0.020339        -0.020339  ...   \n",
            "tar_air_temperature_1       0.032456         0.032456  ...   \n",
            "tar_air_temperature_2      -0.020356        -0.020356  ...   \n",
            "relative_humidity_2        -0.000238        -0.000238  ...   \n",
            "tar_relative_humidity_1     0.001378         0.001378  ...   \n",
            "tar_relative_humidity_2    -0.000223        -0.000223  ...   \n",
            "precipitation_2             0.002582         0.002582  ...   \n",
            "tar_precipitation_1        -0.009055        -0.009055  ...   \n",
            "tar_precipitation_2         0.002574         0.002574  ...   \n",
            "wind_speed_2               -0.074796        -0.074796  ...   \n",
            "tar_wind_speed_1            0.035079         0.035079  ...   \n",
            "tar_wind_speed_2           -0.074822        -0.074822  ...   \n",
            "wind_direction_2           -0.009717        -0.009717  ...   \n",
            "tar_wind_direction_1       -0.004256        -0.004256  ...   \n",
            "tar_wind_direction_2       -0.009712        -0.009712  ...   \n",
            "\n",
            "                         tar_relative_humidity_2  precipitation_2  \\\n",
            "timestamp_1                            -0.000223         0.002582   \n",
            "code_1                                  0.015100         0.026981   \n",
            "air_pressure_1                         -0.063865        -0.035367   \n",
            "air_temperature_1                      -0.422988         0.002416   \n",
            "relative_humidity_1                     0.735232         0.051877   \n",
            "precipitation_1                         0.065898         0.035692   \n",
            "wind_speed_1                           -0.000401         0.067297   \n",
            "wind_direction_1                        0.124430         0.042743   \n",
            "timestamp_2                            -0.000223         0.002582   \n",
            "tar_timestamp_1                        -0.000223         0.002582   \n",
            "tar_timestamp_2                        -0.000223         0.002582   \n",
            "code_2                                 -0.007249        -0.026504   \n",
            "tar_code_1                             -0.030895         0.006141   \n",
            "tar_code_2                              0.038789        -0.005644   \n",
            "air_pressure_2                         -0.083251        -0.079664   \n",
            "tar_air_pressure_1                     -0.101882        -0.053065   \n",
            "tar_air_pressure_2                     -0.044138        -0.061875   \n",
            "air_temperature_2                      -0.444715        -0.013742   \n",
            "tar_air_temperature_1                  -0.362043        -0.006358   \n",
            "tar_air_temperature_2                  -0.501224        -0.006420   \n",
            "relative_humidity_2                     0.805738         0.091937   \n",
            "tar_relative_humidity_1                 0.533206         0.071786   \n",
            "tar_relative_humidity_2                 1.000000         0.077688   \n",
            "precipitation_2                         0.077688         1.000000   \n",
            "tar_precipitation_1                     0.046773         0.237199   \n",
            "tar_precipitation_2                     0.091937         0.352441   \n",
            "wind_speed_2                           -0.020367         0.043786   \n",
            "tar_wind_speed_1                        0.006029         0.052960   \n",
            "tar_wind_speed_2                       -0.025262         0.050594   \n",
            "wind_direction_2                        0.120454         0.049599   \n",
            "tar_wind_direction_1                    0.145389         0.042178   \n",
            "tar_wind_direction_2                    0.099796         0.049358   \n",
            "\n",
            "                         tar_precipitation_1  tar_precipitation_2  \\\n",
            "timestamp_1                        -0.009055             0.002574   \n",
            "code_1                             -0.007833             0.005197   \n",
            "air_pressure_1                     -0.062655            -0.054001   \n",
            "air_temperature_1                  -0.004129            -0.004362   \n",
            "relative_humidity_1                 0.067572             0.068135   \n",
            "precipitation_1                     0.343601             0.244736   \n",
            "wind_speed_1                        0.048418             0.055068   \n",
            "wind_direction_1                    0.043160             0.041436   \n",
            "timestamp_2                        -0.009055             0.002574   \n",
            "tar_timestamp_1                    -0.009055             0.002574   \n",
            "tar_timestamp_2                    -0.009055             0.002574   \n",
            "code_2                              0.008342            -0.004700   \n",
            "tar_code_1                         -0.028795             0.026975   \n",
            "tar_code_2                          0.029324            -0.026497   \n",
            "air_pressure_2                     -0.047949            -0.061047   \n",
            "tar_air_pressure_1                 -0.080470            -0.035373   \n",
            "tar_air_pressure_2                 -0.030077            -0.079661   \n",
            "air_temperature_2                   0.000648            -0.003321   \n",
            "tar_air_temperature_1              -0.014777             0.002414   \n",
            "tar_air_temperature_2               0.006857            -0.013743   \n",
            "relative_humidity_2                 0.061408             0.071093   \n",
            "tar_relative_humidity_1             0.088564             0.051875   \n",
            "tar_relative_humidity_2             0.046773             0.091937   \n",
            "precipitation_2                     0.237199             0.352441   \n",
            "tar_precipitation_1                 1.000000             0.035696   \n",
            "tar_precipitation_2                 0.035696             1.000000   \n",
            "wind_speed_2                        0.059641             0.056352   \n",
            "tar_wind_speed_1                    0.034577             0.067306   \n",
            "tar_wind_speed_2                    0.070267             0.043800   \n",
            "wind_direction_2                    0.039170             0.048741   \n",
            "tar_wind_direction_1                0.044420             0.042746   \n",
            "tar_wind_direction_2                0.039790             0.049605   \n",
            "\n",
            "                         wind_speed_2  tar_wind_speed_1  tar_wind_speed_2  \\\n",
            "timestamp_1                 -0.074796          0.035079         -0.074822   \n",
            "code_1                      -0.415597          0.057526         -0.041974   \n",
            "air_pressure_1              -0.523843         -0.119540         -0.207307   \n",
            "air_temperature_1           -0.147262         -0.090665         -0.089224   \n",
            "relative_humidity_1         -0.003634          0.003159         -0.008081   \n",
            "precipitation_1              0.070253          0.042525          0.055753   \n",
            "wind_speed_1                 0.325141          0.702097          0.611284   \n",
            "wind_direction_1             0.087805          0.085960          0.087026   \n",
            "timestamp_2                 -0.074796          0.035079         -0.074822   \n",
            "tar_timestamp_1             -0.074796          0.035079         -0.074822   \n",
            "tar_timestamp_2             -0.074796          0.035079         -0.074822   \n",
            "code_2                       0.420343         -0.052625          0.046378   \n",
            "tar_code_1                  -0.042237          0.418823         -0.415605   \n",
            "tar_code_2                   0.046638         -0.414255          0.420354   \n",
            "air_pressure_2               0.192350         -0.204103         -0.125397   \n",
            "tar_air_pressure_1          -0.207512          0.186453         -0.523848   \n",
            "tar_air_pressure_2          -0.125171         -0.511335          0.192357   \n",
            "air_temperature_2           -0.007262         -0.099989         -0.062313   \n",
            "tar_air_temperature_1       -0.089861         -0.035101         -0.147231   \n",
            "tar_air_temperature_2       -0.063520         -0.153946         -0.007225   \n",
            "relative_humidity_2         -0.025250          0.001855         -0.017750   \n",
            "tar_relative_humidity_1     -0.010945         -0.004480         -0.003658   \n",
            "tar_relative_humidity_2     -0.020367          0.006029         -0.025262   \n",
            "precipitation_2              0.043786          0.052960          0.050594   \n",
            "tar_precipitation_1          0.059641          0.034577          0.070267   \n",
            "tar_precipitation_2          0.056352          0.067306          0.043800   \n",
            "wind_speed_2                 1.000000          0.610668          0.681739   \n",
            "tar_wind_speed_1             0.610668          1.000000          0.325145   \n",
            "tar_wind_speed_2             0.681739          0.325145          1.000000   \n",
            "wind_direction_2             0.098744          0.100888          0.097807   \n",
            "tar_wind_direction_1         0.088302          0.087617          0.087803   \n",
            "tar_wind_direction_2         0.100780          0.103034          0.098738   \n",
            "\n",
            "                         wind_direction_2  tar_wind_direction_1  \\\n",
            "timestamp_1                     -0.009717             -0.004256   \n",
            "code_1                          -0.030513              0.008102   \n",
            "air_pressure_1                  -0.106824             -0.069629   \n",
            "air_temperature_1               -0.004995              0.012914   \n",
            "relative_humidity_1              0.144808              0.118878   \n",
            "precipitation_1                  0.039794              0.044515   \n",
            "wind_speed_1                     0.103018              0.087866   \n",
            "wind_direction_1                 0.526291              0.727955   \n",
            "timestamp_2                     -0.009717             -0.004256   \n",
            "tar_timestamp_1                 -0.009717             -0.004256   \n",
            "tar_timestamp_2                 -0.009717             -0.004256   \n",
            "code_2                           0.031566             -0.007028   \n",
            "tar_code_1                      -0.001333              0.037843   \n",
            "tar_code_2                       0.002359             -0.036797   \n",
            "air_pressure_2                  -0.046652             -0.075970   \n",
            "tar_air_pressure_1              -0.081061             -0.043305   \n",
            "tar_air_pressure_2              -0.071287             -0.101100   \n",
            "air_temperature_2                0.045684              0.009197   \n",
            "tar_air_temperature_1            0.016857              0.034825   \n",
            "tar_air_temperature_2            0.024416             -0.011718   \n",
            "relative_humidity_2              0.099793              0.125102   \n",
            "tar_relative_humidity_1          0.121298              0.095774   \n",
            "tar_relative_humidity_2          0.120454              0.145389   \n",
            "precipitation_2                  0.049599              0.042178   \n",
            "tar_precipitation_1              0.039170              0.044420   \n",
            "tar_precipitation_2              0.048741              0.042746   \n",
            "wind_speed_2                     0.098744              0.088302   \n",
            "tar_wind_speed_1                 0.100888              0.087617   \n",
            "tar_wind_speed_2                 0.097807              0.087803   \n",
            "wind_direction_2                 1.000000              0.676066   \n",
            "tar_wind_direction_1             0.676066              1.000000   \n",
            "tar_wind_direction_2             0.722983              0.526284   \n",
            "\n",
            "                         tar_wind_direction_2  \n",
            "timestamp_1                         -0.009712  \n",
            "code_1                              -0.002678  \n",
            "air_pressure_1                      -0.083490  \n",
            "air_temperature_1                    0.016657  \n",
            "relative_humidity_1                  0.123150  \n",
            "precipitation_1                      0.040855  \n",
            "wind_speed_1                         0.101688  \n",
            "wind_direction_1                     0.674434  \n",
            "timestamp_2                         -0.009712  \n",
            "tar_timestamp_1                     -0.009712  \n",
            "tar_timestamp_2                     -0.009712  \n",
            "code_2                               0.003698  \n",
            "tar_code_1                          -0.030502  \n",
            "tar_code_2                           0.031547  \n",
            "air_pressure_2                      -0.071374  \n",
            "tar_air_pressure_1                  -0.106815  \n",
            "tar_air_pressure_2                  -0.046673  \n",
            "air_temperature_2                    0.024720  \n",
            "tar_air_temperature_1               -0.005009  \n",
            "tar_air_temperature_2                0.045687  \n",
            "relative_humidity_2                  0.122480  \n",
            "tar_relative_humidity_1              0.144837  \n",
            "tar_relative_humidity_2              0.099796  \n",
            "precipitation_2                      0.049358  \n",
            "tar_precipitation_1                  0.039790  \n",
            "tar_precipitation_2                  0.049605  \n",
            "wind_speed_2                         0.100780  \n",
            "tar_wind_speed_1                     0.103034  \n",
            "tar_wind_speed_2                     0.098738  \n",
            "wind_direction_2                     0.722983  \n",
            "tar_wind_direction_1                 0.526284  \n",
            "tar_wind_direction_2                 1.000000  \n",
            "\n",
            "[32 rows x 32 columns]\n"
          ]
        }
      ],
      "source": [
        "# Correlation analysis\n",
        "correlation_matrix = df.select([col(c).cast(\"float\") for c in df.columns]).toPandas().corr()\n",
        "print(correlation_matrix)"
      ]
    },
    {
      "cell_type": "code",
      "execution_count": null,
      "metadata": {
        "id": "5LrExnbnGYo6"
      },
      "outputs": [],
      "source": [
        "from pyspark.ml.feature import VectorAssembler\n",
        "from pyspark.ml.regression import DecisionTreeRegressor\n",
        "from pyspark.ml.evaluation import RegressionEvaluator"
      ]
    },
    {
      "cell_type": "markdown",
      "source": [
        "# **K means clustering**"
      ],
      "metadata": {
        "id": "7NxJ9clzf2r4"
      }
    },
    {
      "cell_type": "code",
      "source": [
        "# Selecting numerical columns for clustering\n",
        "features = [col for col in df.columns if not col.startswith('tar_') and 'timestamp' not in col and 'code' not in col]"
      ],
      "metadata": {
        "id": "JdKVse_DsBUZ"
      },
      "execution_count": null,
      "outputs": []
    },
    {
      "cell_type": "code",
      "source": [
        "#Converting 'timestamp_1' to more useful features and extending feature set for effective use of timestamp in modelling\n",
        "from pyspark.sql.functions import hour, dayofweek, month\n",
        "df = df.withColumn('hour_1', hour('timestamp_1'))\n",
        "df = df.withColumn('day_of_week_1', dayofweek('timestamp_1'))\n",
        "df = df.withColumn('month_1', month('timestamp_1'))\n",
        "features.extend(['hour_1', 'day_of_week_1', 'month_1'])"
      ],
      "metadata": {
        "id": "aHmvsCeDicS9"
      },
      "execution_count": null,
      "outputs": []
    },
    {
      "cell_type": "code",
      "source": [
        "#Converting 'timestamp_2' in a similar way\n",
        "df = df.withColumn('hour_2', hour('timestamp_2'))\n",
        "df = df.withColumn('day_of_week_2', dayofweek('timestamp_2'))\n",
        "df = df.withColumn('month_2', month('timestamp_2'))\n",
        "features.extend(['hour_2', 'day_of_week_2', 'month_2'])"
      ],
      "metadata": {
        "id": "TNinrzN9ikhS"
      },
      "execution_count": null,
      "outputs": []
    },
    {
      "cell_type": "code",
      "source": [
        "df[features]"
      ],
      "metadata": {
        "colab": {
          "base_uri": "https://localhost:8080/"
        },
        "id": "ODCLT5lSgr1v",
        "outputId": "bf7643be-fd42-43c0-9295-2da0c8d0d6f2"
      },
      "execution_count": null,
      "outputs": [
        {
          "output_type": "execute_result",
          "data": {
            "text/plain": [
              "DataFrame[air_pressure_1: double, air_temperature_1: double, relative_humidity_1: double, precipitation_1: double, wind_speed_1: double, wind_direction_1: double, air_pressure_2: double, air_temperature_2: double, relative_humidity_2: double, precipitation_2: double, wind_speed_2: double, wind_direction_2: double, hour_1: int, day_of_week_1: int, month_1: int, hour_2: int, day_of_week_2: int, month_2: int]"
            ]
          },
          "metadata": {},
          "execution_count": 29
        }
      ]
    },
    {
      "cell_type": "code",
      "source": [
        "#Aseembling all the features together and converting to the vector form to pass for training and prediction by the machine learning model\n",
        "assembler = VectorAssembler(inputCols=features, outputCol=\"features\")\n",
        "df = assembler.transform(df)"
      ],
      "metadata": {
        "id": "d4kiPGvhf8v1"
      },
      "execution_count": null,
      "outputs": []
    },
    {
      "cell_type": "code",
      "source": [
        "#Main algorithm for KMeans\n",
        "from pyspark.ml.clustering import KMeans\n",
        "k = 5\n",
        "kmeans = KMeans(featuresCol=\"features\", k=k, seed=1)\n",
        "#seed: A random seed for cluster initialization. Using a seed ensures reproducibility of the results.\n",
        "model = kmeans.fit(df.limit(100))\n",
        "predictions = model.transform(df)\n",
        "\n",
        "# Evaluation of clustering by computing Silhouette score\n",
        "from pyspark.ml.evaluation import ClusteringEvaluator\n",
        "evaluator = ClusteringEvaluator()\n",
        "silhouette = evaluator.evaluate(predictions)\n",
        "#The silhouette ranges from −1 to +1, where a high value indicates that the object is well matched to its own cluster and\n",
        "#poorly matched to neighboring clusters. If most objects have a high value, then the clustering configuration is appropriate\n",
        "print(\"Silhouette with squared euclidean distance = \" + str(silhouette))\n",
        "centers = model.clusterCenters()\n",
        "print(\"Cluster Centers: \")\n",
        "for center in centers:\n",
        "    print(center)"
      ],
      "metadata": {
        "colab": {
          "base_uri": "https://localhost:8080/"
        },
        "id": "54xYvrmNhmIo",
        "outputId": "b00240a3-55d7-4a5d-cf52-d68e6e7645e1"
      },
      "execution_count": null,
      "outputs": [
        {
          "output_type": "stream",
          "name": "stdout",
          "text": [
            "Silhouette with squared euclidean distance = 0.21839406744530332\n",
            "Cluster Centers: \n",
            "[ 0.59789852  0.41453254  0.64809885  0.          0.13125549  0.47111111\n",
            "  0.70535687  0.43447381  0.62368789  0.          0.15309482  0.60872685\n",
            " 11.5         6.         11.         11.5         6.         11.        ]\n",
            "[ 0.63613022  0.39810831  0.82660757  0.          0.17028826  0.32834491\n",
            "  0.63639386  0.39800587  0.8248046   0.          0.1659899   0.32421296\n",
            "  1.5         6.         11.          1.5         6.         11.        ]\n",
            "[ 0.68988232  0.40954722  0.72957887  0.          0.08708906  0.56975309\n",
            "  0.61834021  0.39576362  0.81937522  0.          0.10486782  0.4012963\n",
            "  9.          6.         11.          9.          6.         11.        ]\n",
            "[ 0.64693844  0.39504759  0.61712732  0.          0.13129539  0.52863636\n",
            "  0.64691759  0.3968356   0.60907958  0.          0.12818262  0.60515152\n",
            " 14.36363636  6.         11.         14.36363636  6.         11.        ]\n",
            "[ 0.6180269   0.39000717  0.83219113  0.          0.11069652  0.50828704\n",
            "  0.67218019  0.40083146  0.77614786  0.          0.13608428  0.54734954\n",
            "  5.5         6.         11.          5.5         6.         11.        ]\n"
          ]
        }
      ]
    },
    {
      "cell_type": "code",
      "source": [
        "#To convert vectorized form of centers to original values of features\n",
        "features = [\n",
        "    'air_pressure_1', 'air_temperature_1', 'relative_humidity_1', 'precipitation_1',\n",
        "    'wind_speed_1', 'wind_direction_1', 'air_pressure_2', 'air_temperature_2',\n",
        "    'relative_humidity_2', 'precipitation_2', 'wind_speed_2', 'wind_direction_2',\n",
        "    'hour_2', 'day_of_week_2', 'month_2', 'hour_1', 'day_of_week_1', 'month_1',\n",
        "    'hour_2', 'day_of_week_2', 'month_2'\n",
        "]\n",
        "\n",
        "for i, center in enumerate(centers):\n",
        "    print(f\"Cluster {i+1} Centers:\")\n",
        "    for feature, value in zip(features, center):\n",
        "        print(f\"{feature}: {value:.2f}\")\n",
        "    print(\"\\n\")"
      ],
      "metadata": {
        "colab": {
          "base_uri": "https://localhost:8080/"
        },
        "id": "7pT8epKIjRDf",
        "outputId": "4e2ae199-9520-4f6a-a624-9c0be062ad55"
      },
      "execution_count": null,
      "outputs": [
        {
          "output_type": "stream",
          "name": "stdout",
          "text": [
            "Cluster 1 Centers:\n",
            "air_pressure_1: 0.60\n",
            "air_temperature_1: 0.41\n",
            "relative_humidity_1: 0.65\n",
            "precipitation_1: 0.00\n",
            "wind_speed_1: 0.13\n",
            "wind_direction_1: 0.47\n",
            "air_pressure_2: 0.71\n",
            "air_temperature_2: 0.43\n",
            "relative_humidity_2: 0.62\n",
            "precipitation_2: 0.00\n",
            "wind_speed_2: 0.15\n",
            "wind_direction_2: 0.61\n",
            "hour_2: 11.50\n",
            "day_of_week_2: 6.00\n",
            "month_2: 11.00\n",
            "hour_1: 11.50\n",
            "day_of_week_1: 6.00\n",
            "month_1: 11.00\n",
            "\n",
            "\n",
            "Cluster 2 Centers:\n",
            "air_pressure_1: 0.64\n",
            "air_temperature_1: 0.40\n",
            "relative_humidity_1: 0.83\n",
            "precipitation_1: 0.00\n",
            "wind_speed_1: 0.17\n",
            "wind_direction_1: 0.33\n",
            "air_pressure_2: 0.64\n",
            "air_temperature_2: 0.40\n",
            "relative_humidity_2: 0.82\n",
            "precipitation_2: 0.00\n",
            "wind_speed_2: 0.17\n",
            "wind_direction_2: 0.32\n",
            "hour_2: 1.50\n",
            "day_of_week_2: 6.00\n",
            "month_2: 11.00\n",
            "hour_1: 1.50\n",
            "day_of_week_1: 6.00\n",
            "month_1: 11.00\n",
            "\n",
            "\n",
            "Cluster 3 Centers:\n",
            "air_pressure_1: 0.69\n",
            "air_temperature_1: 0.41\n",
            "relative_humidity_1: 0.73\n",
            "precipitation_1: 0.00\n",
            "wind_speed_1: 0.09\n",
            "wind_direction_1: 0.57\n",
            "air_pressure_2: 0.62\n",
            "air_temperature_2: 0.40\n",
            "relative_humidity_2: 0.82\n",
            "precipitation_2: 0.00\n",
            "wind_speed_2: 0.10\n",
            "wind_direction_2: 0.40\n",
            "hour_2: 9.00\n",
            "day_of_week_2: 6.00\n",
            "month_2: 11.00\n",
            "hour_1: 9.00\n",
            "day_of_week_1: 6.00\n",
            "month_1: 11.00\n",
            "\n",
            "\n",
            "Cluster 4 Centers:\n",
            "air_pressure_1: 0.65\n",
            "air_temperature_1: 0.40\n",
            "relative_humidity_1: 0.62\n",
            "precipitation_1: 0.00\n",
            "wind_speed_1: 0.13\n",
            "wind_direction_1: 0.53\n",
            "air_pressure_2: 0.65\n",
            "air_temperature_2: 0.40\n",
            "relative_humidity_2: 0.61\n",
            "precipitation_2: 0.00\n",
            "wind_speed_2: 0.13\n",
            "wind_direction_2: 0.61\n",
            "hour_2: 14.36\n",
            "day_of_week_2: 6.00\n",
            "month_2: 11.00\n",
            "hour_1: 14.36\n",
            "day_of_week_1: 6.00\n",
            "month_1: 11.00\n",
            "\n",
            "\n",
            "Cluster 5 Centers:\n",
            "air_pressure_1: 0.62\n",
            "air_temperature_1: 0.39\n",
            "relative_humidity_1: 0.83\n",
            "precipitation_1: 0.00\n",
            "wind_speed_1: 0.11\n",
            "wind_direction_1: 0.51\n",
            "air_pressure_2: 0.67\n",
            "air_temperature_2: 0.40\n",
            "relative_humidity_2: 0.78\n",
            "precipitation_2: 0.00\n",
            "wind_speed_2: 0.14\n",
            "wind_direction_2: 0.55\n",
            "hour_2: 5.50\n",
            "day_of_week_2: 6.00\n",
            "month_2: 11.00\n",
            "hour_1: 5.50\n",
            "day_of_week_1: 6.00\n",
            "month_1: 11.00\n",
            "\n",
            "\n"
          ]
        }
      ]
    },
    {
      "cell_type": "markdown",
      "source": [
        "**Interpretation of KMeans Clustering**: The cluster to which a new data point is assigned represents the weather pattern that most closely matches it. For example, if a cluster center has high humidity and low temperature and a new data point is assigned to this cluster, one might interpret this as predicting foggy and cold weather."
      ],
      "metadata": {
        "id": "fq5eVyJLetiY"
      }
    },
    {
      "cell_type": "markdown",
      "source": [
        "# **Naive Bayes Classifier**"
      ],
      "metadata": {
        "id": "bDNT0SX5RxFB"
      }
    },
    {
      "cell_type": "markdown",
      "source": [
        "Since naive bayes is primarily used in classification tasks,preprocessing steps include converting real value data into binary data for classification."
      ],
      "metadata": {
        "id": "k7ZP5dmde_R1"
      }
    },
    {
      "cell_type": "code",
      "source": [
        "#Since the data provided is already normalized,so converting the data into binary by keeping a threshold of 0.5\n",
        "threshold_temperature = 0.5\n",
        "threshold_airpressure=0.5\n",
        "threshold_relativehumidity=0.5\n",
        "threshold_preciptation=0.5\n",
        "threshold_windspeed=0.5\n",
        "df1 = df1.withColumn(\"high_humidity_2\", (col(\"relative_humidity_2\") > threshold_relativehumidity).cast(\"int\"))\n",
        "df1 = df1.withColumn(\"high_precipitation_1\", (col(\"precipitation_1\") > threshold_preciptation).cast(\"int\"))\n",
        "df1 = df1.withColumn(\"high_precipitation_2\", (col(\"precipitation_2\") > threshold_preciptation).cast(\"int\"))\n",
        "df1 = df1.withColumn(\"high_windspeed_1\", (col(\"wind_speed_1\") > threshold_windspeed).cast(\"int\"))\n",
        "df1 = df1.withColumn(\"high_windspeed_2\", (col(\"wind_speed_2\") > threshold_windspeed).cast(\"int\"))"
      ],
      "metadata": {
        "id": "a6uRaH5hFQrc"
      },
      "execution_count": null,
      "outputs": []
    },
    {
      "cell_type": "code",
      "source": [
        "df1=df"
      ],
      "metadata": {
        "id": "LtABy1q8X14B"
      },
      "execution_count": null,
      "outputs": []
    },
    {
      "cell_type": "code",
      "source": [
        "df1 = df1.withColumn(\"high_temperature_1\", (col(\"air_temperature_1\") > threshold_temperature).cast(\"int\"))"
      ],
      "metadata": {
        "id": "4sw24WLfXaJr"
      },
      "execution_count": null,
      "outputs": []
    },
    {
      "cell_type": "code",
      "source": [
        "df1 = df1.withColumn(\"high_temperature_2\", (col(\"air_temperature_2\") > threshold_temperature).cast(\"int\"))"
      ],
      "metadata": {
        "id": "KM-BTnNYXcZv"
      },
      "execution_count": null,
      "outputs": []
    },
    {
      "cell_type": "code",
      "source": [
        "df1 = df1.withColumn(\"high_pressure_1\", (col(\"air_pressure_1\") > threshold_airpressure).cast(\"int\"))"
      ],
      "metadata": {
        "id": "RGxsTCBfXkSi"
      },
      "execution_count": null,
      "outputs": []
    },
    {
      "cell_type": "code",
      "source": [
        "df1 = df1.withColumn(\"high_pressure_2\", (col(\"air_pressure_2\") > threshold_airpressure).cast(\"int\"))"
      ],
      "metadata": {
        "id": "P_Skvit8XnA-"
      },
      "execution_count": null,
      "outputs": []
    },
    {
      "cell_type": "code",
      "source": [
        "df1 = df1.withColumn(\"high_humidity_1\", (col(\"relative_humidity_1\") > threshold_relativehumidity).cast(\"int\"))"
      ],
      "metadata": {
        "id": "hiyXgAJkXp2C"
      },
      "execution_count": null,
      "outputs": []
    },
    {
      "cell_type": "code",
      "source": [
        "df1.columns"
      ],
      "metadata": {
        "colab": {
          "base_uri": "https://localhost:8080/"
        },
        "id": "wjqARkCwSMPv",
        "outputId": "2bd1e13c-3715-4faf-fde1-741930b756a0"
      },
      "execution_count": null,
      "outputs": [
        {
          "output_type": "execute_result",
          "data": {
            "text/plain": [
              "['timestamp_1',\n",
              " 'code_1',\n",
              " 'air_pressure_1',\n",
              " 'air_temperature_1',\n",
              " 'relative_humidity_1',\n",
              " 'precipitation_1',\n",
              " 'wind_speed_1',\n",
              " 'wind_direction_1',\n",
              " 'timestamp_2',\n",
              " 'tar_timestamp_1',\n",
              " 'tar_timestamp_2',\n",
              " 'code_2',\n",
              " 'tar_code_1',\n",
              " 'tar_code_2',\n",
              " 'air_pressure_2',\n",
              " 'tar_air_pressure_1',\n",
              " 'tar_air_pressure_2',\n",
              " 'air_temperature_2',\n",
              " 'tar_air_temperature_1',\n",
              " 'tar_air_temperature_2',\n",
              " 'relative_humidity_2',\n",
              " 'tar_relative_humidity_1',\n",
              " 'tar_relative_humidity_2',\n",
              " 'precipitation_2',\n",
              " 'tar_precipitation_1',\n",
              " 'tar_precipitation_2',\n",
              " 'wind_speed_2',\n",
              " 'tar_wind_speed_1',\n",
              " 'tar_wind_speed_2',\n",
              " 'wind_direction_2',\n",
              " 'tar_wind_direction_1',\n",
              " 'tar_wind_direction_2',\n",
              " 'hour_1',\n",
              " 'day_of_week_1',\n",
              " 'month_1',\n",
              " 'hour_2',\n",
              " 'day_of_week_2',\n",
              " 'month_2',\n",
              " 'features',\n",
              " 'hot_temperature_1',\n",
              " 'hot_temperature_2',\n",
              " 'high_pressure_1',\n",
              " 'high_pressure_2',\n",
              " 'high_humidity_1',\n",
              " 'high_humidity_2',\n",
              " 'high_precipitation_1',\n",
              " 'high_precipitation_2',\n",
              " 'high_windspeed_1',\n",
              " 'high_windspeed_2',\n",
              " 'high_temperature_1',\n",
              " 'high_temperature_2']"
            ]
          },
          "metadata": {},
          "execution_count": 92
        }
      ]
    },
    {
      "cell_type": "code",
      "source": [
        "# Adjusting the feature selection to include only columns that contain the term 'high'i.e. only binary valued columns\n",
        "features = [col for col in df1.columns if 'high' in col]\n",
        "df_high_features = df1.select(features)\n",
        "df_high_features.show()"
      ],
      "metadata": {
        "colab": {
          "base_uri": "https://localhost:8080/"
        },
        "id": "mNf3WHCwgOw4",
        "outputId": "738d3476-7069-498b-914d-b478fd046f44"
      },
      "execution_count": null,
      "outputs": [
        {
          "output_type": "stream",
          "name": "stdout",
          "text": [
            "+---------------+---------------+---------------+---------------+--------------------+--------------------+----------------+----------------+------------------+------------------+\n",
            "|high_pressure_1|high_pressure_2|high_humidity_1|high_humidity_2|high_precipitation_1|high_precipitation_2|high_windspeed_1|high_windspeed_2|high_temperature_1|high_temperature_2|\n",
            "+---------------+---------------+---------------+---------------+--------------------+--------------------+----------------+----------------+------------------+------------------+\n",
            "|              1|              0|              1|              1|                   0|                   0|               0|               0|                 0|                 0|\n",
            "|              0|              1|              1|              1|                   0|                   0|               0|               0|                 0|                 0|\n",
            "|              0|              1|              1|              1|                   0|                   0|               0|               0|                 0|                 0|\n",
            "|              1|              0|              1|              1|                   0|                   0|               0|               0|                 0|                 0|\n",
            "|              1|              0|              1|              1|                   0|                   0|               0|               0|                 0|                 0|\n",
            "|              0|              1|              1|              1|                   0|                   0|               0|               0|                 0|                 0|\n",
            "|              1|              0|              1|              1|                   0|                   0|               0|               0|                 0|                 0|\n",
            "|              0|              1|              1|              1|                   0|                   0|               0|               0|                 0|                 0|\n",
            "|              0|              1|              1|              1|                   0|                   0|               0|               0|                 0|                 0|\n",
            "|              1|              0|              1|              1|                   0|                   0|               0|               0|                 0|                 0|\n",
            "|              1|              0|              1|              1|                   0|                   0|               0|               0|                 0|                 0|\n",
            "|              0|              1|              1|              1|                   0|                   0|               0|               0|                 0|                 0|\n",
            "|              1|              0|              1|              1|                   0|                   0|               0|               0|                 0|                 0|\n",
            "|              1|              0|              1|              1|                   0|                   0|               0|               0|                 0|                 0|\n",
            "|              0|              1|              1|              1|                   0|                   0|               0|               0|                 0|                 0|\n",
            "|              0|              1|              1|              1|                   0|                   0|               0|               0|                 0|                 0|\n",
            "|              1|              0|              1|              1|                   0|                   0|               0|               0|                 0|                 0|\n",
            "|              0|              1|              1|              1|                   0|                   0|               0|               0|                 0|                 0|\n",
            "|              1|              0|              1|              1|                   0|                   0|               0|               0|                 0|                 0|\n",
            "|              0|              1|              1|              1|                   0|                   0|               0|               0|                 0|                 0|\n",
            "+---------------+---------------+---------------+---------------+--------------------+--------------------+----------------+----------------+------------------+------------------+\n",
            "only showing top 20 rows\n",
            "\n"
          ]
        }
      ]
    },
    {
      "cell_type": "code",
      "source": [
        "df1[features]"
      ],
      "metadata": {
        "colab": {
          "base_uri": "https://localhost:8080/"
        },
        "id": "0R2Q_mZSakxV",
        "outputId": "4675db26-446a-4c58-eda0-2bd7cc7324ce"
      },
      "execution_count": null,
      "outputs": [
        {
          "output_type": "execute_result",
          "data": {
            "text/plain": [
              "DataFrame[high_pressure_1: int, high_pressure_2: int, high_humidity_1: int, high_humidity_2: int, high_precipitation_1: int, high_precipitation_2: int, high_windspeed_1: int, high_windspeed_2: int, high_temperature_1: int, high_temperature_2: int]"
            ]
          },
          "metadata": {},
          "execution_count": 94
        }
      ]
    },
    {
      "cell_type": "code",
      "source": [
        "df1.show(10)"
      ],
      "metadata": {
        "colab": {
          "base_uri": "https://localhost:8080/"
        },
        "id": "ehOwHN-Bc3X3",
        "outputId": "1b50c7ef-bf3c-4f9a-8f0e-c05f36f693ca"
      },
      "execution_count": null,
      "outputs": [
        {
          "output_type": "stream",
          "name": "stdout",
          "text": [
            "+-------------------+------+------------------+------------------+-------------------+---------------+------------------+------------------+-------------------+-------------------+-------------------+------+----------+----------+------------------+------------------+------------------+------------------+---------------------+---------------------+-------------------+-----------------------+-----------------------+---------------+-------------------+-------------------+------------------+------------------+------------------+------------------+--------------------+--------------------+------+-------------+-------+------+-------------+-------+--------------------+-----------------+-----------------+---------------+---------------+---------------+---------------+--------------------+--------------------+----------------+----------------+------------------+------------------+\n",
            "|        timestamp_1|code_1|    air_pressure_1| air_temperature_1|relative_humidity_1|precipitation_1|      wind_speed_1|  wind_direction_1|        timestamp_2|    tar_timestamp_1|    tar_timestamp_2|code_2|tar_code_1|tar_code_2|    air_pressure_2|tar_air_pressure_1|tar_air_pressure_2| air_temperature_2|tar_air_temperature_1|tar_air_temperature_2|relative_humidity_2|tar_relative_humidity_1|tar_relative_humidity_2|precipitation_2|tar_precipitation_1|tar_precipitation_2|      wind_speed_2|  tar_wind_speed_1|  tar_wind_speed_2|  wind_direction_2|tar_wind_direction_1|tar_wind_direction_2|hour_1|day_of_week_1|month_1|hour_2|day_of_week_2|month_2|            features|hot_temperature_1|hot_temperature_2|high_pressure_1|high_pressure_2|high_humidity_1|high_humidity_2|high_precipitation_1|high_precipitation_2|high_windspeed_1|high_windspeed_2|high_temperature_1|high_temperature_2|\n",
            "+-------------------+------+------------------+------------------+-------------------+---------------+------------------+------------------+-------------------+-------------------+-------------------+------+----------+----------+------------------+------------------+------------------+------------------+---------------------+---------------------+-------------------+-----------------------+-----------------------+---------------+-------------------+-------------------+------------------+------------------+------------------+------------------+--------------------+--------------------+------+-------------+-------+------+-------------+-------+--------------------+-----------------+-----------------+---------------+---------------+---------------+---------------+--------------------+--------------------+----------------+----------------+------------------+------------------+\n",
            "|2017-11-17 00:00:00|     1|  0.79092159559835|0.4431468961278427| 0.7543044857272315|            0.0|0.3213345039508341|0.0094444444444444|2017-11-17 00:00:00|2017-11-17 00:10:00|2017-11-17 00:10:00|   0.0|       0.0|       1.0|0.4745529573590093|0.4749197615772575|0.7914718019257222|0.3550501946322474|   0.3558696988322065|   0.4423273919278836| 0.9818758495695517|     0.9826687811508836|     0.7433167195287721|            0.0|                0.0|                0.0|0.0724319578577699|0.0877963125548727|0.2809482001755927|0.6261111111111112|  0.6544444444444444|  0.0163888888888888|     0|            6|     11|     0|            6|     11|[0.79092159559835...|                0|                0|              1|              0|              1|              1|                   0|                   0|               0|               0|                 0|                 0|\n",
            "|2017-11-17 00:10:00|     0|0.4749197615772575|0.3558696988322065| 0.9826687811508836|            0.0|0.0877963125548727|0.6544444444444444|2017-11-17 00:10:00|2017-11-17 00:20:00|2017-11-17 00:20:00|   1.0|       0.0|       1.0|0.7914718019257222|0.4756533700137549|0.7920220082530944|0.4423273919278836|   0.3558696988322065|   0.4421225158778938| 0.7433167195287721|      0.983235160851835|     0.7332351608518352|            0.0|                0.0|                0.0|0.2809482001755927| 0.088235294117647|0.2897278314310799|0.0163888888888888|  0.6419444444444444|  0.0163888888888888|     0|            6|     11|     0|            6|     11|[0.47491976157725...|                0|                0|              0|              1|              1|              1|                   0|                   0|               0|               0|                 0|                 0|\n",
            "|2017-11-17 00:20:00|     0|0.4756533700137549|0.3558696988322065|  0.983235160851835|            0.0| 0.088235294117647|0.6419444444444444|2017-11-17 00:20:00|2017-11-17 00:30:00|2017-11-17 00:30:00|   1.0|       1.0|       0.0|0.7920220082530944|0.7924805135259047|0.4767537826685005|0.4421225158778938|   0.4410981356279451|    0.356279450932186| 0.7332351608518352|     0.7211146352514726|     0.9840280924331672|            0.0|                0.0|                0.0|0.2897278314310799|0.3081650570676032|0.0583845478489903|0.0163888888888888|  0.0097222222222222|  0.6133333333333334|     0|            6|     11|     0|            6|     11|[0.47565337001375...|                0|                0|              0|              1|              1|              1|                   0|                   0|               0|               0|                 0|                 0|\n",
            "|2017-11-17 00:30:00|     1|0.7924805135259047|0.4410981356279451| 0.7211146352514726|            0.0|0.3081650570676032|0.0097222222222222|2017-11-17 00:30:00|2017-11-17 00:40:00|2017-11-17 00:40:00|   0.0|       1.0|       0.0|0.4767537826685005|0.7920220082530944|0.4767537826685005| 0.356279450932186|   0.4410981356279451|    0.357098955132145| 0.9840280924331672|     0.7085410058903489|     0.9845944721341188|            0.0|                0.0|                0.0|0.0583845478489903|0.3072870939420544|0.0548726953467954|0.6133333333333334|  0.0191666666666666|  0.6119444444444445|     0|            6|     11|     0|            6|     11|[0.79248051352590...|                0|                0|              1|              0|              1|              1|                   0|                   0|               0|               0|                 0|                 0|\n",
            "|2017-11-17 00:40:00|     1|0.7920220082530944|0.4410981356279451| 0.7085410058903489|            0.0|0.3072870939420544|0.0191666666666666|2017-11-17 00:40:00|2017-11-17 00:50:00|2017-11-17 00:50:00|   0.0|       0.0|       1.0|0.4767537826685005|0.4760201742320031|0.7920220082530944| 0.357098955132145|   0.3564843269821757|   0.4400737553779963| 0.9845944721341188|       0.98504757589488|     0.6948346171273222|            0.0|                0.0|                0.0|0.0548726953467954|0.0553116769095698|0.2888498683055312|0.6119444444444445|  0.5616666666666666|  0.0252777777777777|     0|            6|     11|     0|            6|     11|[0.79202200825309...|                0|                0|              1|              0|              1|              1|                   0|                   0|               0|               0|                 0|                 0|\n",
            "|2017-11-17 00:50:00|     0|0.4760201742320031|0.3564843269821757|   0.98504757589488|            0.0|0.0553116769095698|0.5616666666666666|2017-11-17 00:50:00|2017-11-17 01:00:00|2017-11-17 01:00:00|   1.0|       1.0|       0.0|0.7920220082530944|0.7921137093076565|0.4756533700137549|0.4400737553779963|   0.4394591272280271|   0.3564843269821757| 0.6948346171273222|     0.6859990937924785|     0.9856139555958316|            0.0|                0.0|                0.0|0.2888498683055312| 0.276558384547849|0.0676031606672519|0.0252777777777777|  0.0244444444444444|  0.5280555555555555|     0|            6|     11|     0|            6|     11|[0.47602017423200...|                0|                0|              0|              1|              1|              1|                   0|                   0|               0|               0|                 0|                 0|\n",
            "|2017-11-17 01:00:00|     1|0.7921137093076565|0.4394591272280271| 0.6859990937924785|            0.0| 0.276558384547849|0.0244444444444444|2017-11-17 01:00:00|2017-11-17 01:10:00|2017-11-17 01:10:00|   0.0|       0.0|       1.0|0.4756533700137549|0.4766620816139384|0.7929390187987149|0.3564843269821757|   0.3573038311821348|   0.4392542511780372| 0.9856139555958316|     0.9860670593565928|     0.6812415043044857|            0.0|                0.0|                0.0|0.0676031606672519|0.0697980684811238|0.2774363476733977|0.5280555555555555|  0.5877777777777777|  0.0077777777777777|     1|            6|     11|     1|            6|     11|[0.79211370930765...|                0|                0|              1|              0|              1|              1|                   0|                   0|               0|               0|                 0|                 0|\n",
            "|2017-11-17 01:10:00|     0|0.4766620816139384|0.3573038311821348| 0.9860670593565928|            0.0|0.0697980684811238|0.5877777777777777|2017-11-17 01:10:00|2017-11-17 01:20:00|2017-11-17 01:20:00|   1.0|       0.0|       1.0|0.7929390187987149|0.4767537826685005| 0.793122420907841|0.4392542511780372|    0.357918459332104|    0.438639623028068| 0.6812415043044857|     0.9862936112369732|     0.6789759855006796|            0.0|                0.0|                0.0|0.2774363476733977|0.0873573309920983|0.2906057945566286|0.0077777777777777|  0.6033333333333333|  0.0247222222222222|     1|            6|     11|     1|            6|     11|[0.47666208161393...|                0|                0|              0|              1|              1|              1|                   0|                   0|               0|               0|                 0|                 0|\n",
            "|2017-11-17 01:20:00|     0|0.4767537826685005| 0.357918459332104| 0.9862936112369732|            0.0|0.0873573309920983|0.6033333333333333|2017-11-17 01:20:00|2017-11-17 01:30:00|2017-11-17 01:30:00|   1.0|       1.0|       0.0| 0.793122420907841|0.7953232462173301|0.4767537826685005| 0.438639623028068|    0.437820118828109|   0.3581233353820938| 0.6789759855006796|     0.6746714997734481|      0.986633439057544|            0.0|                0.0|                0.0|0.2906057945566286| 0.276558384547849|0.0987708516242318|0.0247222222222222|  0.0161111111111111|  0.5711111111111111|     1|            6|     11|     1|            6|     11|[0.47675378266850...|                0|                0|              0|              1|              1|              1|                   0|                   0|               0|               0|                 0|                 0|\n",
            "|2017-11-17 01:30:00|     1|0.7953232462173301| 0.437820118828109| 0.6746714997734481|            0.0| 0.276558384547849|0.0161111111111111|2017-11-17 01:30:00|2017-11-17 01:40:00|2017-11-17 01:40:00|   0.0|       1.0|       0.0|0.4767537826685005|0.7953232462173301| 0.475836772122879|0.3581233353820938|   0.4372054906781397|   0.3587379635320631|  0.986633439057544|     0.6704802899864069|      0.986973266878115|            0.0|                0.0|                0.0|0.0987708516242318|0.2423178226514487|0.0856014047410008|0.5711111111111111|  0.0319444444444444|  0.5988888888888889|     1|            6|     11|     1|            6|     11|[0.79532324621733...|                0|                0|              1|              0|              1|              1|                   0|                   0|               0|               0|                 0|                 0|\n",
            "+-------------------+------+------------------+------------------+-------------------+---------------+------------------+------------------+-------------------+-------------------+-------------------+------+----------+----------+------------------+------------------+------------------+------------------+---------------------+---------------------+-------------------+-----------------------+-----------------------+---------------+-------------------+-------------------+------------------+------------------+------------------+------------------+--------------------+--------------------+------+-------------+-------+------+-------------+-------+--------------------+-----------------+-----------------+---------------+---------------+---------------+---------------+--------------------+--------------------+----------------+----------------+------------------+------------------+\n",
            "only showing top 10 rows\n",
            "\n"
          ]
        }
      ]
    },
    {
      "cell_type": "code",
      "source": [
        "#Assembling the feature column into single vectorized column and high precipiation is taken as target column\n",
        "binary_features = [\n",
        "    'high_temperature_1', 'high_humidity_1', 'high_windspeed_1',\n",
        "    'high_temperature_2', 'high_humidity_2', 'high_windspeed_2'\n",
        "]\n",
        "assembler = VectorAssembler(inputCols=binary_features, outputCol=\"features\")\n",
        "df_high_features = assembler.transform(df_high_features)\n",
        "\n",
        "df_high_features = df_high_features.withColumn(\"label\", df1[\"high_precipitation_1\"].cast(\"int\"))"
      ],
      "metadata": {
        "id": "LPd7MkEic6Y4"
      },
      "execution_count": null,
      "outputs": []
    },
    {
      "cell_type": "code",
      "source": [
        "# Splitting the data into training and test sets\n",
        "train_data, test_data = df_high_features.randomSplit([0.7, 0.3], seed=1234)"
      ],
      "metadata": {
        "id": "3FXDKAfjjtiB"
      },
      "execution_count": null,
      "outputs": []
    },
    {
      "cell_type": "code",
      "source": [
        "from pyspark.ml.classification import NaiveBayes\n",
        "from pyspark.ml.evaluation import MulticlassClassificationEvaluator"
      ],
      "metadata": {
        "id": "OBpxxlAEmC4n"
      },
      "execution_count": null,
      "outputs": []
    },
    {
      "cell_type": "code",
      "source": [
        "# Training a Naive Bayes model\n",
        "nb = NaiveBayes(modelType=\"bernoulli\")\n",
        "model = nb.fit(train_data)"
      ],
      "metadata": {
        "id": "HfXeYTohl65H"
      },
      "execution_count": null,
      "outputs": []
    },
    {
      "cell_type": "code",
      "source": [
        "# Predicting and testing on test data\n",
        "predictions = model.transform(test_data)\n",
        "evaluator = MulticlassClassificationEvaluator(labelCol=\"label\", predictionCol=\"prediction\", metricName=\"accuracy\")\n",
        "accuracy = evaluator.evaluate(predictions)\n",
        "print(\"Test set accuracy = \" + str(accuracy))"
      ],
      "metadata": {
        "colab": {
          "base_uri": "https://localhost:8080/"
        },
        "id": "xTauv6Eel9va",
        "outputId": "a32cb7d6-7257-4b1b-c160-ea57298552cd"
      },
      "execution_count": null,
      "outputs": [
        {
          "output_type": "stream",
          "name": "stdout",
          "text": [
            "Test set accuracy = 0.9999882119954734\n"
          ]
        }
      ]
    },
    {
      "cell_type": "markdown",
      "source": [
        "# **KNN**"
      ],
      "metadata": {
        "id": "c2VO_fh86T06"
      }
    },
    {
      "cell_type": "code",
      "source": [
        "df.columns"
      ],
      "metadata": {
        "colab": {
          "base_uri": "https://localhost:8080/"
        },
        "id": "xcbdHR0Yu1qZ",
        "outputId": "54bcfba5-24d0-4382-fed2-cbff9e32a0dc"
      },
      "execution_count": null,
      "outputs": [
        {
          "output_type": "execute_result",
          "data": {
            "text/plain": [
              "['timestamp_1',\n",
              " 'code_1',\n",
              " 'air_pressure_1',\n",
              " 'air_temperature_1',\n",
              " 'relative_humidity_1',\n",
              " 'precipitation_1',\n",
              " 'wind_speed_1',\n",
              " 'wind_direction_1',\n",
              " 'timestamp_2',\n",
              " 'tar_timestamp_1',\n",
              " 'tar_timestamp_2',\n",
              " 'code_2',\n",
              " 'tar_code_1',\n",
              " 'tar_code_2',\n",
              " 'air_pressure_2',\n",
              " 'tar_air_pressure_1',\n",
              " 'tar_air_pressure_2',\n",
              " 'air_temperature_2',\n",
              " 'tar_air_temperature_1',\n",
              " 'tar_air_temperature_2',\n",
              " 'relative_humidity_2',\n",
              " 'tar_relative_humidity_1',\n",
              " 'tar_relative_humidity_2',\n",
              " 'precipitation_2',\n",
              " 'tar_precipitation_1',\n",
              " 'tar_precipitation_2',\n",
              " 'wind_speed_2',\n",
              " 'tar_wind_speed_1',\n",
              " 'tar_wind_speed_2',\n",
              " 'wind_direction_2',\n",
              " 'tar_wind_direction_1',\n",
              " 'tar_wind_direction_2',\n",
              " 'hour_1',\n",
              " 'day_of_week_1',\n",
              " 'month_1',\n",
              " 'hour_2',\n",
              " 'day_of_week_2',\n",
              " 'month_2',\n",
              " 'features']"
            ]
          },
          "metadata": {},
          "execution_count": 116
        }
      ]
    },
    {
      "cell_type": "code",
      "source": [
        "df3=df"
      ],
      "metadata": {
        "id": "IJCPPmBTadWZ"
      },
      "execution_count": null,
      "outputs": []
    },
    {
      "cell_type": "code",
      "source": [
        "# Assembling features into a single vector column and  assuming 'tar_air_pressure_1' is the column we want to predict\n",
        "feature_columns = [\n",
        "    'air_pressure_1', 'air_temperature_1', 'relative_humidity_1',\n",
        "    'precipitation_1', 'wind_speed_1', 'air_pressure_2', 'air_temperature_2',\n",
        "    'relative_humidity_2', 'precipitation_2', 'wind_speed_2'\n",
        "]\n",
        "\n",
        "\n",
        "assembler = VectorAssembler(inputCols=feature_columns, outputCol=\"features\")\n",
        "df3 = assembler.transform(df3)\n",
        "df3 = df3.withColumn(\"label\", col(\"tar_air_pressure_1\").cast(\"double\"))  # Cast to double if it's a regression problem\n",
        "\n",
        "# Split the data into training and test sets\n",
        "train_data, test_data = df3.randomSplit([0.7, 0.3], seed=1234)"
      ],
      "metadata": {
        "id": "cViB_P1f6ZWi"
      },
      "execution_count": null,
      "outputs": []
    },
    {
      "cell_type": "code",
      "source": [
        "from pyspark.sql.functions import udf\n",
        "from pyspark.ml.linalg import Vectors\n",
        "from pyspark.sql.types import IntegerType"
      ],
      "metadata": {
        "id": "bVdzlJJni4af"
      },
      "execution_count": null,
      "outputs": []
    },
    {
      "cell_type": "code",
      "source": [
        "# Collect training data as a list and broadcasting it to all the worker nodes in the same cluster\n",
        "train_features = train_data.select(\"features\", \"label\").collect()\n",
        "broadcast_train = spark.sparkContext.broadcast(train_features)\n",
        "\n",
        "# Defining a UDF to compute the Euclidean distance and determine the majority label from k-nearest neighbors\n",
        "def predict_knn(features, k):\n",
        "    train_data = broadcast_train.value\n",
        "    distances = [(float(features.squared_distance(row['features'])), row['label']) for row in train_data]\n",
        "    sorted_distances = sorted(distances, key=lambda x: x[0])\n",
        "    top_k = sorted_distances[:k]\n",
        "    labels = [label for _, label in top_k]\n",
        "    # Majority vote or average for regression\n",
        "    return np.mean(labels)\n",
        "\n",
        "# Registering UDF\n",
        "udf_predict_knn = udf(lambda x: predict_knn(x, 3), IntegerType())  # k=3 as an example\n",
        "\n",
        "# Applying the UDF to the test data\n",
        "test_data = test_data.withColumn(\"predicted_label\", udf_predict_knn(col(\"features\")))\n",
        "test_data.show()"
      ],
      "metadata": {
        "id": "lMwwMa89aiTP"
      },
      "execution_count": null,
      "outputs": []
    },
    {
      "cell_type": "code",
      "source": [
        "#Evaluation\n",
        "from pyspark.ml.evaluation import RegressionEvaluator\n",
        "test_data = test_data.withColumn(\"predicted_label\", col(\"predicted_label\").cast(\"double\"))\n",
        "evaluator = RegressionEvaluator(labelCol=\"label\", predictionCol=\"predicted_label\", metricName=\"rmse\")\n",
        "rmse = evaluator.evaluate(test_data)\n",
        "print(\"Test set RMSE = \" + str(rmse))"
      ],
      "metadata": {
        "colab": {
          "base_uri": "https://localhost:8080/",
          "height": 518
        },
        "id": "0z_dL67jdMI6",
        "outputId": "6ede7733-20cb-4806-9be5-8957c32dc38a"
      },
      "execution_count": null,
      "outputs": [
        {
          "output_type": "stream",
          "name": "stderr",
          "text": [
            "ERROR:root:KeyboardInterrupt while sending command.\n",
            "Traceback (most recent call last):\n",
            "  File \"/usr/local/lib/python3.10/dist-packages/py4j/java_gateway.py\", line 1038, in send_command\n",
            "    response = connection.send_command(command)\n",
            "  File \"/usr/local/lib/python3.10/dist-packages/py4j/clientserver.py\", line 511, in send_command\n",
            "    answer = smart_decode(self.stream.readline()[:-1])\n",
            "  File \"/usr/lib/python3.10/socket.py\", line 705, in readinto\n",
            "    return self._sock.recv_into(b)\n",
            "KeyboardInterrupt\n"
          ]
        },
        {
          "output_type": "error",
          "ename": "KeyboardInterrupt",
          "evalue": "",
          "traceback": [
            "\u001b[0;31m---------------------------------------------------------------------------\u001b[0m",
            "\u001b[0;31mKeyboardInterrupt\u001b[0m                         Traceback (most recent call last)",
            "\u001b[0;32m<ipython-input-19-50b74c71f617>\u001b[0m in \u001b[0;36m<cell line: 5>\u001b[0;34m()\u001b[0m\n\u001b[1;32m      3\u001b[0m \u001b[0;31m# Now, you can evaluate the regression performance\u001b[0m\u001b[0;34m\u001b[0m\u001b[0;34m\u001b[0m\u001b[0m\n\u001b[1;32m      4\u001b[0m \u001b[0mevaluator\u001b[0m \u001b[0;34m=\u001b[0m \u001b[0mRegressionEvaluator\u001b[0m\u001b[0;34m(\u001b[0m\u001b[0mlabelCol\u001b[0m\u001b[0;34m=\u001b[0m\u001b[0;34m\"label\"\u001b[0m\u001b[0;34m,\u001b[0m \u001b[0mpredictionCol\u001b[0m\u001b[0;34m=\u001b[0m\u001b[0;34m\"predicted_label\"\u001b[0m\u001b[0;34m,\u001b[0m \u001b[0mmetricName\u001b[0m\u001b[0;34m=\u001b[0m\u001b[0;34m\"rmse\"\u001b[0m\u001b[0;34m)\u001b[0m\u001b[0;34m\u001b[0m\u001b[0;34m\u001b[0m\u001b[0m\n\u001b[0;32m----> 5\u001b[0;31m \u001b[0mrmse\u001b[0m \u001b[0;34m=\u001b[0m \u001b[0mevaluator\u001b[0m\u001b[0;34m.\u001b[0m\u001b[0mevaluate\u001b[0m\u001b[0;34m(\u001b[0m\u001b[0mtest_data\u001b[0m\u001b[0;34m)\u001b[0m\u001b[0;34m\u001b[0m\u001b[0;34m\u001b[0m\u001b[0m\n\u001b[0m\u001b[1;32m      6\u001b[0m \u001b[0mprint\u001b[0m\u001b[0;34m(\u001b[0m\u001b[0;34m\"Test set RMSE = \"\u001b[0m \u001b[0;34m+\u001b[0m \u001b[0mstr\u001b[0m\u001b[0;34m(\u001b[0m\u001b[0mrmse\u001b[0m\u001b[0;34m)\u001b[0m\u001b[0;34m)\u001b[0m\u001b[0;34m\u001b[0m\u001b[0;34m\u001b[0m\u001b[0m\n",
            "\u001b[0;32m/usr/local/lib/python3.10/dist-packages/pyspark/ml/evaluation.py\u001b[0m in \u001b[0;36mevaluate\u001b[0;34m(self, dataset, params)\u001b[0m\n\u001b[1;32m    109\u001b[0m                 \u001b[0;32mreturn\u001b[0m \u001b[0mself\u001b[0m\u001b[0;34m.\u001b[0m\u001b[0mcopy\u001b[0m\u001b[0;34m(\u001b[0m\u001b[0mparams\u001b[0m\u001b[0;34m)\u001b[0m\u001b[0;34m.\u001b[0m\u001b[0m_evaluate\u001b[0m\u001b[0;34m(\u001b[0m\u001b[0mdataset\u001b[0m\u001b[0;34m)\u001b[0m\u001b[0;34m\u001b[0m\u001b[0;34m\u001b[0m\u001b[0m\n\u001b[1;32m    110\u001b[0m             \u001b[0;32melse\u001b[0m\u001b[0;34m:\u001b[0m\u001b[0;34m\u001b[0m\u001b[0;34m\u001b[0m\u001b[0m\n\u001b[0;32m--> 111\u001b[0;31m                 \u001b[0;32mreturn\u001b[0m \u001b[0mself\u001b[0m\u001b[0;34m.\u001b[0m\u001b[0m_evaluate\u001b[0m\u001b[0;34m(\u001b[0m\u001b[0mdataset\u001b[0m\u001b[0;34m)\u001b[0m\u001b[0;34m\u001b[0m\u001b[0;34m\u001b[0m\u001b[0m\n\u001b[0m\u001b[1;32m    112\u001b[0m         \u001b[0;32melse\u001b[0m\u001b[0;34m:\u001b[0m\u001b[0;34m\u001b[0m\u001b[0;34m\u001b[0m\u001b[0m\n\u001b[1;32m    113\u001b[0m             \u001b[0;32mraise\u001b[0m \u001b[0mTypeError\u001b[0m\u001b[0;34m(\u001b[0m\u001b[0;34m\"Params must be a param map but got %s.\"\u001b[0m \u001b[0;34m%\u001b[0m \u001b[0mtype\u001b[0m\u001b[0;34m(\u001b[0m\u001b[0mparams\u001b[0m\u001b[0;34m)\u001b[0m\u001b[0;34m)\u001b[0m\u001b[0;34m\u001b[0m\u001b[0;34m\u001b[0m\u001b[0m\n",
            "\u001b[0;32m/usr/local/lib/python3.10/dist-packages/pyspark/ml/evaluation.py\u001b[0m in \u001b[0;36m_evaluate\u001b[0;34m(self, dataset)\u001b[0m\n\u001b[1;32m    146\u001b[0m         \u001b[0mself\u001b[0m\u001b[0;34m.\u001b[0m\u001b[0m_transfer_params_to_java\u001b[0m\u001b[0;34m(\u001b[0m\u001b[0;34m)\u001b[0m\u001b[0;34m\u001b[0m\u001b[0;34m\u001b[0m\u001b[0m\n\u001b[1;32m    147\u001b[0m         \u001b[0;32massert\u001b[0m \u001b[0mself\u001b[0m\u001b[0;34m.\u001b[0m\u001b[0m_java_obj\u001b[0m \u001b[0;32mis\u001b[0m \u001b[0;32mnot\u001b[0m \u001b[0;32mNone\u001b[0m\u001b[0;34m\u001b[0m\u001b[0;34m\u001b[0m\u001b[0m\n\u001b[0;32m--> 148\u001b[0;31m         \u001b[0;32mreturn\u001b[0m \u001b[0mself\u001b[0m\u001b[0;34m.\u001b[0m\u001b[0m_java_obj\u001b[0m\u001b[0;34m.\u001b[0m\u001b[0mevaluate\u001b[0m\u001b[0;34m(\u001b[0m\u001b[0mdataset\u001b[0m\u001b[0;34m.\u001b[0m\u001b[0m_jdf\u001b[0m\u001b[0;34m)\u001b[0m\u001b[0;34m\u001b[0m\u001b[0;34m\u001b[0m\u001b[0m\n\u001b[0m\u001b[1;32m    149\u001b[0m \u001b[0;34m\u001b[0m\u001b[0m\n\u001b[1;32m    150\u001b[0m     \u001b[0;32mdef\u001b[0m \u001b[0misLargerBetter\u001b[0m\u001b[0;34m(\u001b[0m\u001b[0mself\u001b[0m\u001b[0;34m)\u001b[0m \u001b[0;34m->\u001b[0m \u001b[0mbool\u001b[0m\u001b[0;34m:\u001b[0m\u001b[0;34m\u001b[0m\u001b[0;34m\u001b[0m\u001b[0m\n",
            "\u001b[0;32m/usr/local/lib/python3.10/dist-packages/py4j/java_gateway.py\u001b[0m in \u001b[0;36m__call__\u001b[0;34m(self, *args)\u001b[0m\n\u001b[1;32m   1319\u001b[0m             \u001b[0mproto\u001b[0m\u001b[0;34m.\u001b[0m\u001b[0mEND_COMMAND_PART\u001b[0m\u001b[0;34m\u001b[0m\u001b[0;34m\u001b[0m\u001b[0m\n\u001b[1;32m   1320\u001b[0m \u001b[0;34m\u001b[0m\u001b[0m\n\u001b[0;32m-> 1321\u001b[0;31m         \u001b[0manswer\u001b[0m \u001b[0;34m=\u001b[0m \u001b[0mself\u001b[0m\u001b[0;34m.\u001b[0m\u001b[0mgateway_client\u001b[0m\u001b[0;34m.\u001b[0m\u001b[0msend_command\u001b[0m\u001b[0;34m(\u001b[0m\u001b[0mcommand\u001b[0m\u001b[0;34m)\u001b[0m\u001b[0;34m\u001b[0m\u001b[0;34m\u001b[0m\u001b[0m\n\u001b[0m\u001b[1;32m   1322\u001b[0m         return_value = get_return_value(\n\u001b[1;32m   1323\u001b[0m             answer, self.gateway_client, self.target_id, self.name)\n",
            "\u001b[0;32m/usr/local/lib/python3.10/dist-packages/py4j/java_gateway.py\u001b[0m in \u001b[0;36msend_command\u001b[0;34m(self, command, retry, binary)\u001b[0m\n\u001b[1;32m   1036\u001b[0m         \u001b[0mconnection\u001b[0m \u001b[0;34m=\u001b[0m \u001b[0mself\u001b[0m\u001b[0;34m.\u001b[0m\u001b[0m_get_connection\u001b[0m\u001b[0;34m(\u001b[0m\u001b[0;34m)\u001b[0m\u001b[0;34m\u001b[0m\u001b[0;34m\u001b[0m\u001b[0m\n\u001b[1;32m   1037\u001b[0m         \u001b[0;32mtry\u001b[0m\u001b[0;34m:\u001b[0m\u001b[0;34m\u001b[0m\u001b[0;34m\u001b[0m\u001b[0m\n\u001b[0;32m-> 1038\u001b[0;31m             \u001b[0mresponse\u001b[0m \u001b[0;34m=\u001b[0m \u001b[0mconnection\u001b[0m\u001b[0;34m.\u001b[0m\u001b[0msend_command\u001b[0m\u001b[0;34m(\u001b[0m\u001b[0mcommand\u001b[0m\u001b[0;34m)\u001b[0m\u001b[0;34m\u001b[0m\u001b[0;34m\u001b[0m\u001b[0m\n\u001b[0m\u001b[1;32m   1039\u001b[0m             \u001b[0;32mif\u001b[0m \u001b[0mbinary\u001b[0m\u001b[0;34m:\u001b[0m\u001b[0;34m\u001b[0m\u001b[0;34m\u001b[0m\u001b[0m\n\u001b[1;32m   1040\u001b[0m                 \u001b[0;32mreturn\u001b[0m \u001b[0mresponse\u001b[0m\u001b[0;34m,\u001b[0m \u001b[0mself\u001b[0m\u001b[0;34m.\u001b[0m\u001b[0m_create_connection_guard\u001b[0m\u001b[0;34m(\u001b[0m\u001b[0mconnection\u001b[0m\u001b[0;34m)\u001b[0m\u001b[0;34m\u001b[0m\u001b[0;34m\u001b[0m\u001b[0m\n",
            "\u001b[0;32m/usr/local/lib/python3.10/dist-packages/py4j/clientserver.py\u001b[0m in \u001b[0;36msend_command\u001b[0;34m(self, command)\u001b[0m\n\u001b[1;32m    509\u001b[0m         \u001b[0;32mtry\u001b[0m\u001b[0;34m:\u001b[0m\u001b[0;34m\u001b[0m\u001b[0;34m\u001b[0m\u001b[0m\n\u001b[1;32m    510\u001b[0m             \u001b[0;32mwhile\u001b[0m \u001b[0;32mTrue\u001b[0m\u001b[0;34m:\u001b[0m\u001b[0;34m\u001b[0m\u001b[0;34m\u001b[0m\u001b[0m\n\u001b[0;32m--> 511\u001b[0;31m                 \u001b[0manswer\u001b[0m \u001b[0;34m=\u001b[0m \u001b[0msmart_decode\u001b[0m\u001b[0;34m(\u001b[0m\u001b[0mself\u001b[0m\u001b[0;34m.\u001b[0m\u001b[0mstream\u001b[0m\u001b[0;34m.\u001b[0m\u001b[0mreadline\u001b[0m\u001b[0;34m(\u001b[0m\u001b[0;34m)\u001b[0m\u001b[0;34m[\u001b[0m\u001b[0;34m:\u001b[0m\u001b[0;34m-\u001b[0m\u001b[0;36m1\u001b[0m\u001b[0;34m]\u001b[0m\u001b[0;34m)\u001b[0m\u001b[0;34m\u001b[0m\u001b[0;34m\u001b[0m\u001b[0m\n\u001b[0m\u001b[1;32m    512\u001b[0m                 \u001b[0mlogger\u001b[0m\u001b[0;34m.\u001b[0m\u001b[0mdebug\u001b[0m\u001b[0;34m(\u001b[0m\u001b[0;34m\"Answer received: {0}\"\u001b[0m\u001b[0;34m.\u001b[0m\u001b[0mformat\u001b[0m\u001b[0;34m(\u001b[0m\u001b[0manswer\u001b[0m\u001b[0;34m)\u001b[0m\u001b[0;34m)\u001b[0m\u001b[0;34m\u001b[0m\u001b[0;34m\u001b[0m\u001b[0m\n\u001b[1;32m    513\u001b[0m                 \u001b[0;31m# Happens when a the other end is dead. There might be an empty\u001b[0m\u001b[0;34m\u001b[0m\u001b[0;34m\u001b[0m\u001b[0m\n",
            "\u001b[0;32m/usr/lib/python3.10/socket.py\u001b[0m in \u001b[0;36mreadinto\u001b[0;34m(self, b)\u001b[0m\n\u001b[1;32m    703\u001b[0m         \u001b[0;32mwhile\u001b[0m \u001b[0;32mTrue\u001b[0m\u001b[0;34m:\u001b[0m\u001b[0;34m\u001b[0m\u001b[0;34m\u001b[0m\u001b[0m\n\u001b[1;32m    704\u001b[0m             \u001b[0;32mtry\u001b[0m\u001b[0;34m:\u001b[0m\u001b[0;34m\u001b[0m\u001b[0;34m\u001b[0m\u001b[0m\n\u001b[0;32m--> 705\u001b[0;31m                 \u001b[0;32mreturn\u001b[0m \u001b[0mself\u001b[0m\u001b[0;34m.\u001b[0m\u001b[0m_sock\u001b[0m\u001b[0;34m.\u001b[0m\u001b[0mrecv_into\u001b[0m\u001b[0;34m(\u001b[0m\u001b[0mb\u001b[0m\u001b[0;34m)\u001b[0m\u001b[0;34m\u001b[0m\u001b[0;34m\u001b[0m\u001b[0m\n\u001b[0m\u001b[1;32m    706\u001b[0m             \u001b[0;32mexcept\u001b[0m \u001b[0mtimeout\u001b[0m\u001b[0;34m:\u001b[0m\u001b[0;34m\u001b[0m\u001b[0;34m\u001b[0m\u001b[0m\n\u001b[1;32m    707\u001b[0m                 \u001b[0mself\u001b[0m\u001b[0;34m.\u001b[0m\u001b[0m_timeout_occurred\u001b[0m \u001b[0;34m=\u001b[0m \u001b[0;32mTrue\u001b[0m\u001b[0;34m\u001b[0m\u001b[0;34m\u001b[0m\u001b[0m\n",
            "\u001b[0;31mKeyboardInterrupt\u001b[0m: "
          ]
        }
      ]
    },
    {
      "cell_type": "markdown",
      "source": [
        "The above code was executed locally and results were obtained.Here it is taking too long to run."
      ],
      "metadata": {
        "id": "2GYVFA0hoc13"
      }
    },
    {
      "cell_type": "code",
      "source": [],
      "metadata": {
        "id": "jBsHpCzjdi3t"
      },
      "execution_count": null,
      "outputs": []
    }
  ],
  "metadata": {
    "colab": {
      "provenance": []
    },
    "kernelspec": {
      "display_name": "Python 3",
      "name": "python3"
    },
    "language_info": {
      "name": "python"
    },
    "widgets": {
      "application/vnd.jupyter.widget-state+json": {
        "e0f7e7df53f842e8a71befb269497799": {
          "model_module": "@jupyter-widgets/controls",
          "model_name": "HBoxModel",
          "model_module_version": "1.5.0",
          "state": {
            "_dom_classes": [],
            "_model_module": "@jupyter-widgets/controls",
            "_model_module_version": "1.5.0",
            "_model_name": "HBoxModel",
            "_view_count": null,
            "_view_module": "@jupyter-widgets/controls",
            "_view_module_version": "1.5.0",
            "_view_name": "HBoxView",
            "box_style": "",
            "children": [
              "IPY_MODEL_1c4233bd2e8a4aaead22664069be4fc1",
              "IPY_MODEL_8ec60fed1dc5409dbbd712d2c207aaf3",
              "IPY_MODEL_632ea987fff34427be0f50f34b131879"
            ],
            "layout": "IPY_MODEL_99c5e36f12e04f7e9ac839ae5ec1390b"
          }
        },
        "1c4233bd2e8a4aaead22664069be4fc1": {
          "model_module": "@jupyter-widgets/controls",
          "model_name": "HTMLModel",
          "model_module_version": "1.5.0",
          "state": {
            "_dom_classes": [],
            "_model_module": "@jupyter-widgets/controls",
            "_model_module_version": "1.5.0",
            "_model_name": "HTMLModel",
            "_view_count": null,
            "_view_module": "@jupyter-widgets/controls",
            "_view_module_version": "1.5.0",
            "_view_name": "HTMLView",
            "description": "",
            "description_tooltip": null,
            "layout": "IPY_MODEL_7a33038fddb34b5b815d42778366ce61",
            "placeholder": "​",
            "style": "IPY_MODEL_bf72403496d3480388e4710f76a911da",
            "value": "Downloading readme: 100%"
          }
        },
        "8ec60fed1dc5409dbbd712d2c207aaf3": {
          "model_module": "@jupyter-widgets/controls",
          "model_name": "FloatProgressModel",
          "model_module_version": "1.5.0",
          "state": {
            "_dom_classes": [],
            "_model_module": "@jupyter-widgets/controls",
            "_model_module_version": "1.5.0",
            "_model_name": "FloatProgressModel",
            "_view_count": null,
            "_view_module": "@jupyter-widgets/controls",
            "_view_module_version": "1.5.0",
            "_view_name": "ProgressView",
            "bar_style": "success",
            "description": "",
            "description_tooltip": null,
            "layout": "IPY_MODEL_c37e085009f64943b0799458aeee22a6",
            "max": 835,
            "min": 0,
            "orientation": "horizontal",
            "style": "IPY_MODEL_38d0b24a00054a9b86564c115da971aa",
            "value": 835
          }
        },
        "632ea987fff34427be0f50f34b131879": {
          "model_module": "@jupyter-widgets/controls",
          "model_name": "HTMLModel",
          "model_module_version": "1.5.0",
          "state": {
            "_dom_classes": [],
            "_model_module": "@jupyter-widgets/controls",
            "_model_module_version": "1.5.0",
            "_model_name": "HTMLModel",
            "_view_count": null,
            "_view_module": "@jupyter-widgets/controls",
            "_view_module_version": "1.5.0",
            "_view_name": "HTMLView",
            "description": "",
            "description_tooltip": null,
            "layout": "IPY_MODEL_e4f744d7579b4ab4b8058f0eed4b8093",
            "placeholder": "​",
            "style": "IPY_MODEL_b7873170920b4b18815ab6f01e5e9ebd",
            "value": " 835/835 [00:00&lt;00:00, 19.9kB/s]"
          }
        },
        "99c5e36f12e04f7e9ac839ae5ec1390b": {
          "model_module": "@jupyter-widgets/base",
          "model_name": "LayoutModel",
          "model_module_version": "1.2.0",
          "state": {
            "_model_module": "@jupyter-widgets/base",
            "_model_module_version": "1.2.0",
            "_model_name": "LayoutModel",
            "_view_count": null,
            "_view_module": "@jupyter-widgets/base",
            "_view_module_version": "1.2.0",
            "_view_name": "LayoutView",
            "align_content": null,
            "align_items": null,
            "align_self": null,
            "border": null,
            "bottom": null,
            "display": null,
            "flex": null,
            "flex_flow": null,
            "grid_area": null,
            "grid_auto_columns": null,
            "grid_auto_flow": null,
            "grid_auto_rows": null,
            "grid_column": null,
            "grid_gap": null,
            "grid_row": null,
            "grid_template_areas": null,
            "grid_template_columns": null,
            "grid_template_rows": null,
            "height": null,
            "justify_content": null,
            "justify_items": null,
            "left": null,
            "margin": null,
            "max_height": null,
            "max_width": null,
            "min_height": null,
            "min_width": null,
            "object_fit": null,
            "object_position": null,
            "order": null,
            "overflow": null,
            "overflow_x": null,
            "overflow_y": null,
            "padding": null,
            "right": null,
            "top": null,
            "visibility": null,
            "width": null
          }
        },
        "7a33038fddb34b5b815d42778366ce61": {
          "model_module": "@jupyter-widgets/base",
          "model_name": "LayoutModel",
          "model_module_version": "1.2.0",
          "state": {
            "_model_module": "@jupyter-widgets/base",
            "_model_module_version": "1.2.0",
            "_model_name": "LayoutModel",
            "_view_count": null,
            "_view_module": "@jupyter-widgets/base",
            "_view_module_version": "1.2.0",
            "_view_name": "LayoutView",
            "align_content": null,
            "align_items": null,
            "align_self": null,
            "border": null,
            "bottom": null,
            "display": null,
            "flex": null,
            "flex_flow": null,
            "grid_area": null,
            "grid_auto_columns": null,
            "grid_auto_flow": null,
            "grid_auto_rows": null,
            "grid_column": null,
            "grid_gap": null,
            "grid_row": null,
            "grid_template_areas": null,
            "grid_template_columns": null,
            "grid_template_rows": null,
            "height": null,
            "justify_content": null,
            "justify_items": null,
            "left": null,
            "margin": null,
            "max_height": null,
            "max_width": null,
            "min_height": null,
            "min_width": null,
            "object_fit": null,
            "object_position": null,
            "order": null,
            "overflow": null,
            "overflow_x": null,
            "overflow_y": null,
            "padding": null,
            "right": null,
            "top": null,
            "visibility": null,
            "width": null
          }
        },
        "bf72403496d3480388e4710f76a911da": {
          "model_module": "@jupyter-widgets/controls",
          "model_name": "DescriptionStyleModel",
          "model_module_version": "1.5.0",
          "state": {
            "_model_module": "@jupyter-widgets/controls",
            "_model_module_version": "1.5.0",
            "_model_name": "DescriptionStyleModel",
            "_view_count": null,
            "_view_module": "@jupyter-widgets/base",
            "_view_module_version": "1.2.0",
            "_view_name": "StyleView",
            "description_width": ""
          }
        },
        "c37e085009f64943b0799458aeee22a6": {
          "model_module": "@jupyter-widgets/base",
          "model_name": "LayoutModel",
          "model_module_version": "1.2.0",
          "state": {
            "_model_module": "@jupyter-widgets/base",
            "_model_module_version": "1.2.0",
            "_model_name": "LayoutModel",
            "_view_count": null,
            "_view_module": "@jupyter-widgets/base",
            "_view_module_version": "1.2.0",
            "_view_name": "LayoutView",
            "align_content": null,
            "align_items": null,
            "align_self": null,
            "border": null,
            "bottom": null,
            "display": null,
            "flex": null,
            "flex_flow": null,
            "grid_area": null,
            "grid_auto_columns": null,
            "grid_auto_flow": null,
            "grid_auto_rows": null,
            "grid_column": null,
            "grid_gap": null,
            "grid_row": null,
            "grid_template_areas": null,
            "grid_template_columns": null,
            "grid_template_rows": null,
            "height": null,
            "justify_content": null,
            "justify_items": null,
            "left": null,
            "margin": null,
            "max_height": null,
            "max_width": null,
            "min_height": null,
            "min_width": null,
            "object_fit": null,
            "object_position": null,
            "order": null,
            "overflow": null,
            "overflow_x": null,
            "overflow_y": null,
            "padding": null,
            "right": null,
            "top": null,
            "visibility": null,
            "width": null
          }
        },
        "38d0b24a00054a9b86564c115da971aa": {
          "model_module": "@jupyter-widgets/controls",
          "model_name": "ProgressStyleModel",
          "model_module_version": "1.5.0",
          "state": {
            "_model_module": "@jupyter-widgets/controls",
            "_model_module_version": "1.5.0",
            "_model_name": "ProgressStyleModel",
            "_view_count": null,
            "_view_module": "@jupyter-widgets/base",
            "_view_module_version": "1.2.0",
            "_view_name": "StyleView",
            "bar_color": null,
            "description_width": ""
          }
        },
        "e4f744d7579b4ab4b8058f0eed4b8093": {
          "model_module": "@jupyter-widgets/base",
          "model_name": "LayoutModel",
          "model_module_version": "1.2.0",
          "state": {
            "_model_module": "@jupyter-widgets/base",
            "_model_module_version": "1.2.0",
            "_model_name": "LayoutModel",
            "_view_count": null,
            "_view_module": "@jupyter-widgets/base",
            "_view_module_version": "1.2.0",
            "_view_name": "LayoutView",
            "align_content": null,
            "align_items": null,
            "align_self": null,
            "border": null,
            "bottom": null,
            "display": null,
            "flex": null,
            "flex_flow": null,
            "grid_area": null,
            "grid_auto_columns": null,
            "grid_auto_flow": null,
            "grid_auto_rows": null,
            "grid_column": null,
            "grid_gap": null,
            "grid_row": null,
            "grid_template_areas": null,
            "grid_template_columns": null,
            "grid_template_rows": null,
            "height": null,
            "justify_content": null,
            "justify_items": null,
            "left": null,
            "margin": null,
            "max_height": null,
            "max_width": null,
            "min_height": null,
            "min_width": null,
            "object_fit": null,
            "object_position": null,
            "order": null,
            "overflow": null,
            "overflow_x": null,
            "overflow_y": null,
            "padding": null,
            "right": null,
            "top": null,
            "visibility": null,
            "width": null
          }
        },
        "b7873170920b4b18815ab6f01e5e9ebd": {
          "model_module": "@jupyter-widgets/controls",
          "model_name": "DescriptionStyleModel",
          "model_module_version": "1.5.0",
          "state": {
            "_model_module": "@jupyter-widgets/controls",
            "_model_module_version": "1.5.0",
            "_model_name": "DescriptionStyleModel",
            "_view_count": null,
            "_view_module": "@jupyter-widgets/base",
            "_view_module_version": "1.2.0",
            "_view_name": "StyleView",
            "description_width": ""
          }
        },
        "0bf672ccf77a46d5bc347d3d9d6b66af": {
          "model_module": "@jupyter-widgets/controls",
          "model_name": "HBoxModel",
          "model_module_version": "1.5.0",
          "state": {
            "_dom_classes": [],
            "_model_module": "@jupyter-widgets/controls",
            "_model_module_version": "1.5.0",
            "_model_name": "HBoxModel",
            "_view_count": null,
            "_view_module": "@jupyter-widgets/controls",
            "_view_module_version": "1.5.0",
            "_view_name": "HBoxView",
            "box_style": "",
            "children": [
              "IPY_MODEL_933ee2fed35348a5bca73b5707f3f827",
              "IPY_MODEL_1a492b82ef1b44789bcd232d10d2e7d6",
              "IPY_MODEL_50bf963721fb44f78c01667f37eadf3a"
            ],
            "layout": "IPY_MODEL_83055b0722d244b182811d5832de7f91"
          }
        },
        "933ee2fed35348a5bca73b5707f3f827": {
          "model_module": "@jupyter-widgets/controls",
          "model_name": "HTMLModel",
          "model_module_version": "1.5.0",
          "state": {
            "_dom_classes": [],
            "_model_module": "@jupyter-widgets/controls",
            "_model_module_version": "1.5.0",
            "_model_name": "HTMLModel",
            "_view_count": null,
            "_view_module": "@jupyter-widgets/controls",
            "_view_module_version": "1.5.0",
            "_view_name": "HTMLView",
            "description": "",
            "description_tooltip": null,
            "layout": "IPY_MODEL_056a8ae625ed4dc29b2ad85cc90992d8",
            "placeholder": "​",
            "style": "IPY_MODEL_20570b4fe543412a9281d632aa659727",
            "value": "Downloading data: 100%"
          }
        },
        "1a492b82ef1b44789bcd232d10d2e7d6": {
          "model_module": "@jupyter-widgets/controls",
          "model_name": "FloatProgressModel",
          "model_module_version": "1.5.0",
          "state": {
            "_dom_classes": [],
            "_model_module": "@jupyter-widgets/controls",
            "_model_module_version": "1.5.0",
            "_model_name": "FloatProgressModel",
            "_view_count": null,
            "_view_module": "@jupyter-widgets/controls",
            "_view_module_version": "1.5.0",
            "_view_name": "ProgressView",
            "bar_style": "success",
            "description": "",
            "description_tooltip": null,
            "layout": "IPY_MODEL_ce85793249364005a13c6e52e4a2f9cd",
            "max": 138141954,
            "min": 0,
            "orientation": "horizontal",
            "style": "IPY_MODEL_29da48da6a114286a5a6d1ea2c0132cd",
            "value": 138141954
          }
        },
        "50bf963721fb44f78c01667f37eadf3a": {
          "model_module": "@jupyter-widgets/controls",
          "model_name": "HTMLModel",
          "model_module_version": "1.5.0",
          "state": {
            "_dom_classes": [],
            "_model_module": "@jupyter-widgets/controls",
            "_model_module_version": "1.5.0",
            "_model_name": "HTMLModel",
            "_view_count": null,
            "_view_module": "@jupyter-widgets/controls",
            "_view_module_version": "1.5.0",
            "_view_name": "HTMLView",
            "description": "",
            "description_tooltip": null,
            "layout": "IPY_MODEL_bcd46486a1d84c57a9f872f5473a08ca",
            "placeholder": "​",
            "style": "IPY_MODEL_66b5d40ed9fc40d1941ca5158bb31d2c",
            "value": " 138M/138M [00:01&lt;00:00, 119MB/s]"
          }
        },
        "83055b0722d244b182811d5832de7f91": {
          "model_module": "@jupyter-widgets/base",
          "model_name": "LayoutModel",
          "model_module_version": "1.2.0",
          "state": {
            "_model_module": "@jupyter-widgets/base",
            "_model_module_version": "1.2.0",
            "_model_name": "LayoutModel",
            "_view_count": null,
            "_view_module": "@jupyter-widgets/base",
            "_view_module_version": "1.2.0",
            "_view_name": "LayoutView",
            "align_content": null,
            "align_items": null,
            "align_self": null,
            "border": null,
            "bottom": null,
            "display": null,
            "flex": null,
            "flex_flow": null,
            "grid_area": null,
            "grid_auto_columns": null,
            "grid_auto_flow": null,
            "grid_auto_rows": null,
            "grid_column": null,
            "grid_gap": null,
            "grid_row": null,
            "grid_template_areas": null,
            "grid_template_columns": null,
            "grid_template_rows": null,
            "height": null,
            "justify_content": null,
            "justify_items": null,
            "left": null,
            "margin": null,
            "max_height": null,
            "max_width": null,
            "min_height": null,
            "min_width": null,
            "object_fit": null,
            "object_position": null,
            "order": null,
            "overflow": null,
            "overflow_x": null,
            "overflow_y": null,
            "padding": null,
            "right": null,
            "top": null,
            "visibility": null,
            "width": null
          }
        },
        "056a8ae625ed4dc29b2ad85cc90992d8": {
          "model_module": "@jupyter-widgets/base",
          "model_name": "LayoutModel",
          "model_module_version": "1.2.0",
          "state": {
            "_model_module": "@jupyter-widgets/base",
            "_model_module_version": "1.2.0",
            "_model_name": "LayoutModel",
            "_view_count": null,
            "_view_module": "@jupyter-widgets/base",
            "_view_module_version": "1.2.0",
            "_view_name": "LayoutView",
            "align_content": null,
            "align_items": null,
            "align_self": null,
            "border": null,
            "bottom": null,
            "display": null,
            "flex": null,
            "flex_flow": null,
            "grid_area": null,
            "grid_auto_columns": null,
            "grid_auto_flow": null,
            "grid_auto_rows": null,
            "grid_column": null,
            "grid_gap": null,
            "grid_row": null,
            "grid_template_areas": null,
            "grid_template_columns": null,
            "grid_template_rows": null,
            "height": null,
            "justify_content": null,
            "justify_items": null,
            "left": null,
            "margin": null,
            "max_height": null,
            "max_width": null,
            "min_height": null,
            "min_width": null,
            "object_fit": null,
            "object_position": null,
            "order": null,
            "overflow": null,
            "overflow_x": null,
            "overflow_y": null,
            "padding": null,
            "right": null,
            "top": null,
            "visibility": null,
            "width": null
          }
        },
        "20570b4fe543412a9281d632aa659727": {
          "model_module": "@jupyter-widgets/controls",
          "model_name": "DescriptionStyleModel",
          "model_module_version": "1.5.0",
          "state": {
            "_model_module": "@jupyter-widgets/controls",
            "_model_module_version": "1.5.0",
            "_model_name": "DescriptionStyleModel",
            "_view_count": null,
            "_view_module": "@jupyter-widgets/base",
            "_view_module_version": "1.2.0",
            "_view_name": "StyleView",
            "description_width": ""
          }
        },
        "ce85793249364005a13c6e52e4a2f9cd": {
          "model_module": "@jupyter-widgets/base",
          "model_name": "LayoutModel",
          "model_module_version": "1.2.0",
          "state": {
            "_model_module": "@jupyter-widgets/base",
            "_model_module_version": "1.2.0",
            "_model_name": "LayoutModel",
            "_view_count": null,
            "_view_module": "@jupyter-widgets/base",
            "_view_module_version": "1.2.0",
            "_view_name": "LayoutView",
            "align_content": null,
            "align_items": null,
            "align_self": null,
            "border": null,
            "bottom": null,
            "display": null,
            "flex": null,
            "flex_flow": null,
            "grid_area": null,
            "grid_auto_columns": null,
            "grid_auto_flow": null,
            "grid_auto_rows": null,
            "grid_column": null,
            "grid_gap": null,
            "grid_row": null,
            "grid_template_areas": null,
            "grid_template_columns": null,
            "grid_template_rows": null,
            "height": null,
            "justify_content": null,
            "justify_items": null,
            "left": null,
            "margin": null,
            "max_height": null,
            "max_width": null,
            "min_height": null,
            "min_width": null,
            "object_fit": null,
            "object_position": null,
            "order": null,
            "overflow": null,
            "overflow_x": null,
            "overflow_y": null,
            "padding": null,
            "right": null,
            "top": null,
            "visibility": null,
            "width": null
          }
        },
        "29da48da6a114286a5a6d1ea2c0132cd": {
          "model_module": "@jupyter-widgets/controls",
          "model_name": "ProgressStyleModel",
          "model_module_version": "1.5.0",
          "state": {
            "_model_module": "@jupyter-widgets/controls",
            "_model_module_version": "1.5.0",
            "_model_name": "ProgressStyleModel",
            "_view_count": null,
            "_view_module": "@jupyter-widgets/base",
            "_view_module_version": "1.2.0",
            "_view_name": "StyleView",
            "bar_color": null,
            "description_width": ""
          }
        },
        "bcd46486a1d84c57a9f872f5473a08ca": {
          "model_module": "@jupyter-widgets/base",
          "model_name": "LayoutModel",
          "model_module_version": "1.2.0",
          "state": {
            "_model_module": "@jupyter-widgets/base",
            "_model_module_version": "1.2.0",
            "_model_name": "LayoutModel",
            "_view_count": null,
            "_view_module": "@jupyter-widgets/base",
            "_view_module_version": "1.2.0",
            "_view_name": "LayoutView",
            "align_content": null,
            "align_items": null,
            "align_self": null,
            "border": null,
            "bottom": null,
            "display": null,
            "flex": null,
            "flex_flow": null,
            "grid_area": null,
            "grid_auto_columns": null,
            "grid_auto_flow": null,
            "grid_auto_rows": null,
            "grid_column": null,
            "grid_gap": null,
            "grid_row": null,
            "grid_template_areas": null,
            "grid_template_columns": null,
            "grid_template_rows": null,
            "height": null,
            "justify_content": null,
            "justify_items": null,
            "left": null,
            "margin": null,
            "max_height": null,
            "max_width": null,
            "min_height": null,
            "min_width": null,
            "object_fit": null,
            "object_position": null,
            "order": null,
            "overflow": null,
            "overflow_x": null,
            "overflow_y": null,
            "padding": null,
            "right": null,
            "top": null,
            "visibility": null,
            "width": null
          }
        },
        "66b5d40ed9fc40d1941ca5158bb31d2c": {
          "model_module": "@jupyter-widgets/controls",
          "model_name": "DescriptionStyleModel",
          "model_module_version": "1.5.0",
          "state": {
            "_model_module": "@jupyter-widgets/controls",
            "_model_module_version": "1.5.0",
            "_model_name": "DescriptionStyleModel",
            "_view_count": null,
            "_view_module": "@jupyter-widgets/base",
            "_view_module_version": "1.2.0",
            "_view_name": "StyleView",
            "description_width": ""
          }
        },
        "6fc3a7a716184b95aa15e320dae80811": {
          "model_module": "@jupyter-widgets/controls",
          "model_name": "HBoxModel",
          "model_module_version": "1.5.0",
          "state": {
            "_dom_classes": [],
            "_model_module": "@jupyter-widgets/controls",
            "_model_module_version": "1.5.0",
            "_model_name": "HBoxModel",
            "_view_count": null,
            "_view_module": "@jupyter-widgets/controls",
            "_view_module_version": "1.5.0",
            "_view_name": "HBoxView",
            "box_style": "",
            "children": [
              "IPY_MODEL_ac6e2359ade543be88d2add335804be3",
              "IPY_MODEL_7a0b63c473fd4f95bc290f49c61a8484",
              "IPY_MODEL_373f658e0d894fcc985cb2eb2d7b5fbf"
            ],
            "layout": "IPY_MODEL_5033c886ee974577bf018fcaef72d67a"
          }
        },
        "ac6e2359ade543be88d2add335804be3": {
          "model_module": "@jupyter-widgets/controls",
          "model_name": "HTMLModel",
          "model_module_version": "1.5.0",
          "state": {
            "_dom_classes": [],
            "_model_module": "@jupyter-widgets/controls",
            "_model_module_version": "1.5.0",
            "_model_name": "HTMLModel",
            "_view_count": null,
            "_view_module": "@jupyter-widgets/controls",
            "_view_module_version": "1.5.0",
            "_view_name": "HTMLView",
            "description": "",
            "description_tooltip": null,
            "layout": "IPY_MODEL_0695189fe9f84d688f939f7847f846eb",
            "placeholder": "​",
            "style": "IPY_MODEL_7d04574376a44c4faf80954d2fae3346",
            "value": "Downloading data: 100%"
          }
        },
        "7a0b63c473fd4f95bc290f49c61a8484": {
          "model_module": "@jupyter-widgets/controls",
          "model_name": "FloatProgressModel",
          "model_module_version": "1.5.0",
          "state": {
            "_dom_classes": [],
            "_model_module": "@jupyter-widgets/controls",
            "_model_module_version": "1.5.0",
            "_model_name": "FloatProgressModel",
            "_view_count": null,
            "_view_module": "@jupyter-widgets/controls",
            "_view_module_version": "1.5.0",
            "_view_name": "ProgressView",
            "bar_style": "success",
            "description": "",
            "description_tooltip": null,
            "layout": "IPY_MODEL_5f0e1e6e26ae4847b89bbaf81fb02237",
            "max": 15388846,
            "min": 0,
            "orientation": "horizontal",
            "style": "IPY_MODEL_70f2d20ffc874c9fa849a717ec9e5724",
            "value": 15388846
          }
        },
        "373f658e0d894fcc985cb2eb2d7b5fbf": {
          "model_module": "@jupyter-widgets/controls",
          "model_name": "HTMLModel",
          "model_module_version": "1.5.0",
          "state": {
            "_dom_classes": [],
            "_model_module": "@jupyter-widgets/controls",
            "_model_module_version": "1.5.0",
            "_model_name": "HTMLModel",
            "_view_count": null,
            "_view_module": "@jupyter-widgets/controls",
            "_view_module_version": "1.5.0",
            "_view_name": "HTMLView",
            "description": "",
            "description_tooltip": null,
            "layout": "IPY_MODEL_4163bfc1ded14827843c3dcc08195222",
            "placeholder": "​",
            "style": "IPY_MODEL_e697ffeffade4ba5a902c4f9f30f8692",
            "value": " 15.4M/15.4M [00:00&lt;00:00, 35.5MB/s]"
          }
        },
        "5033c886ee974577bf018fcaef72d67a": {
          "model_module": "@jupyter-widgets/base",
          "model_name": "LayoutModel",
          "model_module_version": "1.2.0",
          "state": {
            "_model_module": "@jupyter-widgets/base",
            "_model_module_version": "1.2.0",
            "_model_name": "LayoutModel",
            "_view_count": null,
            "_view_module": "@jupyter-widgets/base",
            "_view_module_version": "1.2.0",
            "_view_name": "LayoutView",
            "align_content": null,
            "align_items": null,
            "align_self": null,
            "border": null,
            "bottom": null,
            "display": null,
            "flex": null,
            "flex_flow": null,
            "grid_area": null,
            "grid_auto_columns": null,
            "grid_auto_flow": null,
            "grid_auto_rows": null,
            "grid_column": null,
            "grid_gap": null,
            "grid_row": null,
            "grid_template_areas": null,
            "grid_template_columns": null,
            "grid_template_rows": null,
            "height": null,
            "justify_content": null,
            "justify_items": null,
            "left": null,
            "margin": null,
            "max_height": null,
            "max_width": null,
            "min_height": null,
            "min_width": null,
            "object_fit": null,
            "object_position": null,
            "order": null,
            "overflow": null,
            "overflow_x": null,
            "overflow_y": null,
            "padding": null,
            "right": null,
            "top": null,
            "visibility": null,
            "width": null
          }
        },
        "0695189fe9f84d688f939f7847f846eb": {
          "model_module": "@jupyter-widgets/base",
          "model_name": "LayoutModel",
          "model_module_version": "1.2.0",
          "state": {
            "_model_module": "@jupyter-widgets/base",
            "_model_module_version": "1.2.0",
            "_model_name": "LayoutModel",
            "_view_count": null,
            "_view_module": "@jupyter-widgets/base",
            "_view_module_version": "1.2.0",
            "_view_name": "LayoutView",
            "align_content": null,
            "align_items": null,
            "align_self": null,
            "border": null,
            "bottom": null,
            "display": null,
            "flex": null,
            "flex_flow": null,
            "grid_area": null,
            "grid_auto_columns": null,
            "grid_auto_flow": null,
            "grid_auto_rows": null,
            "grid_column": null,
            "grid_gap": null,
            "grid_row": null,
            "grid_template_areas": null,
            "grid_template_columns": null,
            "grid_template_rows": null,
            "height": null,
            "justify_content": null,
            "justify_items": null,
            "left": null,
            "margin": null,
            "max_height": null,
            "max_width": null,
            "min_height": null,
            "min_width": null,
            "object_fit": null,
            "object_position": null,
            "order": null,
            "overflow": null,
            "overflow_x": null,
            "overflow_y": null,
            "padding": null,
            "right": null,
            "top": null,
            "visibility": null,
            "width": null
          }
        },
        "7d04574376a44c4faf80954d2fae3346": {
          "model_module": "@jupyter-widgets/controls",
          "model_name": "DescriptionStyleModel",
          "model_module_version": "1.5.0",
          "state": {
            "_model_module": "@jupyter-widgets/controls",
            "_model_module_version": "1.5.0",
            "_model_name": "DescriptionStyleModel",
            "_view_count": null,
            "_view_module": "@jupyter-widgets/base",
            "_view_module_version": "1.2.0",
            "_view_name": "StyleView",
            "description_width": ""
          }
        },
        "5f0e1e6e26ae4847b89bbaf81fb02237": {
          "model_module": "@jupyter-widgets/base",
          "model_name": "LayoutModel",
          "model_module_version": "1.2.0",
          "state": {
            "_model_module": "@jupyter-widgets/base",
            "_model_module_version": "1.2.0",
            "_model_name": "LayoutModel",
            "_view_count": null,
            "_view_module": "@jupyter-widgets/base",
            "_view_module_version": "1.2.0",
            "_view_name": "LayoutView",
            "align_content": null,
            "align_items": null,
            "align_self": null,
            "border": null,
            "bottom": null,
            "display": null,
            "flex": null,
            "flex_flow": null,
            "grid_area": null,
            "grid_auto_columns": null,
            "grid_auto_flow": null,
            "grid_auto_rows": null,
            "grid_column": null,
            "grid_gap": null,
            "grid_row": null,
            "grid_template_areas": null,
            "grid_template_columns": null,
            "grid_template_rows": null,
            "height": null,
            "justify_content": null,
            "justify_items": null,
            "left": null,
            "margin": null,
            "max_height": null,
            "max_width": null,
            "min_height": null,
            "min_width": null,
            "object_fit": null,
            "object_position": null,
            "order": null,
            "overflow": null,
            "overflow_x": null,
            "overflow_y": null,
            "padding": null,
            "right": null,
            "top": null,
            "visibility": null,
            "width": null
          }
        },
        "70f2d20ffc874c9fa849a717ec9e5724": {
          "model_module": "@jupyter-widgets/controls",
          "model_name": "ProgressStyleModel",
          "model_module_version": "1.5.0",
          "state": {
            "_model_module": "@jupyter-widgets/controls",
            "_model_module_version": "1.5.0",
            "_model_name": "ProgressStyleModel",
            "_view_count": null,
            "_view_module": "@jupyter-widgets/base",
            "_view_module_version": "1.2.0",
            "_view_name": "StyleView",
            "bar_color": null,
            "description_width": ""
          }
        },
        "4163bfc1ded14827843c3dcc08195222": {
          "model_module": "@jupyter-widgets/base",
          "model_name": "LayoutModel",
          "model_module_version": "1.2.0",
          "state": {
            "_model_module": "@jupyter-widgets/base",
            "_model_module_version": "1.2.0",
            "_model_name": "LayoutModel",
            "_view_count": null,
            "_view_module": "@jupyter-widgets/base",
            "_view_module_version": "1.2.0",
            "_view_name": "LayoutView",
            "align_content": null,
            "align_items": null,
            "align_self": null,
            "border": null,
            "bottom": null,
            "display": null,
            "flex": null,
            "flex_flow": null,
            "grid_area": null,
            "grid_auto_columns": null,
            "grid_auto_flow": null,
            "grid_auto_rows": null,
            "grid_column": null,
            "grid_gap": null,
            "grid_row": null,
            "grid_template_areas": null,
            "grid_template_columns": null,
            "grid_template_rows": null,
            "height": null,
            "justify_content": null,
            "justify_items": null,
            "left": null,
            "margin": null,
            "max_height": null,
            "max_width": null,
            "min_height": null,
            "min_width": null,
            "object_fit": null,
            "object_position": null,
            "order": null,
            "overflow": null,
            "overflow_x": null,
            "overflow_y": null,
            "padding": null,
            "right": null,
            "top": null,
            "visibility": null,
            "width": null
          }
        },
        "e697ffeffade4ba5a902c4f9f30f8692": {
          "model_module": "@jupyter-widgets/controls",
          "model_name": "DescriptionStyleModel",
          "model_module_version": "1.5.0",
          "state": {
            "_model_module": "@jupyter-widgets/controls",
            "_model_module_version": "1.5.0",
            "_model_name": "DescriptionStyleModel",
            "_view_count": null,
            "_view_module": "@jupyter-widgets/base",
            "_view_module_version": "1.2.0",
            "_view_name": "StyleView",
            "description_width": ""
          }
        },
        "7141a02256d34592937329543b9b66d9": {
          "model_module": "@jupyter-widgets/controls",
          "model_name": "HBoxModel",
          "model_module_version": "1.5.0",
          "state": {
            "_dom_classes": [],
            "_model_module": "@jupyter-widgets/controls",
            "_model_module_version": "1.5.0",
            "_model_name": "HBoxModel",
            "_view_count": null,
            "_view_module": "@jupyter-widgets/controls",
            "_view_module_version": "1.5.0",
            "_view_name": "HBoxView",
            "box_style": "",
            "children": [
              "IPY_MODEL_82832fe255f046d1948b6d62557af682",
              "IPY_MODEL_0845283aee7947929e1be96dcc20defb",
              "IPY_MODEL_8355bd1a61564c2ebcdb0c241d58e796"
            ],
            "layout": "IPY_MODEL_88c51946423b4cfebbda3ba10b8dc74a"
          }
        },
        "82832fe255f046d1948b6d62557af682": {
          "model_module": "@jupyter-widgets/controls",
          "model_name": "HTMLModel",
          "model_module_version": "1.5.0",
          "state": {
            "_dom_classes": [],
            "_model_module": "@jupyter-widgets/controls",
            "_model_module_version": "1.5.0",
            "_model_name": "HTMLModel",
            "_view_count": null,
            "_view_module": "@jupyter-widgets/controls",
            "_view_module_version": "1.5.0",
            "_view_name": "HTMLView",
            "description": "",
            "description_tooltip": null,
            "layout": "IPY_MODEL_a181110d5cbb4cd0b35c98819b1aa6ca",
            "placeholder": "​",
            "style": "IPY_MODEL_9e89cab5214e4a2dacdffac2ef5c1d2f",
            "value": "Generating train split: 100%"
          }
        },
        "0845283aee7947929e1be96dcc20defb": {
          "model_module": "@jupyter-widgets/controls",
          "model_name": "FloatProgressModel",
          "model_module_version": "1.5.0",
          "state": {
            "_dom_classes": [],
            "_model_module": "@jupyter-widgets/controls",
            "_model_module_version": "1.5.0",
            "_model_name": "FloatProgressModel",
            "_view_count": null,
            "_view_module": "@jupyter-widgets/controls",
            "_view_module_version": "1.5.0",
            "_view_name": "ProgressView",
            "bar_style": "success",
            "description": "",
            "description_tooltip": null,
            "layout": "IPY_MODEL_5655c10dc9bb4c3782e00cdd044466c4",
            "max": 284024,
            "min": 0,
            "orientation": "horizontal",
            "style": "IPY_MODEL_4a851bd1005d4965a416ac62212f767b",
            "value": 284024
          }
        },
        "8355bd1a61564c2ebcdb0c241d58e796": {
          "model_module": "@jupyter-widgets/controls",
          "model_name": "HTMLModel",
          "model_module_version": "1.5.0",
          "state": {
            "_dom_classes": [],
            "_model_module": "@jupyter-widgets/controls",
            "_model_module_version": "1.5.0",
            "_model_name": "HTMLModel",
            "_view_count": null,
            "_view_module": "@jupyter-widgets/controls",
            "_view_module_version": "1.5.0",
            "_view_name": "HTMLView",
            "description": "",
            "description_tooltip": null,
            "layout": "IPY_MODEL_cfa4dcf92aaa43368343c29532476303",
            "placeholder": "​",
            "style": "IPY_MODEL_c68834491b5c4e5296d71770187549dd",
            "value": " 284024/284024 [00:08&lt;00:00, 33957.21 examples/s]"
          }
        },
        "88c51946423b4cfebbda3ba10b8dc74a": {
          "model_module": "@jupyter-widgets/base",
          "model_name": "LayoutModel",
          "model_module_version": "1.2.0",
          "state": {
            "_model_module": "@jupyter-widgets/base",
            "_model_module_version": "1.2.0",
            "_model_name": "LayoutModel",
            "_view_count": null,
            "_view_module": "@jupyter-widgets/base",
            "_view_module_version": "1.2.0",
            "_view_name": "LayoutView",
            "align_content": null,
            "align_items": null,
            "align_self": null,
            "border": null,
            "bottom": null,
            "display": null,
            "flex": null,
            "flex_flow": null,
            "grid_area": null,
            "grid_auto_columns": null,
            "grid_auto_flow": null,
            "grid_auto_rows": null,
            "grid_column": null,
            "grid_gap": null,
            "grid_row": null,
            "grid_template_areas": null,
            "grid_template_columns": null,
            "grid_template_rows": null,
            "height": null,
            "justify_content": null,
            "justify_items": null,
            "left": null,
            "margin": null,
            "max_height": null,
            "max_width": null,
            "min_height": null,
            "min_width": null,
            "object_fit": null,
            "object_position": null,
            "order": null,
            "overflow": null,
            "overflow_x": null,
            "overflow_y": null,
            "padding": null,
            "right": null,
            "top": null,
            "visibility": null,
            "width": null
          }
        },
        "a181110d5cbb4cd0b35c98819b1aa6ca": {
          "model_module": "@jupyter-widgets/base",
          "model_name": "LayoutModel",
          "model_module_version": "1.2.0",
          "state": {
            "_model_module": "@jupyter-widgets/base",
            "_model_module_version": "1.2.0",
            "_model_name": "LayoutModel",
            "_view_count": null,
            "_view_module": "@jupyter-widgets/base",
            "_view_module_version": "1.2.0",
            "_view_name": "LayoutView",
            "align_content": null,
            "align_items": null,
            "align_self": null,
            "border": null,
            "bottom": null,
            "display": null,
            "flex": null,
            "flex_flow": null,
            "grid_area": null,
            "grid_auto_columns": null,
            "grid_auto_flow": null,
            "grid_auto_rows": null,
            "grid_column": null,
            "grid_gap": null,
            "grid_row": null,
            "grid_template_areas": null,
            "grid_template_columns": null,
            "grid_template_rows": null,
            "height": null,
            "justify_content": null,
            "justify_items": null,
            "left": null,
            "margin": null,
            "max_height": null,
            "max_width": null,
            "min_height": null,
            "min_width": null,
            "object_fit": null,
            "object_position": null,
            "order": null,
            "overflow": null,
            "overflow_x": null,
            "overflow_y": null,
            "padding": null,
            "right": null,
            "top": null,
            "visibility": null,
            "width": null
          }
        },
        "9e89cab5214e4a2dacdffac2ef5c1d2f": {
          "model_module": "@jupyter-widgets/controls",
          "model_name": "DescriptionStyleModel",
          "model_module_version": "1.5.0",
          "state": {
            "_model_module": "@jupyter-widgets/controls",
            "_model_module_version": "1.5.0",
            "_model_name": "DescriptionStyleModel",
            "_view_count": null,
            "_view_module": "@jupyter-widgets/base",
            "_view_module_version": "1.2.0",
            "_view_name": "StyleView",
            "description_width": ""
          }
        },
        "5655c10dc9bb4c3782e00cdd044466c4": {
          "model_module": "@jupyter-widgets/base",
          "model_name": "LayoutModel",
          "model_module_version": "1.2.0",
          "state": {
            "_model_module": "@jupyter-widgets/base",
            "_model_module_version": "1.2.0",
            "_model_name": "LayoutModel",
            "_view_count": null,
            "_view_module": "@jupyter-widgets/base",
            "_view_module_version": "1.2.0",
            "_view_name": "LayoutView",
            "align_content": null,
            "align_items": null,
            "align_self": null,
            "border": null,
            "bottom": null,
            "display": null,
            "flex": null,
            "flex_flow": null,
            "grid_area": null,
            "grid_auto_columns": null,
            "grid_auto_flow": null,
            "grid_auto_rows": null,
            "grid_column": null,
            "grid_gap": null,
            "grid_row": null,
            "grid_template_areas": null,
            "grid_template_columns": null,
            "grid_template_rows": null,
            "height": null,
            "justify_content": null,
            "justify_items": null,
            "left": null,
            "margin": null,
            "max_height": null,
            "max_width": null,
            "min_height": null,
            "min_width": null,
            "object_fit": null,
            "object_position": null,
            "order": null,
            "overflow": null,
            "overflow_x": null,
            "overflow_y": null,
            "padding": null,
            "right": null,
            "top": null,
            "visibility": null,
            "width": null
          }
        },
        "4a851bd1005d4965a416ac62212f767b": {
          "model_module": "@jupyter-widgets/controls",
          "model_name": "ProgressStyleModel",
          "model_module_version": "1.5.0",
          "state": {
            "_model_module": "@jupyter-widgets/controls",
            "_model_module_version": "1.5.0",
            "_model_name": "ProgressStyleModel",
            "_view_count": null,
            "_view_module": "@jupyter-widgets/base",
            "_view_module_version": "1.2.0",
            "_view_name": "StyleView",
            "bar_color": null,
            "description_width": ""
          }
        },
        "cfa4dcf92aaa43368343c29532476303": {
          "model_module": "@jupyter-widgets/base",
          "model_name": "LayoutModel",
          "model_module_version": "1.2.0",
          "state": {
            "_model_module": "@jupyter-widgets/base",
            "_model_module_version": "1.2.0",
            "_model_name": "LayoutModel",
            "_view_count": null,
            "_view_module": "@jupyter-widgets/base",
            "_view_module_version": "1.2.0",
            "_view_name": "LayoutView",
            "align_content": null,
            "align_items": null,
            "align_self": null,
            "border": null,
            "bottom": null,
            "display": null,
            "flex": null,
            "flex_flow": null,
            "grid_area": null,
            "grid_auto_columns": null,
            "grid_auto_flow": null,
            "grid_auto_rows": null,
            "grid_column": null,
            "grid_gap": null,
            "grid_row": null,
            "grid_template_areas": null,
            "grid_template_columns": null,
            "grid_template_rows": null,
            "height": null,
            "justify_content": null,
            "justify_items": null,
            "left": null,
            "margin": null,
            "max_height": null,
            "max_width": null,
            "min_height": null,
            "min_width": null,
            "object_fit": null,
            "object_position": null,
            "order": null,
            "overflow": null,
            "overflow_x": null,
            "overflow_y": null,
            "padding": null,
            "right": null,
            "top": null,
            "visibility": null,
            "width": null
          }
        },
        "c68834491b5c4e5296d71770187549dd": {
          "model_module": "@jupyter-widgets/controls",
          "model_name": "DescriptionStyleModel",
          "model_module_version": "1.5.0",
          "state": {
            "_model_module": "@jupyter-widgets/controls",
            "_model_module_version": "1.5.0",
            "_model_name": "DescriptionStyleModel",
            "_view_count": null,
            "_view_module": "@jupyter-widgets/base",
            "_view_module_version": "1.2.0",
            "_view_name": "StyleView",
            "description_width": ""
          }
        },
        "bcdad4d1019348f697bb85e79d6cf631": {
          "model_module": "@jupyter-widgets/controls",
          "model_name": "HBoxModel",
          "model_module_version": "1.5.0",
          "state": {
            "_dom_classes": [],
            "_model_module": "@jupyter-widgets/controls",
            "_model_module_version": "1.5.0",
            "_model_name": "HBoxModel",
            "_view_count": null,
            "_view_module": "@jupyter-widgets/controls",
            "_view_module_version": "1.5.0",
            "_view_name": "HBoxView",
            "box_style": "",
            "children": [
              "IPY_MODEL_36176bd226974a14bf8921e990a7d927",
              "IPY_MODEL_db2e5a0a8aaf4dbfa6a4572c59ed338e",
              "IPY_MODEL_581bd8d2bf5b48d2a507c485cb83b6be"
            ],
            "layout": "IPY_MODEL_92bbaa82b9fe46fab4bb059f59e83fea"
          }
        },
        "36176bd226974a14bf8921e990a7d927": {
          "model_module": "@jupyter-widgets/controls",
          "model_name": "HTMLModel",
          "model_module_version": "1.5.0",
          "state": {
            "_dom_classes": [],
            "_model_module": "@jupyter-widgets/controls",
            "_model_module_version": "1.5.0",
            "_model_name": "HTMLModel",
            "_view_count": null,
            "_view_module": "@jupyter-widgets/controls",
            "_view_module_version": "1.5.0",
            "_view_name": "HTMLView",
            "description": "",
            "description_tooltip": null,
            "layout": "IPY_MODEL_10718e9cd92d4af497f688d5bad8fc5d",
            "placeholder": "​",
            "style": "IPY_MODEL_43326f5a6cd74df39af2d9b1832456da",
            "value": "Generating test split: 100%"
          }
        },
        "db2e5a0a8aaf4dbfa6a4572c59ed338e": {
          "model_module": "@jupyter-widgets/controls",
          "model_name": "FloatProgressModel",
          "model_module_version": "1.5.0",
          "state": {
            "_dom_classes": [],
            "_model_module": "@jupyter-widgets/controls",
            "_model_module_version": "1.5.0",
            "_model_name": "FloatProgressModel",
            "_view_count": null,
            "_view_module": "@jupyter-widgets/controls",
            "_view_module_version": "1.5.0",
            "_view_name": "ProgressView",
            "bar_style": "success",
            "description": "",
            "description_tooltip": null,
            "layout": "IPY_MODEL_ed4ffae4327a4f5780f3e101efc75a4e",
            "max": 31586,
            "min": 0,
            "orientation": "horizontal",
            "style": "IPY_MODEL_84672e813c94406a8704dc085f20777d",
            "value": 31586
          }
        },
        "581bd8d2bf5b48d2a507c485cb83b6be": {
          "model_module": "@jupyter-widgets/controls",
          "model_name": "HTMLModel",
          "model_module_version": "1.5.0",
          "state": {
            "_dom_classes": [],
            "_model_module": "@jupyter-widgets/controls",
            "_model_module_version": "1.5.0",
            "_model_name": "HTMLModel",
            "_view_count": null,
            "_view_module": "@jupyter-widgets/controls",
            "_view_module_version": "1.5.0",
            "_view_name": "HTMLView",
            "description": "",
            "description_tooltip": null,
            "layout": "IPY_MODEL_decdb91a4dad41a7b137b1a2b39d7a61",
            "placeholder": "​",
            "style": "IPY_MODEL_e083fe343a924ccfae00d56ac899f77a",
            "value": " 31586/31586 [00:00&lt;00:00, 45003.78 examples/s]"
          }
        },
        "92bbaa82b9fe46fab4bb059f59e83fea": {
          "model_module": "@jupyter-widgets/base",
          "model_name": "LayoutModel",
          "model_module_version": "1.2.0",
          "state": {
            "_model_module": "@jupyter-widgets/base",
            "_model_module_version": "1.2.0",
            "_model_name": "LayoutModel",
            "_view_count": null,
            "_view_module": "@jupyter-widgets/base",
            "_view_module_version": "1.2.0",
            "_view_name": "LayoutView",
            "align_content": null,
            "align_items": null,
            "align_self": null,
            "border": null,
            "bottom": null,
            "display": null,
            "flex": null,
            "flex_flow": null,
            "grid_area": null,
            "grid_auto_columns": null,
            "grid_auto_flow": null,
            "grid_auto_rows": null,
            "grid_column": null,
            "grid_gap": null,
            "grid_row": null,
            "grid_template_areas": null,
            "grid_template_columns": null,
            "grid_template_rows": null,
            "height": null,
            "justify_content": null,
            "justify_items": null,
            "left": null,
            "margin": null,
            "max_height": null,
            "max_width": null,
            "min_height": null,
            "min_width": null,
            "object_fit": null,
            "object_position": null,
            "order": null,
            "overflow": null,
            "overflow_x": null,
            "overflow_y": null,
            "padding": null,
            "right": null,
            "top": null,
            "visibility": null,
            "width": null
          }
        },
        "10718e9cd92d4af497f688d5bad8fc5d": {
          "model_module": "@jupyter-widgets/base",
          "model_name": "LayoutModel",
          "model_module_version": "1.2.0",
          "state": {
            "_model_module": "@jupyter-widgets/base",
            "_model_module_version": "1.2.0",
            "_model_name": "LayoutModel",
            "_view_count": null,
            "_view_module": "@jupyter-widgets/base",
            "_view_module_version": "1.2.0",
            "_view_name": "LayoutView",
            "align_content": null,
            "align_items": null,
            "align_self": null,
            "border": null,
            "bottom": null,
            "display": null,
            "flex": null,
            "flex_flow": null,
            "grid_area": null,
            "grid_auto_columns": null,
            "grid_auto_flow": null,
            "grid_auto_rows": null,
            "grid_column": null,
            "grid_gap": null,
            "grid_row": null,
            "grid_template_areas": null,
            "grid_template_columns": null,
            "grid_template_rows": null,
            "height": null,
            "justify_content": null,
            "justify_items": null,
            "left": null,
            "margin": null,
            "max_height": null,
            "max_width": null,
            "min_height": null,
            "min_width": null,
            "object_fit": null,
            "object_position": null,
            "order": null,
            "overflow": null,
            "overflow_x": null,
            "overflow_y": null,
            "padding": null,
            "right": null,
            "top": null,
            "visibility": null,
            "width": null
          }
        },
        "43326f5a6cd74df39af2d9b1832456da": {
          "model_module": "@jupyter-widgets/controls",
          "model_name": "DescriptionStyleModel",
          "model_module_version": "1.5.0",
          "state": {
            "_model_module": "@jupyter-widgets/controls",
            "_model_module_version": "1.5.0",
            "_model_name": "DescriptionStyleModel",
            "_view_count": null,
            "_view_module": "@jupyter-widgets/base",
            "_view_module_version": "1.2.0",
            "_view_name": "StyleView",
            "description_width": ""
          }
        },
        "ed4ffae4327a4f5780f3e101efc75a4e": {
          "model_module": "@jupyter-widgets/base",
          "model_name": "LayoutModel",
          "model_module_version": "1.2.0",
          "state": {
            "_model_module": "@jupyter-widgets/base",
            "_model_module_version": "1.2.0",
            "_model_name": "LayoutModel",
            "_view_count": null,
            "_view_module": "@jupyter-widgets/base",
            "_view_module_version": "1.2.0",
            "_view_name": "LayoutView",
            "align_content": null,
            "align_items": null,
            "align_self": null,
            "border": null,
            "bottom": null,
            "display": null,
            "flex": null,
            "flex_flow": null,
            "grid_area": null,
            "grid_auto_columns": null,
            "grid_auto_flow": null,
            "grid_auto_rows": null,
            "grid_column": null,
            "grid_gap": null,
            "grid_row": null,
            "grid_template_areas": null,
            "grid_template_columns": null,
            "grid_template_rows": null,
            "height": null,
            "justify_content": null,
            "justify_items": null,
            "left": null,
            "margin": null,
            "max_height": null,
            "max_width": null,
            "min_height": null,
            "min_width": null,
            "object_fit": null,
            "object_position": null,
            "order": null,
            "overflow": null,
            "overflow_x": null,
            "overflow_y": null,
            "padding": null,
            "right": null,
            "top": null,
            "visibility": null,
            "width": null
          }
        },
        "84672e813c94406a8704dc085f20777d": {
          "model_module": "@jupyter-widgets/controls",
          "model_name": "ProgressStyleModel",
          "model_module_version": "1.5.0",
          "state": {
            "_model_module": "@jupyter-widgets/controls",
            "_model_module_version": "1.5.0",
            "_model_name": "ProgressStyleModel",
            "_view_count": null,
            "_view_module": "@jupyter-widgets/base",
            "_view_module_version": "1.2.0",
            "_view_name": "StyleView",
            "bar_color": null,
            "description_width": ""
          }
        },
        "decdb91a4dad41a7b137b1a2b39d7a61": {
          "model_module": "@jupyter-widgets/base",
          "model_name": "LayoutModel",
          "model_module_version": "1.2.0",
          "state": {
            "_model_module": "@jupyter-widgets/base",
            "_model_module_version": "1.2.0",
            "_model_name": "LayoutModel",
            "_view_count": null,
            "_view_module": "@jupyter-widgets/base",
            "_view_module_version": "1.2.0",
            "_view_name": "LayoutView",
            "align_content": null,
            "align_items": null,
            "align_self": null,
            "border": null,
            "bottom": null,
            "display": null,
            "flex": null,
            "flex_flow": null,
            "grid_area": null,
            "grid_auto_columns": null,
            "grid_auto_flow": null,
            "grid_auto_rows": null,
            "grid_column": null,
            "grid_gap": null,
            "grid_row": null,
            "grid_template_areas": null,
            "grid_template_columns": null,
            "grid_template_rows": null,
            "height": null,
            "justify_content": null,
            "justify_items": null,
            "left": null,
            "margin": null,
            "max_height": null,
            "max_width": null,
            "min_height": null,
            "min_width": null,
            "object_fit": null,
            "object_position": null,
            "order": null,
            "overflow": null,
            "overflow_x": null,
            "overflow_y": null,
            "padding": null,
            "right": null,
            "top": null,
            "visibility": null,
            "width": null
          }
        },
        "e083fe343a924ccfae00d56ac899f77a": {
          "model_module": "@jupyter-widgets/controls",
          "model_name": "DescriptionStyleModel",
          "model_module_version": "1.5.0",
          "state": {
            "_model_module": "@jupyter-widgets/controls",
            "_model_module_version": "1.5.0",
            "_model_name": "DescriptionStyleModel",
            "_view_count": null,
            "_view_module": "@jupyter-widgets/base",
            "_view_module_version": "1.2.0",
            "_view_name": "StyleView",
            "description_width": ""
          }
        }
      }
    }
  },
  "nbformat": 4,
  "nbformat_minor": 0
}