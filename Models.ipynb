{
  "nbformat": 4,
  "nbformat_minor": 0,
  "metadata": {
    "colab": {
      "provenance": []
    },
    "kernelspec": {
      "name": "python3",
      "display_name": "Python 3"
    },
    "language_info": {
      "name": "python"
    }
  },
  "cells": [
    {
      "cell_type": "code",
      "source": [
        "pip install datasets"
      ],
      "metadata": {
        "colab": {
          "base_uri": "https://localhost:8080/"
        },
        "id": "2ahJLeZmDo_K",
        "outputId": "d058d9d6-ce6e-47ac-fc85-4db6bb06ff28"
      },
      "execution_count": null,
      "outputs": [
        {
          "output_type": "stream",
          "name": "stdout",
          "text": [
            "Requirement already satisfied: datasets in /usr/local/lib/python3.10/dist-packages (2.19.1)\n",
            "Requirement already satisfied: filelock in /usr/local/lib/python3.10/dist-packages (from datasets) (3.14.0)\n",
            "Requirement already satisfied: numpy>=1.17 in /usr/local/lib/python3.10/dist-packages (from datasets) (1.25.2)\n",
            "Requirement already satisfied: pyarrow>=12.0.0 in /usr/local/lib/python3.10/dist-packages (from datasets) (14.0.2)\n",
            "Requirement already satisfied: pyarrow-hotfix in /usr/local/lib/python3.10/dist-packages (from datasets) (0.6)\n",
            "Requirement already satisfied: dill<0.3.9,>=0.3.0 in /usr/local/lib/python3.10/dist-packages (from datasets) (0.3.8)\n",
            "Requirement already satisfied: pandas in /usr/local/lib/python3.10/dist-packages (from datasets) (2.0.3)\n",
            "Requirement already satisfied: requests>=2.19.0 in /usr/local/lib/python3.10/dist-packages (from datasets) (2.31.0)\n",
            "Requirement already satisfied: tqdm>=4.62.1 in /usr/local/lib/python3.10/dist-packages (from datasets) (4.66.2)\n",
            "Requirement already satisfied: xxhash in /usr/local/lib/python3.10/dist-packages (from datasets) (3.4.1)\n",
            "Requirement already satisfied: multiprocess in /usr/local/lib/python3.10/dist-packages (from datasets) (0.70.16)\n",
            "Requirement already satisfied: fsspec[http]<=2024.3.1,>=2023.1.0 in /usr/local/lib/python3.10/dist-packages (from datasets) (2023.6.0)\n",
            "Requirement already satisfied: aiohttp in /usr/local/lib/python3.10/dist-packages (from datasets) (3.9.5)\n",
            "Requirement already satisfied: huggingface-hub>=0.21.2 in /usr/local/lib/python3.10/dist-packages (from datasets) (0.23.0)\n",
            "Requirement already satisfied: packaging in /usr/local/lib/python3.10/dist-packages (from datasets) (24.0)\n",
            "Requirement already satisfied: pyyaml>=5.1 in /usr/local/lib/python3.10/dist-packages (from datasets) (6.0.1)\n",
            "Requirement already satisfied: aiosignal>=1.1.2 in /usr/local/lib/python3.10/dist-packages (from aiohttp->datasets) (1.3.1)\n",
            "Requirement already satisfied: attrs>=17.3.0 in /usr/local/lib/python3.10/dist-packages (from aiohttp->datasets) (23.2.0)\n",
            "Requirement already satisfied: frozenlist>=1.1.1 in /usr/local/lib/python3.10/dist-packages (from aiohttp->datasets) (1.4.1)\n",
            "Requirement already satisfied: multidict<7.0,>=4.5 in /usr/local/lib/python3.10/dist-packages (from aiohttp->datasets) (6.0.5)\n",
            "Requirement already satisfied: yarl<2.0,>=1.0 in /usr/local/lib/python3.10/dist-packages (from aiohttp->datasets) (1.9.4)\n",
            "Requirement already satisfied: async-timeout<5.0,>=4.0 in /usr/local/lib/python3.10/dist-packages (from aiohttp->datasets) (4.0.3)\n",
            "Requirement already satisfied: typing-extensions>=3.7.4.3 in /usr/local/lib/python3.10/dist-packages (from huggingface-hub>=0.21.2->datasets) (4.11.0)\n",
            "Requirement already satisfied: charset-normalizer<4,>=2 in /usr/local/lib/python3.10/dist-packages (from requests>=2.19.0->datasets) (3.3.2)\n",
            "Requirement already satisfied: idna<4,>=2.5 in /usr/local/lib/python3.10/dist-packages (from requests>=2.19.0->datasets) (3.7)\n",
            "Requirement already satisfied: urllib3<3,>=1.21.1 in /usr/local/lib/python3.10/dist-packages (from requests>=2.19.0->datasets) (2.0.7)\n",
            "Requirement already satisfied: certifi>=2017.4.17 in /usr/local/lib/python3.10/dist-packages (from requests>=2.19.0->datasets) (2024.2.2)\n",
            "Requirement already satisfied: python-dateutil>=2.8.2 in /usr/local/lib/python3.10/dist-packages (from pandas->datasets) (2.8.2)\n",
            "Requirement already satisfied: pytz>=2020.1 in /usr/local/lib/python3.10/dist-packages (from pandas->datasets) (2023.4)\n",
            "Requirement already satisfied: tzdata>=2022.1 in /usr/local/lib/python3.10/dist-packages (from pandas->datasets) (2024.1)\n",
            "Requirement already satisfied: six>=1.5 in /usr/local/lib/python3.10/dist-packages (from python-dateutil>=2.8.2->pandas->datasets) (1.16.0)\n"
          ]
        }
      ]
    },
    {
      "cell_type": "code",
      "source": [
        "from datasets import load_dataset\n",
        "dataset = load_dataset('syntaxnoob/weather-prediction-prototype-aws')\n",
        "train_dataset = dataset['train']\n",
        "df = train_dataset.to_pandas()\n",
        "df.to_csv('weather_data.csv', index=False)"
      ],
      "metadata": {
        "id": "XBPt8OY7EidV"
      },
      "execution_count": null,
      "outputs": []
    },
    {
      "cell_type": "code",
      "source": [
        "pip install pyspark"
      ],
      "metadata": {
        "colab": {
          "base_uri": "https://localhost:8080/"
        },
        "id": "nRBA_pEN3_46",
        "outputId": "6089313b-4cb1-483b-848a-57670aab40b4"
      },
      "execution_count": null,
      "outputs": [
        {
          "output_type": "stream",
          "name": "stdout",
          "text": [
            "Requirement already satisfied: pyspark in /usr/local/lib/python3.10/dist-packages (3.5.1)\n",
            "Requirement already satisfied: py4j==0.10.9.7 in /usr/local/lib/python3.10/dist-packages (from pyspark) (0.10.9.7)\n"
          ]
        }
      ]
    },
    {
      "cell_type": "code",
      "source": [
        "from pyspark.sql import SparkSession\n",
        "spark = SparkSession.builder \\\n",
        "    .appName(\"Weather Data Loading\") \\\n",
        "    .getOrCreate()\n",
        "df = spark.read.csv('weather_data.csv', header=True, inferSchema=True)\n",
        "df.show()"
      ],
      "metadata": {
        "colab": {
          "base_uri": "https://localhost:8080/"
        },
        "id": "zJJXU-ucF3K0",
        "outputId": "6fe901b8-2730-4ce0-a8b0-7686ba3b005c"
      },
      "execution_count": null,
      "outputs": [
        {
          "output_type": "stream",
          "name": "stdout",
          "text": [
            "+-------------------+------+------------------+------------------+-------------------+---------------+------------------+------------------+-------------------+-------------------+-------------------+------+----------+----------+------------------+------------------+------------------+------------------+---------------------+---------------------+-------------------+-----------------------+-----------------------+---------------+-------------------+-------------------+------------------+------------------+------------------+------------------+--------------------+--------------------+\n",
            "|        timestamp_1|code_1|    air_pressure_1| air_temperature_1|relative_humidity_1|precipitation_1|      wind_speed_1|  wind_direction_1|        timestamp_2|    tar_timestamp_1|    tar_timestamp_2|code_2|tar_code_1|tar_code_2|    air_pressure_2|tar_air_pressure_1|tar_air_pressure_2| air_temperature_2|tar_air_temperature_1|tar_air_temperature_2|relative_humidity_2|tar_relative_humidity_1|tar_relative_humidity_2|precipitation_2|tar_precipitation_1|tar_precipitation_2|      wind_speed_2|  tar_wind_speed_1|  tar_wind_speed_2|  wind_direction_2|tar_wind_direction_1|tar_wind_direction_2|\n",
            "+-------------------+------+------------------+------------------+-------------------+---------------+------------------+------------------+-------------------+-------------------+-------------------+------+----------+----------+------------------+------------------+------------------+------------------+---------------------+---------------------+-------------------+-----------------------+-----------------------+---------------+-------------------+-------------------+------------------+------------------+------------------+------------------+--------------------+--------------------+\n",
            "|2017-11-17 00:00:00|     1|  0.79092159559835|0.4431468961278427| 0.7543044857272315|            0.0|0.3213345039508341|0.0094444444444444|2017-11-17 00:00:00|2017-11-17 00:10:00|2017-11-17 00:10:00|   0.0|       0.0|       1.0|0.4745529573590093|0.4749197615772575|0.7914718019257222|0.3550501946322474|   0.3558696988322065|   0.4423273919278836| 0.9818758495695517|     0.9826687811508836|     0.7433167195287721|            0.0|                0.0|                0.0|0.0724319578577699|0.0877963125548727|0.2809482001755927|0.6261111111111112|  0.6544444444444444|  0.0163888888888888|\n",
            "|2017-11-17 00:10:00|     0|0.4749197615772575|0.3558696988322065| 0.9826687811508836|            0.0|0.0877963125548727|0.6544444444444444|2017-11-17 00:10:00|2017-11-17 00:20:00|2017-11-17 00:20:00|   1.0|       0.0|       1.0|0.7914718019257222|0.4756533700137549|0.7920220082530944|0.4423273919278836|   0.3558696988322065|   0.4421225158778938| 0.7433167195287721|      0.983235160851835|     0.7332351608518352|            0.0|                0.0|                0.0|0.2809482001755927| 0.088235294117647|0.2897278314310799|0.0163888888888888|  0.6419444444444444|  0.0163888888888888|\n",
            "|2017-11-17 00:20:00|     0|0.4756533700137549|0.3558696988322065|  0.983235160851835|            0.0| 0.088235294117647|0.6419444444444444|2017-11-17 00:20:00|2017-11-17 00:30:00|2017-11-17 00:30:00|   1.0|       1.0|       0.0|0.7920220082530944|0.7924805135259047|0.4767537826685005|0.4421225158778938|   0.4410981356279451|    0.356279450932186| 0.7332351608518352|     0.7211146352514726|     0.9840280924331672|            0.0|                0.0|                0.0|0.2897278314310799|0.3081650570676032|0.0583845478489903|0.0163888888888888|  0.0097222222222222|  0.6133333333333334|\n",
            "|2017-11-17 00:30:00|     1|0.7924805135259047|0.4410981356279451| 0.7211146352514726|            0.0|0.3081650570676032|0.0097222222222222|2017-11-17 00:30:00|2017-11-17 00:40:00|2017-11-17 00:40:00|   0.0|       1.0|       0.0|0.4767537826685005|0.7920220082530944|0.4767537826685005| 0.356279450932186|   0.4410981356279451|    0.357098955132145| 0.9840280924331672|     0.7085410058903489|     0.9845944721341188|            0.0|                0.0|                0.0|0.0583845478489903|0.3072870939420544|0.0548726953467954|0.6133333333333334|  0.0191666666666666|  0.6119444444444445|\n",
            "|2017-11-17 00:40:00|     1|0.7920220082530944|0.4410981356279451| 0.7085410058903489|            0.0|0.3072870939420544|0.0191666666666666|2017-11-17 00:40:00|2017-11-17 00:50:00|2017-11-17 00:50:00|   0.0|       0.0|       1.0|0.4767537826685005|0.4760201742320031|0.7920220082530944| 0.357098955132145|   0.3564843269821757|   0.4400737553779963| 0.9845944721341188|       0.98504757589488|     0.6948346171273222|            0.0|                0.0|                0.0|0.0548726953467954|0.0553116769095698|0.2888498683055312|0.6119444444444445|  0.5616666666666666|  0.0252777777777777|\n",
            "|2017-11-17 00:50:00|     0|0.4760201742320031|0.3564843269821757|   0.98504757589488|            0.0|0.0553116769095698|0.5616666666666666|2017-11-17 00:50:00|2017-11-17 01:00:00|2017-11-17 01:00:00|   1.0|       1.0|       0.0|0.7920220082530944|0.7921137093076565|0.4756533700137549|0.4400737553779963|   0.4394591272280271|   0.3564843269821757| 0.6948346171273222|     0.6859990937924785|     0.9856139555958316|            0.0|                0.0|                0.0|0.2888498683055312| 0.276558384547849|0.0676031606672519|0.0252777777777777|  0.0244444444444444|  0.5280555555555555|\n",
            "|2017-11-17 01:00:00|     1|0.7921137093076565|0.4394591272280271| 0.6859990937924785|            0.0| 0.276558384547849|0.0244444444444444|2017-11-17 01:00:00|2017-11-17 01:10:00|2017-11-17 01:10:00|   0.0|       0.0|       1.0|0.4756533700137549|0.4766620816139384|0.7929390187987149|0.3564843269821757|   0.3573038311821348|   0.4392542511780372| 0.9856139555958316|     0.9860670593565928|     0.6812415043044857|            0.0|                0.0|                0.0|0.0676031606672519|0.0697980684811238|0.2774363476733977|0.5280555555555555|  0.5877777777777777|  0.0077777777777777|\n",
            "|2017-11-17 01:10:00|     0|0.4766620816139384|0.3573038311821348| 0.9860670593565928|            0.0|0.0697980684811238|0.5877777777777777|2017-11-17 01:10:00|2017-11-17 01:20:00|2017-11-17 01:20:00|   1.0|       0.0|       1.0|0.7929390187987149|0.4767537826685005| 0.793122420907841|0.4392542511780372|    0.357918459332104|    0.438639623028068| 0.6812415043044857|     0.9862936112369732|     0.6789759855006796|            0.0|                0.0|                0.0|0.2774363476733977|0.0873573309920983|0.2906057945566286|0.0077777777777777|  0.6033333333333333|  0.0247222222222222|\n",
            "|2017-11-17 01:20:00|     0|0.4767537826685005| 0.357918459332104| 0.9862936112369732|            0.0|0.0873573309920983|0.6033333333333333|2017-11-17 01:20:00|2017-11-17 01:30:00|2017-11-17 01:30:00|   1.0|       1.0|       0.0| 0.793122420907841|0.7953232462173301|0.4767537826685005| 0.438639623028068|    0.437820118828109|   0.3581233353820938| 0.6789759855006796|     0.6746714997734481|      0.986633439057544|            0.0|                0.0|                0.0|0.2906057945566286| 0.276558384547849|0.0987708516242318|0.0247222222222222|  0.0161111111111111|  0.5711111111111111|\n",
            "|2017-11-17 01:30:00|     1|0.7953232462173301| 0.437820118828109| 0.6746714997734481|            0.0| 0.276558384547849|0.0161111111111111|2017-11-17 01:30:00|2017-11-17 01:40:00|2017-11-17 01:40:00|   0.0|       1.0|       0.0|0.4767537826685005|0.7953232462173301| 0.475836772122879|0.3581233353820938|   0.4372054906781397|   0.3587379635320631|  0.986633439057544|     0.6704802899864069|      0.986973266878115|            0.0|                0.0|                0.0|0.0987708516242318|0.2423178226514487|0.0856014047410008|0.5711111111111111|  0.0319444444444444|  0.5988888888888889|\n",
            "|2017-11-17 01:40:00|     1|0.7953232462173301|0.4372054906781397| 0.6704802899864069|            0.0|0.2423178226514487|0.0319444444444444|2017-11-17 01:40:00|2017-11-17 01:50:00|2017-11-17 01:50:00|   0.0|       0.0|       1.0| 0.475836772122879|0.4761118752865651|0.7964236588720768|0.3587379635320631|   0.3593525916820323|   0.4370006146281499|  0.986973266878115|     0.9874263706388764|     0.6643633892161306|            0.0|                0.0|                0.0|0.0856014047410008|0.0864793678665496|0.2712906057945566|0.5988888888888889|  0.6022222222222222|  0.0386111111111111|\n",
            "|2017-11-17 01:50:00|     0|0.4761118752865651|0.3593525916820323| 0.9874263706388764|            0.0|0.0864793678665496|0.6022222222222222|2017-11-17 01:50:00|2017-11-17 02:00:00|2017-11-17 02:00:00|   1.0|       1.0|       0.0|0.7964236588720768|0.7973406694176972|0.4767537826685005|0.4370006146281499|   0.4367957385781602|   0.3595574677320221| 0.6643633892161306|     0.6539420027186226|     0.9875396465790668|            0.0|                0.0|                0.0|0.2712906057945566|0.2598770851624232|0.1035996488147497|0.0386111111111111|                0.03|  0.6213888888888889|\n",
            "|2017-11-17 02:00:00|     1|0.7973406694176972|0.4367957385781602| 0.6539420027186226|            0.0|0.2598770851624232|              0.03|2017-11-17 02:00:00|2017-11-17 02:10:00|2017-11-17 02:10:00|   0.0|       1.0|       0.0|0.4767537826685005|0.7974323704722592|0.4763869784502523|0.3595574677320221|   0.4357713583282114|   0.3595574677320221| 0.9875396465790668|     0.6425011327594019|     0.9879927503398278|            0.0|                0.0|                0.0|0.1035996488147497|0.2388059701492537|0.1040386303775241|0.6213888888888889|  0.0297222222222222|  0.6280555555555556|\n",
            "|2017-11-17 02:10:00|     1|0.7974323704722592|0.4357713583282114| 0.6425011327594019|            0.0|0.2388059701492537|0.0297222222222222|2017-11-17 02:10:00|2017-11-17 02:20:00|2017-11-17 02:20:00|   0.0|       0.0|       1.0|0.4763869784502523|0.4756533700137549|0.7983493810178818|0.3595574677320221|   0.3599672198320016|   0.4351567301782422| 0.9879927503398278|     0.9881060262800182|     0.6361576801087448|            0.0|                0.0|                0.0|0.1040386303775241|0.1167690956979807|0.2212467076382792|0.6280555555555556|  0.6152777777777778|  0.0358333333333333|\n",
            "|2017-11-17 02:20:00|     0|0.4756533700137549|0.3599672198320016| 0.9881060262800182|            0.0|0.1167690956979807|0.6152777777777778|2017-11-17 02:20:00|2017-11-17 02:30:00|2017-11-17 02:30:00|   1.0|       0.0|       1.0|0.7983493810178818|0.4756533700137549|0.7986244841815678|0.4351567301782422|   0.3605818479819709|   0.4347469780782626| 0.6361576801087448|     0.9885591300407792|     0.6342319891255097|            0.0|                0.0|                0.0|0.2212467076382792|0.1022827041264267|0.2361720807726075|0.0358333333333333|  0.6261111111111112|  0.0583333333333333|\n",
            "|2017-11-17 02:30:00|     0|0.4756533700137549|0.3605818479819709| 0.9885591300407792|            0.0|0.1022827041264267|0.6261111111111112|2017-11-17 02:30:00|2017-11-17 02:40:00|2017-11-17 02:40:00|   1.0|       1.0|       0.0|0.7986244841815678|0.7986244841815678|0.4765703805593764|0.4347469780782626|   0.4345421020282728|   0.3611964761319401| 0.6342319891255097|     0.6290212958767558|     0.9886724059809696|            0.0|                0.0|                0.0|0.2361720807726075|0.2172958735733099|0.0939420544337138|0.0583333333333333|  0.0630555555555555|                0.62|\n",
            "|2017-11-17 02:40:00|     1|0.7986244841815678|0.4345421020282728| 0.6290212958767558|            0.0|0.2172958735733099|0.0630555555555555|2017-11-17 02:40:00|2017-11-17 02:50:00|2017-11-17 02:50:00|   0.0|       0.0|       1.0|0.4765703805593764|0.4757450710683169|0.7997248968363124|0.3611964761319401|   0.3614013521819299|   0.4337225978283139| 0.9886724059809696|      0.989125509741731|      0.623470774807431|            0.0|                0.0|                0.0|0.0939420544337138|0.0948200175592625|0.2019315188762072|              0.62|  0.6197222222222222|              0.0725|\n",
            "|2017-11-17 02:50:00|     0|0.4757450710683169|0.3614013521819299|  0.989125509741731|            0.0|0.0948200175592625|0.6197222222222222|2017-11-17 02:50:00|2017-11-17 03:00:00|2017-11-17 03:00:00|   1.0|       1.0|       0.0|0.7997248968363124|0.7995414947271883|0.4767537826685005|0.4337225978283139|   0.4335177217783241|   0.3620159803318992|  0.623470774807431|     0.6214318078840054|      0.989125509741731|            0.0|                0.0|                0.0|0.2019315188762072|0.1861281826163301|0.0908691834942932|            0.0725|  0.0519444444444444|               0.645|\n",
            "|2017-11-17 03:00:00|     1|0.7995414947271883|0.4335177217783241| 0.6214318078840054|            0.0|0.1861281826163301|0.0519444444444444|2017-11-17 03:00:00|2017-11-17 03:10:00|2017-11-17 03:10:00|   0.0|       0.0|       1.0|0.4767537826685005|0.4767537826685005|0.7997248968363124|0.3620159803318992|   0.3614013521819299|   0.4343372259782831|  0.989125509741731|     0.9894653375623016|     0.6222247394653376|            0.0|                0.0|                0.0|0.0908691834942932|0.0873573309920983|0.1949078138718174|             0.645|  0.6466666666666667|  0.0497222222222222|\n",
            "|2017-11-17 03:10:00|     0|0.4767537826685005|0.3614013521819299| 0.9894653375623016|            0.0|0.0873573309920983|0.6466666666666667|2017-11-17 03:10:00|2017-11-17 03:20:00|2017-11-17 03:20:00|   1.0|       0.0|       1.0|0.7997248968363124|0.4767537826685005|0.8003668042182488|0.4343372259782831|   0.3614013521819299|   0.4345421020282728| 0.6222247394653376|     0.9896918894426824|     0.6222247394653376|            0.0|                0.0|                0.0|0.1949078138718174|0.0847234416154521|0.2212467076382792|0.0497222222222222|  0.6558333333333333|  0.0397222222222222|\n",
            "+-------------------+------+------------------+------------------+-------------------+---------------+------------------+------------------+-------------------+-------------------+-------------------+------+----------+----------+------------------+------------------+------------------+------------------+---------------------+---------------------+-------------------+-----------------------+-----------------------+---------------+-------------------+-------------------+------------------+------------------+------------------+------------------+--------------------+--------------------+\n",
            "only showing top 20 rows\n",
            "\n"
          ]
        }
      ]
    },
    {
      "cell_type": "markdown",
      "source": [
        "Handling missing values:"
      ],
      "metadata": {
        "id": "iWsUWEkW5kBS"
      }
    },
    {
      "cell_type": "code",
      "source": [
        "from pyspark.sql.functions import col, count,when\n",
        "df.select([count(when(col(c).isNull(), c)).alias(c) for c in df.columns]).show()"
      ],
      "metadata": {
        "id": "I63awm_oQL37",
        "colab": {
          "base_uri": "https://localhost:8080/"
        },
        "outputId": "c23ab52b-41e5-455f-83e8-48cd0a212162"
      },
      "execution_count": null,
      "outputs": [
        {
          "output_type": "stream",
          "name": "stdout",
          "text": [
            "+-----------+------+--------------+-----------------+-------------------+---------------+------------+----------------+-----------+---------------+---------------+------+----------+----------+--------------+------------------+------------------+-----------------+---------------------+---------------------+-------------------+-----------------------+-----------------------+---------------+-------------------+-------------------+------------+----------------+----------------+----------------+--------------------+--------------------+\n",
            "|timestamp_1|code_1|air_pressure_1|air_temperature_1|relative_humidity_1|precipitation_1|wind_speed_1|wind_direction_1|timestamp_2|tar_timestamp_1|tar_timestamp_2|code_2|tar_code_1|tar_code_2|air_pressure_2|tar_air_pressure_1|tar_air_pressure_2|air_temperature_2|tar_air_temperature_1|tar_air_temperature_2|relative_humidity_2|tar_relative_humidity_1|tar_relative_humidity_2|precipitation_2|tar_precipitation_1|tar_precipitation_2|wind_speed_2|tar_wind_speed_1|tar_wind_speed_2|wind_direction_2|tar_wind_direction_1|tar_wind_direction_2|\n",
            "+-----------+------+--------------+-----------------+-------------------+---------------+------------+----------------+-----------+---------------+---------------+------+----------+----------+--------------+------------------+------------------+-----------------+---------------------+---------------------+-------------------+-----------------------+-----------------------+---------------+-------------------+-------------------+------------+----------------+----------------+----------------+--------------------+--------------------+\n",
            "|          0|     0|             0|                0|                  0|              0|           0|               0|          0|              0|              0|     0|         0|         0|             0|                 0|                 0|                0|                    0|                    0|                  0|                      0|                      0|              0|                  0|                  0|           0|               0|               0|               0|                   0|                   0|\n",
            "+-----------+------+--------------+-----------------+-------------------+---------------+------------+----------------+-----------+---------------+---------------+------+----------+----------+--------------+------------------+------------------+-----------------+---------------------+---------------------+-------------------+-----------------------+-----------------------+---------------+-------------------+-------------------+------------+----------------+----------------+----------------+--------------------+--------------------+\n",
            "\n"
          ]
        }
      ]
    },
    {
      "cell_type": "code",
      "source": [
        "df.printSchema()"
      ],
      "metadata": {
        "id": "uAK5cQ5o_X7O",
        "colab": {
          "base_uri": "https://localhost:8080/"
        },
        "outputId": "fcb15ca5-a61d-4f41-ed9b-0acb34000da3"
      },
      "execution_count": null,
      "outputs": [
        {
          "output_type": "stream",
          "name": "stdout",
          "text": [
            "root\n",
            " |-- timestamp_1: timestamp (nullable = true)\n",
            " |-- code_1: integer (nullable = true)\n",
            " |-- air_pressure_1: double (nullable = true)\n",
            " |-- air_temperature_1: double (nullable = true)\n",
            " |-- relative_humidity_1: double (nullable = true)\n",
            " |-- precipitation_1: double (nullable = true)\n",
            " |-- wind_speed_1: double (nullable = true)\n",
            " |-- wind_direction_1: double (nullable = true)\n",
            " |-- timestamp_2: timestamp (nullable = true)\n",
            " |-- tar_timestamp_1: timestamp (nullable = true)\n",
            " |-- tar_timestamp_2: timestamp (nullable = true)\n",
            " |-- code_2: double (nullable = true)\n",
            " |-- tar_code_1: double (nullable = true)\n",
            " |-- tar_code_2: double (nullable = true)\n",
            " |-- air_pressure_2: double (nullable = true)\n",
            " |-- tar_air_pressure_1: double (nullable = true)\n",
            " |-- tar_air_pressure_2: double (nullable = true)\n",
            " |-- air_temperature_2: double (nullable = true)\n",
            " |-- tar_air_temperature_1: double (nullable = true)\n",
            " |-- tar_air_temperature_2: double (nullable = true)\n",
            " |-- relative_humidity_2: double (nullable = true)\n",
            " |-- tar_relative_humidity_1: double (nullable = true)\n",
            " |-- tar_relative_humidity_2: double (nullable = true)\n",
            " |-- precipitation_2: double (nullable = true)\n",
            " |-- tar_precipitation_1: double (nullable = true)\n",
            " |-- tar_precipitation_2: double (nullable = true)\n",
            " |-- wind_speed_2: double (nullable = true)\n",
            " |-- tar_wind_speed_1: double (nullable = true)\n",
            " |-- tar_wind_speed_2: double (nullable = true)\n",
            " |-- wind_direction_2: double (nullable = true)\n",
            " |-- tar_wind_direction_1: double (nullable = true)\n",
            " |-- tar_wind_direction_2: double (nullable = true)\n",
            "\n"
          ]
        }
      ]
    },
    {
      "cell_type": "markdown",
      "source": [
        "Random forest"
      ],
      "metadata": {
        "id": "1PAz1ojH3Njx"
      }
    },
    {
      "cell_type": "code",
      "source": [
        "# Selecting numerical columns for clustering\n",
        "features = [col for col in df.columns if not col.startswith('tar_') and 'timestamp' not in col and 'code' not in col]"
      ],
      "metadata": {
        "id": "WNdYlyqRV7Xv"
      },
      "execution_count": null,
      "outputs": []
    },
    {
      "cell_type": "code",
      "source": [
        "from pyspark.sql.functions import hour, dayofweek, month\n",
        "\n",
        "# Example transformation: converting 'timestamp_1' to more useful features\n",
        "df = df.withColumn('hour_1', hour('timestamp_1'))\n",
        "df = df.withColumn('day_of_week_1', dayofweek('timestamp_1'))\n",
        "df = df.withColumn('month_1', month('timestamp_1'))\n",
        "\n",
        "# Add these new columns to your features list if you want to include them in the model\n",
        "features.extend(['hour_1', 'day_of_week_1', 'month_1'])"
      ],
      "metadata": {
        "id": "UGJf2r_dV-aJ"
      },
      "execution_count": null,
      "outputs": []
    },
    {
      "cell_type": "code",
      "source": [
        "# Example transformation: converting 'timestamp_2' to more useful features\n",
        "df = df.withColumn('hour_2', hour('timestamp_2'))\n",
        "df = df.withColumn('day_of_week_2', dayofweek('timestamp_2'))\n",
        "df = df.withColumn('month_2', month('timestamp_2'))\n",
        "\n",
        "# Add these new columns to your features list if you want to include them in the model\n",
        "features.extend(['hour_2', 'day_of_week_2', 'month_2'])"
      ],
      "metadata": {
        "id": "lesfjx8vWB2S"
      },
      "execution_count": null,
      "outputs": []
    },
    {
      "cell_type": "code",
      "source": [
        "df[features]"
      ],
      "metadata": {
        "colab": {
          "base_uri": "https://localhost:8080/"
        },
        "id": "om9nt73kWE3K",
        "outputId": "ceb32946-a8a9-4810-8c63-9ae2bea0a9ca"
      },
      "execution_count": null,
      "outputs": [
        {
          "output_type": "execute_result",
          "data": {
            "text/plain": [
              "DataFrame[air_pressure_1: double, air_temperature_1: double, relative_humidity_1: double, precipitation_1: double, wind_speed_1: double, wind_direction_1: double, air_pressure_2: double, air_temperature_2: double, relative_humidity_2: double, precipitation_2: double, wind_speed_2: double, wind_direction_2: double, hour_1: int, day_of_week_1: int, month_1: int, hour_2: int, day_of_week_2: int, month_2: int]"
            ]
          },
          "metadata": {},
          "execution_count": 89
        }
      ]
    },
    {
      "cell_type": "code",
      "source": [
        "from pyspark.sql import SparkSession\n",
        "from pyspark.ml.feature import VectorAssembler\n",
        "from pyspark.ml.regression import RandomForestRegressor\n",
        "from pyspark.ml import Pipeline\n",
        "from pyspark.ml.evaluation import RegressionEvaluator\n",
        "\n",
        "\n",
        "# Defining the features to be used\n",
        "feature_columns = [\n",
        "    'code_1', 'air_temperature_1', 'relative_humidity_1', 'precipitation_1',\n",
        "    'wind_speed_1', 'wind_direction_1', 'air_pressure_2', 'air_temperature_2',\n",
        "    'relative_humidity_2', 'precipitation_2', 'wind_speed_2', 'wind_direction_2',\n",
        "    'hour_2', 'day_of_week_2', 'month_2', 'hour_1', 'day_of_week_1', 'month_1'\n",
        "]\n",
        "\n",
        "# List of target variables\n",
        "targets = [\n",
        "    'air_pressure_1', 'air_temperature_1', 'relative_humidity_1', 'precipitation_1',\n",
        "    'wind_speed_1', 'wind_direction_1', 'air_pressure_2', 'air_temperature_2',\n",
        "    'relative_humidity_2', 'precipitation_2', 'wind_speed_2', 'wind_direction_2'\n",
        "]\n",
        "\n",
        "def train_and_evaluate_model(df, feature_columns, target):\n",
        "\n",
        "    assembler = VectorAssembler(inputCols=feature_columns, outputCol=\"features\")\n",
        "    rf = RandomForestRegressor(featuresCol=\"features\", labelCol=target, numTrees=50, maxDepth=10)\n",
        "    pipeline = Pipeline(stages=[assembler, rf])\n",
        "    train_data, test_data = df.randomSplit([0.8, 0.2], seed=42)\n",
        "    model = pipeline.fit(train_data)\n",
        "    predictions = model.transform(test_data)\n",
        "    evaluator = RegressionEvaluator(labelCol=target, predictionCol=\"prediction\", metricName=\"rmse\")\n",
        "    rmse = evaluator.evaluate(predictions)\n",
        "    print(f\"Root Mean Squared Error (RMSE) for {target} on test data = {rmse}\")\n",
        "    predictions.select(target, \"prediction\").show(5)\n",
        "    return model, rmse\n",
        "\n",
        "\n",
        "models = {}\n",
        "for target in targets:\n",
        "    model, rmse = train_and_evaluate_model(df, feature_columns, target)\n",
        "    models[target] = model\n",
        "\n"
      ],
      "metadata": {
        "id": "gO8ck4ERM4sO",
        "colab": {
          "base_uri": "https://localhost:8080/"
        },
        "outputId": "93b52c70-4dca-49ea-90f3-3b7397c54a63"
      },
      "execution_count": null,
      "outputs": [
        {
          "output_type": "stream",
          "name": "stdout",
          "text": [
            "Root Mean Squared Error (RMSE) for air_pressure_1 on test data = 0.01777192079233687\n",
            "+------------------+-------------------+\n",
            "|    air_pressure_1|         prediction|\n",
            "+------------------+-------------------+\n",
            "|0.4756533700137549|0.46430077051568447|\n",
            "|0.7921137093076565| 0.7833656339295042|\n",
            "|0.4767537826685005| 0.4664177671755607|\n",
            "|0.7974323704722592| 0.7852340656125913|\n",
            "|0.4767537826685005| 0.4914772614592113|\n",
            "+------------------+-------------------+\n",
            "only showing top 5 rows\n",
            "\n",
            "Root Mean Squared Error (RMSE) for air_temperature_1 on test data = 0.008902094453156347\n",
            "+------------------+-------------------+\n",
            "| air_temperature_1|         prediction|\n",
            "+------------------+-------------------+\n",
            "|0.3558696988322065|0.35740081458738404|\n",
            "|0.4394591272280271| 0.4358974670041313|\n",
            "| 0.357918459332104| 0.3575136488084082|\n",
            "|0.4357713583282114| 0.4283559566373961|\n",
            "|0.3614013521819299| 0.3581713865841553|\n",
            "+------------------+-------------------+\n",
            "only showing top 5 rows\n",
            "\n",
            "Root Mean Squared Error (RMSE) for relative_humidity_1 on test data = 0.01362800263417301\n",
            "+-------------------+------------------+\n",
            "|relative_humidity_1|        prediction|\n",
            "+-------------------+------------------+\n",
            "|  0.983235160851835|0.9717646747336403|\n",
            "| 0.6859990937924785|0.6894786627823817|\n",
            "| 0.9862936112369732|0.9816907482078909|\n",
            "| 0.6425011327594019|0.6555636257723474|\n",
            "| 0.9894653375623016|0.9810315293874956|\n",
            "+-------------------+------------------+\n",
            "only showing top 5 rows\n",
            "\n",
            "Root Mean Squared Error (RMSE) for precipitation_1 on test data = 0.005195417301771995\n",
            "+---------------+--------------------+\n",
            "|precipitation_1|          prediction|\n",
            "+---------------+--------------------+\n",
            "|            0.0|2.619940055281169E-5|\n",
            "|            0.0|7.465543855234467E-6|\n",
            "|            0.0|3.319108795057414...|\n",
            "|            0.0|9.376892178545509E-6|\n",
            "|            0.0|3.594570942623002E-5|\n",
            "+---------------+--------------------+\n",
            "only showing top 5 rows\n",
            "\n",
            "Root Mean Squared Error (RMSE) for wind_speed_1 on test data = 0.014546484077072193\n",
            "+------------------+-------------------+\n",
            "|      wind_speed_1|         prediction|\n",
            "+------------------+-------------------+\n",
            "| 0.088235294117647|0.09011970022663929|\n",
            "| 0.276558384547849| 0.2699844505026842|\n",
            "|0.0873573309920983|0.09049868365788384|\n",
            "|0.2388059701492537|0.23551001931755128|\n",
            "|0.0873573309920983|0.08920208618583164|\n",
            "+------------------+-------------------+\n",
            "only showing top 5 rows\n",
            "\n",
            "Root Mean Squared Error (RMSE) for wind_direction_1 on test data = 0.023346429653568312\n",
            "+------------------+-------------------+\n",
            "|  wind_direction_1|         prediction|\n",
            "+------------------+-------------------+\n",
            "|0.6419444444444444| 0.6308637053757363|\n",
            "|0.0244444444444444|0.10281536439507949|\n",
            "|0.6033333333333333| 0.6138530018267538|\n",
            "|0.0297222222222222|0.08703918258990159|\n",
            "|0.6466666666666667| 0.6490226666680577|\n",
            "+------------------+-------------------+\n",
            "only showing top 5 rows\n",
            "\n",
            "Root Mean Squared Error (RMSE) for air_pressure_2 on test data = 0.01295582672248855\n",
            "+------------------+-------------------+\n",
            "|    air_pressure_2|         prediction|\n",
            "+------------------+-------------------+\n",
            "|0.7920220082530944| 0.7810169438981049|\n",
            "|0.4756533700137549| 0.4775425128122016|\n",
            "| 0.793122420907841| 0.7832363769711754|\n",
            "|0.4763869784502523|0.47573287933540365|\n",
            "|0.7997248968363124| 0.8027714102038643|\n",
            "+------------------+-------------------+\n",
            "only showing top 5 rows\n",
            "\n",
            "Root Mean Squared Error (RMSE) for air_temperature_2 on test data = 0.009376134785441982\n",
            "+------------------+-------------------+\n",
            "| air_temperature_2|         prediction|\n",
            "+------------------+-------------------+\n",
            "|0.4421225158778938|0.43444045474063964|\n",
            "|0.3564843269821757|  0.350814719217412|\n",
            "| 0.438639623028068| 0.4341799923734335|\n",
            "|0.3595574677320221|0.36072730912760387|\n",
            "|0.4343372259782831|0.43504428799806744|\n",
            "+------------------+-------------------+\n",
            "only showing top 5 rows\n",
            "\n",
            "Root Mean Squared Error (RMSE) for relative_humidity_2 on test data = 0.015275987929686199\n",
            "+-------------------+------------------+\n",
            "|relative_humidity_2|        prediction|\n",
            "+-------------------+------------------+\n",
            "| 0.7332351608518352|0.7254508802505968|\n",
            "| 0.9856139555958316| 0.965448929709058|\n",
            "| 0.6789759855006796|0.6806942541981003|\n",
            "| 0.9879927503398278|0.9732369629759411|\n",
            "| 0.6222247394653376|0.6385984424518087|\n",
            "+-------------------+------------------+\n",
            "only showing top 5 rows\n",
            "\n",
            "Root Mean Squared Error (RMSE) for precipitation_2 on test data = 0.005303009877313366\n",
            "+---------------+--------------------+\n",
            "|precipitation_2|          prediction|\n",
            "+---------------+--------------------+\n",
            "|            0.0|4.968608167013883...|\n",
            "|            0.0|1.839517385580061...|\n",
            "|            0.0|4.968608167013883...|\n",
            "|            0.0|3.634323730553345E-5|\n",
            "|            0.0|2.027717883260423...|\n",
            "+---------------+--------------------+\n",
            "only showing top 5 rows\n",
            "\n",
            "Root Mean Squared Error (RMSE) for wind_speed_2 on test data = 0.014207984222263008\n",
            "+------------------+-------------------+\n",
            "|      wind_speed_2|         prediction|\n",
            "+------------------+-------------------+\n",
            "|0.2897278314310799| 0.2909704432433928|\n",
            "|0.0676031606672519|0.07384484155128808|\n",
            "|0.2906057945566286| 0.2909716739142512|\n",
            "|0.1040386303775241|0.09983358203872904|\n",
            "|0.1949078138718174|0.19540580622427797|\n",
            "+------------------+-------------------+\n",
            "only showing top 5 rows\n",
            "\n",
            "Root Mean Squared Error (RMSE) for wind_direction_2 on test data = 0.02275920963030743\n",
            "+------------------+-------------------+\n",
            "|  wind_direction_2|         prediction|\n",
            "+------------------+-------------------+\n",
            "|0.0163888888888888|0.04662516908110577|\n",
            "|0.5280555555555555| 0.5534307062615546|\n",
            "|0.0247222222222222|0.06563108125748221|\n",
            "|0.6280555555555556| 0.6171984045485192|\n",
            "|0.0497222222222222|0.06566205352551603|\n",
            "+------------------+-------------------+\n",
            "only showing top 5 rows\n",
            "\n"
          ]
        }
      ]
    },
    {
      "cell_type": "markdown",
      "source": [
        "K means clustering"
      ],
      "metadata": {
        "id": "cCs06OnDv2nT"
      }
    },
    {
      "cell_type": "code",
      "source": [
        "assembler = VectorAssembler(inputCols=features, outputCol=\"features\")\n",
        "df = assembler.transform(df)"
      ],
      "metadata": {
        "id": "IV3e95xaSQWj"
      },
      "execution_count": null,
      "outputs": []
    },
    {
      "cell_type": "code",
      "source": [
        "from pyspark.ml.clustering import KMeans\n",
        "\n",
        "\n",
        "k = 5\n",
        "\n",
        "kmeans = KMeans(featuresCol=\"features\", k=k, seed=1)\n",
        "model = kmeans.fit(df.limit(100))\n",
        "\n",
        "predictions = model.transform(df)\n",
        "from pyspark.ml.evaluation import ClusteringEvaluator\n",
        "\n",
        "evaluator = ClusteringEvaluator()\n",
        "\n",
        "silhouette = evaluator.evaluate(predictions)\n",
        "print(\"Silhouette with squared euclidean distance = \" + str(silhouette))\n",
        "\n",
        "centers = model.clusterCenters()\n",
        "print(\"Cluster Centers: \")\n",
        "for center in centers:\n",
        "    print(center)"
      ],
      "metadata": {
        "colab": {
          "base_uri": "https://localhost:8080/"
        },
        "id": "NS1B5x-nv46s",
        "outputId": "73e97f84-b64c-4b51-f7cd-6388c652ca91"
      },
      "execution_count": null,
      "outputs": [
        {
          "output_type": "stream",
          "name": "stdout",
          "text": [
            "Silhouette with squared euclidean distance = 0.21839406744530332\n",
            "Cluster Centers: \n",
            "[ 0.59789852  0.41453254  0.64809885  0.          0.13125549  0.47111111\n",
            "  0.70535687  0.43447381  0.62368789  0.          0.15309482  0.60872685\n",
            " 11.5         6.         11.         11.5         6.         11.        ]\n",
            "[ 0.63613022  0.39810831  0.82660757  0.          0.17028826  0.32834491\n",
            "  0.63639386  0.39800587  0.8248046   0.          0.1659899   0.32421296\n",
            "  1.5         6.         11.          1.5         6.         11.        ]\n",
            "[ 0.68988232  0.40954722  0.72957887  0.          0.08708906  0.56975309\n",
            "  0.61834021  0.39576362  0.81937522  0.          0.10486782  0.4012963\n",
            "  9.          6.         11.          9.          6.         11.        ]\n",
            "[ 0.64693844  0.39504759  0.61712732  0.          0.13129539  0.52863636\n",
            "  0.64691759  0.3968356   0.60907958  0.          0.12818262  0.60515152\n",
            " 14.36363636  6.         11.         14.36363636  6.         11.        ]\n",
            "[ 0.6180269   0.39000717  0.83219113  0.          0.11069652  0.50828704\n",
            "  0.67218019  0.40083146  0.77614786  0.          0.13608428  0.54734954\n",
            "  5.5         6.         11.          5.5         6.         11.        ]\n"
          ]
        }
      ]
    },
    {
      "cell_type": "code",
      "source": [
        "\n",
        "features = [\n",
        "    'air_pressure_1', 'air_temperature_1', 'relative_humidity_1', 'precipitation_1',\n",
        "    'wind_speed_1', 'wind_direction_1', 'air_pressure_2', 'air_temperature_2',\n",
        "    'relative_humidity_2', 'precipitation_2', 'wind_speed_2', 'wind_direction_2',\n",
        "    'hour_2', 'day_of_week_2', 'month_2', 'hour_1', 'day_of_week_1', 'month_1',\n",
        "    'hour_2', 'day_of_week_2', 'month_2'\n",
        "]\n",
        "\n",
        "\n",
        "for i, center in enumerate(centers):\n",
        "    print(f\"Cluster {i+1} Centers:\")\n",
        "    for feature, value in zip(features, center):\n",
        "        print(f\"{feature}: {value:.2f}\")\n",
        "    print(\"\\n\")"
      ],
      "metadata": {
        "colab": {
          "base_uri": "https://localhost:8080/"
        },
        "id": "MT2Do8hlv921",
        "outputId": "68fff843-b2cf-47a8-f8d3-7ce06000625b"
      },
      "execution_count": null,
      "outputs": [
        {
          "output_type": "stream",
          "name": "stdout",
          "text": [
            "Cluster 1 Centers:\n",
            "air_pressure_1: 0.60\n",
            "air_temperature_1: 0.41\n",
            "relative_humidity_1: 0.65\n",
            "precipitation_1: 0.00\n",
            "wind_speed_1: 0.13\n",
            "wind_direction_1: 0.47\n",
            "air_pressure_2: 0.71\n",
            "air_temperature_2: 0.43\n",
            "relative_humidity_2: 0.62\n",
            "precipitation_2: 0.00\n",
            "wind_speed_2: 0.15\n",
            "wind_direction_2: 0.61\n",
            "hour_2: 11.50\n",
            "day_of_week_2: 6.00\n",
            "month_2: 11.00\n",
            "hour_1: 11.50\n",
            "day_of_week_1: 6.00\n",
            "month_1: 11.00\n",
            "\n",
            "\n",
            "Cluster 2 Centers:\n",
            "air_pressure_1: 0.64\n",
            "air_temperature_1: 0.40\n",
            "relative_humidity_1: 0.83\n",
            "precipitation_1: 0.00\n",
            "wind_speed_1: 0.17\n",
            "wind_direction_1: 0.33\n",
            "air_pressure_2: 0.64\n",
            "air_temperature_2: 0.40\n",
            "relative_humidity_2: 0.82\n",
            "precipitation_2: 0.00\n",
            "wind_speed_2: 0.17\n",
            "wind_direction_2: 0.32\n",
            "hour_2: 1.50\n",
            "day_of_week_2: 6.00\n",
            "month_2: 11.00\n",
            "hour_1: 1.50\n",
            "day_of_week_1: 6.00\n",
            "month_1: 11.00\n",
            "\n",
            "\n",
            "Cluster 3 Centers:\n",
            "air_pressure_1: 0.69\n",
            "air_temperature_1: 0.41\n",
            "relative_humidity_1: 0.73\n",
            "precipitation_1: 0.00\n",
            "wind_speed_1: 0.09\n",
            "wind_direction_1: 0.57\n",
            "air_pressure_2: 0.62\n",
            "air_temperature_2: 0.40\n",
            "relative_humidity_2: 0.82\n",
            "precipitation_2: 0.00\n",
            "wind_speed_2: 0.10\n",
            "wind_direction_2: 0.40\n",
            "hour_2: 9.00\n",
            "day_of_week_2: 6.00\n",
            "month_2: 11.00\n",
            "hour_1: 9.00\n",
            "day_of_week_1: 6.00\n",
            "month_1: 11.00\n",
            "\n",
            "\n",
            "Cluster 4 Centers:\n",
            "air_pressure_1: 0.65\n",
            "air_temperature_1: 0.40\n",
            "relative_humidity_1: 0.62\n",
            "precipitation_1: 0.00\n",
            "wind_speed_1: 0.13\n",
            "wind_direction_1: 0.53\n",
            "air_pressure_2: 0.65\n",
            "air_temperature_2: 0.40\n",
            "relative_humidity_2: 0.61\n",
            "precipitation_2: 0.00\n",
            "wind_speed_2: 0.13\n",
            "wind_direction_2: 0.61\n",
            "hour_2: 14.36\n",
            "day_of_week_2: 6.00\n",
            "month_2: 11.00\n",
            "hour_1: 14.36\n",
            "day_of_week_1: 6.00\n",
            "month_1: 11.00\n",
            "\n",
            "\n",
            "Cluster 5 Centers:\n",
            "air_pressure_1: 0.62\n",
            "air_temperature_1: 0.39\n",
            "relative_humidity_1: 0.83\n",
            "precipitation_1: 0.00\n",
            "wind_speed_1: 0.11\n",
            "wind_direction_1: 0.51\n",
            "air_pressure_2: 0.67\n",
            "air_temperature_2: 0.40\n",
            "relative_humidity_2: 0.78\n",
            "precipitation_2: 0.00\n",
            "wind_speed_2: 0.14\n",
            "wind_direction_2: 0.55\n",
            "hour_2: 5.50\n",
            "day_of_week_2: 6.00\n",
            "month_2: 11.00\n",
            "hour_1: 5.50\n",
            "day_of_week_1: 6.00\n",
            "month_1: 11.00\n",
            "\n",
            "\n"
          ]
        }
      ]
    },
    {
      "cell_type": "markdown",
      "source": [
        "Naive bayes classifier"
      ],
      "metadata": {
        "id": "_GGi2qSRwO0-"
      }
    },
    {
      "cell_type": "code",
      "source": [
        "df1=df"
      ],
      "metadata": {
        "id": "L--OfBWKwgJF"
      },
      "execution_count": null,
      "outputs": []
    },
    {
      "cell_type": "code",
      "source": [
        "threshold_temperature = 0.5\n",
        "threshold_airpressure=0.5\n",
        "threshold_relativehumidity=0.5\n",
        "threshold_preciptation=0.5\n",
        "threshold_windspeed=0.5\n",
        "df1 = df1.withColumn(\"high_humidity_2\", (col(\"relative_humidity_2\") > threshold_relativehumidity).cast(\"int\"))\n",
        "df1 = df1.withColumn(\"high_precipitation_1\", (col(\"precipitation_1\") > threshold_preciptation).cast(\"int\"))\n",
        "df1 = df1.withColumn(\"high_precipitation_2\", (col(\"precipitation_2\") > threshold_preciptation).cast(\"int\"))\n",
        "df1 = df1.withColumn(\"high_windspeed_1\", (col(\"wind_speed_1\") > threshold_windspeed).cast(\"int\"))\n",
        "df1 = df1.withColumn(\"high_windspeed_2\", (col(\"wind_speed_2\") > threshold_windspeed).cast(\"int\"))"
      ],
      "metadata": {
        "id": "2PPdeG96wHTa"
      },
      "execution_count": null,
      "outputs": []
    },
    {
      "cell_type": "code",
      "source": [
        "df1 = df1.withColumn(\"high_temperature_1\", (col(\"air_temperature_1\") > threshold_temperature).cast(\"int\"))"
      ],
      "metadata": {
        "id": "biQBdDKpwQ8n"
      },
      "execution_count": null,
      "outputs": []
    },
    {
      "cell_type": "code",
      "source": [
        "df1 = df1.withColumn(\"high_temperature_2\", (col(\"air_temperature_2\") > threshold_temperature).cast(\"int\"))"
      ],
      "metadata": {
        "id": "5DhNxH8mwkJT"
      },
      "execution_count": null,
      "outputs": []
    },
    {
      "cell_type": "code",
      "source": [
        "df1 = df1.withColumn(\"high_pressure_1\", (col(\"air_pressure_1\") > threshold_airpressure).cast(\"int\"))"
      ],
      "metadata": {
        "id": "ItdH6lrmwmNI"
      },
      "execution_count": null,
      "outputs": []
    },
    {
      "cell_type": "code",
      "source": [
        "df1 = df1.withColumn(\"high_pressure_2\", (col(\"air_pressure_2\") > threshold_airpressure).cast(\"int\"))"
      ],
      "metadata": {
        "id": "gL_Fq1XMwo4P"
      },
      "execution_count": null,
      "outputs": []
    },
    {
      "cell_type": "code",
      "source": [
        "df1 = df1.withColumn(\"high_humidity_1\", (col(\"relative_humidity_1\") > threshold_relativehumidity).cast(\"int\"))"
      ],
      "metadata": {
        "id": "vojN25WZwrD0"
      },
      "execution_count": null,
      "outputs": []
    },
    {
      "cell_type": "code",
      "source": [
        "df1.columns"
      ],
      "metadata": {
        "colab": {
          "base_uri": "https://localhost:8080/"
        },
        "id": "KY6tRmbfwtNJ",
        "outputId": "470c15a7-d2da-40e6-84d4-18d8fa65d679"
      },
      "execution_count": null,
      "outputs": [
        {
          "output_type": "execute_result",
          "data": {
            "text/plain": [
              "['timestamp_1',\n",
              " 'code_1',\n",
              " 'air_pressure_1',\n",
              " 'air_temperature_1',\n",
              " 'relative_humidity_1',\n",
              " 'precipitation_1',\n",
              " 'wind_speed_1',\n",
              " 'wind_direction_1',\n",
              " 'timestamp_2',\n",
              " 'tar_timestamp_1',\n",
              " 'tar_timestamp_2',\n",
              " 'code_2',\n",
              " 'tar_code_1',\n",
              " 'tar_code_2',\n",
              " 'air_pressure_2',\n",
              " 'tar_air_pressure_1',\n",
              " 'tar_air_pressure_2',\n",
              " 'air_temperature_2',\n",
              " 'tar_air_temperature_1',\n",
              " 'tar_air_temperature_2',\n",
              " 'relative_humidity_2',\n",
              " 'tar_relative_humidity_1',\n",
              " 'tar_relative_humidity_2',\n",
              " 'precipitation_2',\n",
              " 'tar_precipitation_1',\n",
              " 'tar_precipitation_2',\n",
              " 'wind_speed_2',\n",
              " 'tar_wind_speed_1',\n",
              " 'tar_wind_speed_2',\n",
              " 'wind_direction_2',\n",
              " 'tar_wind_direction_1',\n",
              " 'tar_wind_direction_2',\n",
              " 'hour_1',\n",
              " 'day_of_week_1',\n",
              " 'month_1',\n",
              " 'hour_2',\n",
              " 'day_of_week_2',\n",
              " 'month_2',\n",
              " 'features',\n",
              " 'high_humidity_2',\n",
              " 'high_precipitation_1',\n",
              " 'high_precipitation_2',\n",
              " 'high_windspeed_1',\n",
              " 'high_windspeed_2',\n",
              " 'high_temperature_1',\n",
              " 'high_temperature_2',\n",
              " 'high_pressure_1',\n",
              " 'high_pressure_2',\n",
              " 'high_humidity_1']"
            ]
          },
          "metadata": {},
          "execution_count": 23
        }
      ]
    },
    {
      "cell_type": "code",
      "source": [
        "features = [col for col in df.columns if\n",
        "            not col.startswith('tar_') and\n",
        "            'timestamp' not in col and\n",
        "            'code' not in col and\n",
        "            not col.startswith('air_') and\n",
        "            not col.startswith('wind_') and\n",
        "            not col.startswith('precipitation_') and\n",
        "            not col.startswith('relative_') and\n",
        "            not col.startswith('day_') and\n",
        "            not col.startswith('month_') and\n",
        "            not col.startswith('hour_')\n",
        "            and 'features' not in col]\n"
      ],
      "metadata": {
        "id": "bVFZMkqbwwIG"
      },
      "execution_count": null,
      "outputs": []
    },
    {
      "cell_type": "code",
      "source": [
        "\n",
        "features = [col for col in df1.columns if 'high' in col]\n",
        "\n",
        "df_high_features = df1.select(features)\n",
        "\n",
        "\n",
        "df_high_features.show()"
      ],
      "metadata": {
        "colab": {
          "base_uri": "https://localhost:8080/"
        },
        "id": "xxdnrdn_wzXj",
        "outputId": "5e7a400c-fe63-41f4-dd5a-781bdb38a0f6"
      },
      "execution_count": null,
      "outputs": [
        {
          "output_type": "stream",
          "name": "stdout",
          "text": [
            "+---------------+--------------------+--------------------+----------------+----------------+------------------+------------------+---------------+---------------+---------------+\n",
            "|high_humidity_2|high_precipitation_1|high_precipitation_2|high_windspeed_1|high_windspeed_2|high_temperature_1|high_temperature_2|high_pressure_1|high_pressure_2|high_humidity_1|\n",
            "+---------------+--------------------+--------------------+----------------+----------------+------------------+------------------+---------------+---------------+---------------+\n",
            "|              1|                   0|                   0|               0|               0|                 0|                 0|              1|              0|              1|\n",
            "|              1|                   0|                   0|               0|               0|                 0|                 0|              0|              1|              1|\n",
            "|              1|                   0|                   0|               0|               0|                 0|                 0|              0|              1|              1|\n",
            "|              1|                   0|                   0|               0|               0|                 0|                 0|              1|              0|              1|\n",
            "|              1|                   0|                   0|               0|               0|                 0|                 0|              1|              0|              1|\n",
            "|              1|                   0|                   0|               0|               0|                 0|                 0|              0|              1|              1|\n",
            "|              1|                   0|                   0|               0|               0|                 0|                 0|              1|              0|              1|\n",
            "|              1|                   0|                   0|               0|               0|                 0|                 0|              0|              1|              1|\n",
            "|              1|                   0|                   0|               0|               0|                 0|                 0|              0|              1|              1|\n",
            "|              1|                   0|                   0|               0|               0|                 0|                 0|              1|              0|              1|\n",
            "|              1|                   0|                   0|               0|               0|                 0|                 0|              1|              0|              1|\n",
            "|              1|                   0|                   0|               0|               0|                 0|                 0|              0|              1|              1|\n",
            "|              1|                   0|                   0|               0|               0|                 0|                 0|              1|              0|              1|\n",
            "|              1|                   0|                   0|               0|               0|                 0|                 0|              1|              0|              1|\n",
            "|              1|                   0|                   0|               0|               0|                 0|                 0|              0|              1|              1|\n",
            "|              1|                   0|                   0|               0|               0|                 0|                 0|              0|              1|              1|\n",
            "|              1|                   0|                   0|               0|               0|                 0|                 0|              1|              0|              1|\n",
            "|              1|                   0|                   0|               0|               0|                 0|                 0|              0|              1|              1|\n",
            "|              1|                   0|                   0|               0|               0|                 0|                 0|              1|              0|              1|\n",
            "|              1|                   0|                   0|               0|               0|                 0|                 0|              0|              1|              1|\n",
            "+---------------+--------------------+--------------------+----------------+----------------+------------------+------------------+---------------+---------------+---------------+\n",
            "only showing top 20 rows\n",
            "\n"
          ]
        }
      ]
    },
    {
      "cell_type": "code",
      "source": [
        "binary_features = [\n",
        "    'high_temperature_1', 'high_humidity_1', 'high_windspeed_1',\n",
        "    'high_temperature_2', 'high_humidity_2', 'high_windspeed_2'\n",
        "]\n",
        "\n",
        "\n",
        "assembler = VectorAssembler(inputCols=binary_features, outputCol=\"features\")\n",
        "df_high_features = assembler.transform(df_high_features)\n",
        "\n",
        "\n",
        "df_high_features = df_high_features.withColumn(\"label\", df1[\"high_precipitation_1\"].cast(\"int\"))"
      ],
      "metadata": {
        "id": "Ki3q9pPOw2R4"
      },
      "execution_count": null,
      "outputs": []
    },
    {
      "cell_type": "code",
      "source": [
        "\n",
        "train_data, test_data = df_high_features.randomSplit([0.7, 0.3], seed=1234)"
      ],
      "metadata": {
        "id": "vpP69AQFw6GJ"
      },
      "execution_count": null,
      "outputs": []
    },
    {
      "cell_type": "code",
      "source": [
        "from pyspark.ml.classification import NaiveBayes\n",
        "from pyspark.ml.evaluation import MulticlassClassificationEvaluator"
      ],
      "metadata": {
        "id": "XCZBH7IWw8lz"
      },
      "execution_count": null,
      "outputs": []
    },
    {
      "cell_type": "code",
      "source": [
        "\n",
        "nb = NaiveBayes(modelType=\"bernoulli\")\n",
        "model = nb.fit(train_data)"
      ],
      "metadata": {
        "id": "qGf7Af5Mw-_F"
      },
      "execution_count": null,
      "outputs": []
    },
    {
      "cell_type": "code",
      "source": [
        "\n",
        "predictions = model.transform(test_data)\n",
        "\n",
        "evaluator = MulticlassClassificationEvaluator(labelCol=\"label\", predictionCol=\"prediction\", metricName=\"accuracy\")\n",
        "accuracy = evaluator.evaluate(predictions)\n",
        "print(\"Test set accuracy = \" + str(accuracy))"
      ],
      "metadata": {
        "colab": {
          "base_uri": "https://localhost:8080/"
        },
        "id": "aQnfTptoxBEB",
        "outputId": "27bb7920-8ba8-4630-91ce-1b713767de42"
      },
      "execution_count": null,
      "outputs": [
        {
          "output_type": "stream",
          "name": "stdout",
          "text": [
            "Test set accuracy = 0.9999882119954734\n"
          ]
        }
      ]
    },
    {
      "cell_type": "markdown",
      "source": [
        "Decision tree classifier"
      ],
      "metadata": {
        "id": "29C2yCTsxg10"
      }
    },
    {
      "cell_type": "code",
      "source": [
        "from pyspark.sql import SparkSession\n",
        "from pyspark.ml.feature import VectorAssembler\n",
        "from pyspark.ml.classification import DecisionTreeClassifier\n",
        "from pyspark.ml.evaluation import MulticlassClassificationEvaluator\n",
        "from pyspark.sql import Row"
      ],
      "metadata": {
        "id": "DaW6IvNBxEab"
      },
      "execution_count": null,
      "outputs": []
    },
    {
      "cell_type": "code",
      "source": [
        "feature_columns = [col for col in df.columns if col.startswith(\"air\") or col.startswith(\"relative_humidity\") or col.startswith(\"precipitation\") or col.startswith(\"wind_speed\") or col.startswith(\"wind_direction\")]"
      ],
      "metadata": {
        "id": "SpUA2i1kxi8a"
      },
      "execution_count": null,
      "outputs": []
    },
    {
      "cell_type": "code",
      "source": [],
      "metadata": {
        "id": "ATPK-5jmxwml"
      },
      "execution_count": null,
      "outputs": []
    },
    {
      "cell_type": "code",
      "source": [
        "from pyspark.sql.functions import col\n",
        "\n",
        "\n",
        "if 'features' in df.columns:\n",
        "    df = df.drop('features')\n",
        "\n",
        "\n",
        "assembler = VectorAssembler(inputCols=feature_columns, outputCol=\"features\")\n",
        "data = assembler.transform(df)"
      ],
      "metadata": {
        "id": "JPF3FRosxmLv"
      },
      "execution_count": null,
      "outputs": []
    },
    {
      "cell_type": "code",
      "source": [
        "(training_data, test_data) = data.randomSplit([0.7, 0.3])"
      ],
      "metadata": {
        "id": "h3-1dc7-xpkW"
      },
      "execution_count": null,
      "outputs": []
    },
    {
      "cell_type": "code",
      "source": [
        "dt = DecisionTreeClassifier(labelCol=\"tar_code_1\", featuresCol=\"features\")\n",
        "model = dt.fit(training_data)"
      ],
      "metadata": {
        "id": "3O6ktooGxvAa"
      },
      "execution_count": null,
      "outputs": []
    },
    {
      "cell_type": "code",
      "source": [
        "evaluator = MulticlassClassificationEvaluator(labelCol=\"tar_code_1\", predictionCol=\"prediction\", metricName=\"accuracy\")\n",
        "predictions = model.transform(test_data)\n",
        "accuracy = evaluator.evaluate(predictions)\n",
        "print(\"Test Error = %g\" % (1.0 - accuracy))"
      ],
      "metadata": {
        "colab": {
          "base_uri": "https://localhost:8080/"
        },
        "id": "2RpAc_RMyLZO",
        "outputId": "c38126e3-3f1b-4445-b6a4-eb90d053a440"
      },
      "execution_count": null,
      "outputs": [
        {
          "output_type": "stream",
          "name": "stdout",
          "text": [
            "Test Error = 0.42336\n"
          ]
        }
      ]
    },
    {
      "cell_type": "code",
      "source": [
        "from pyspark.ml.tuning import ParamGridBuilder, CrossValidator"
      ],
      "metadata": {
        "id": "WwgbISBIyZ78"
      },
      "execution_count": null,
      "outputs": []
    },
    {
      "cell_type": "code",
      "source": [
        "param_grid = ParamGridBuilder() \\\n",
        "    .addGrid(dt.maxDepth, [5, 10, 15]) \\\n",
        "    .addGrid(dt.maxBins, [20, 40, 60]) \\\n",
        "    .build()"
      ],
      "metadata": {
        "id": "e_reSuz6ycoB"
      },
      "execution_count": null,
      "outputs": []
    },
    {
      "cell_type": "code",
      "source": [
        "crossval = CrossValidator(estimator=dt,\n",
        "                          estimatorParamMaps=param_grid,\n",
        "                          evaluator=evaluator,\n",
        "                          numFolds=3)"
      ],
      "metadata": {
        "id": "eYLVJK-JyedC"
      },
      "execution_count": null,
      "outputs": []
    },
    {
      "cell_type": "code",
      "source": [
        "cv_model = crossval.fit(training_data)"
      ],
      "metadata": {
        "id": "v0MoMTFEygGO"
      },
      "execution_count": null,
      "outputs": []
    },
    {
      "cell_type": "code",
      "source": [
        "predictions = cv_model.transform(test_data)\n",
        "accuracy = evaluator.evaluate(predictions)\n",
        "print(\"Test Error = %g\" % (1.0 - accuracy))"
      ],
      "metadata": {
        "colab": {
          "base_uri": "https://localhost:8080/"
        },
        "id": "A1odOIKDyiIl",
        "outputId": "1110fd2a-5fb6-45d3-f8ed-01c173b0d53c"
      },
      "execution_count": null,
      "outputs": [
        {
          "output_type": "stream",
          "name": "stdout",
          "text": [
            "Test Error = 0.424559\n"
          ]
        }
      ]
    },
    {
      "cell_type": "code",
      "source": [
        "best_model = cv_model.bestModel\n",
        "print(\"Best Max Depth:\", best_model.getMaxDepth())\n",
        "print(\"Best Max Bins:\", best_model.getMaxBins())"
      ],
      "metadata": {
        "colab": {
          "base_uri": "https://localhost:8080/"
        },
        "id": "GVSKXsZHyo_g",
        "outputId": "1c22eb84-0f96-40cd-a1bc-15677fe106b6"
      },
      "execution_count": null,
      "outputs": [
        {
          "output_type": "stream",
          "name": "stdout",
          "text": [
            "Best Max Depth: 5\n",
            "Best Max Bins: 40\n"
          ]
        }
      ]
    },
    {
      "cell_type": "code",
      "source": [],
      "metadata": {
        "id": "TJ5f58s858MN"
      },
      "execution_count": null,
      "outputs": []
    }
  ]
}